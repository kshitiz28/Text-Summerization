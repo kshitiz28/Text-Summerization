{
 "cells": [
  {
   "cell_type": "code",
   "execution_count": 2,
   "metadata": {},
   "outputs": [],
   "source": [
    "# from sklearn.feature_extraction.text import CountVectorizer\n",
    "# from ntpath import join\n",
    "# import numpy as np\n",
    "# import pandas as pd\n",
    "# from sklearn.decomposition import TruncatedSVD\n",
    "# from gensim.parsing.preprocessing import remove_stopwords\n",
    "# import string\n"
   ]
  },
  {
   "cell_type": "code",
   "execution_count": 52,
   "metadata": {},
   "outputs": [],
   "source": [
    "from sklearn.feature_extraction.text import CountVectorizer\n",
    "from ntpath import join\n",
    "import numpy as np\n",
    "import pandas as pd\n",
    "from sklearn.decomposition import TruncatedSVD\n",
    "from gensim.parsing.preprocessing import remove_stopwords\n",
    "import string\n"
   ]
  },
  {
   "cell_type": "code",
   "execution_count": 53,
   "metadata": {},
   "outputs": [],
   "source": [
    "x='''Abhay is one of the horny motherfuckers in pulchowk campus. It's shocking to see how horny he is.'''\n",
    "\n",
    "x_lower=x.lower()"
   ]
  },
  {
   "cell_type": "code",
   "execution_count": 55,
   "metadata": {},
   "outputs": [
    {
     "data": {
      "text/plain": [
       "['Abhay is one of the horny motherfuckers in pulchowk campus',\n",
       " \" It's shocking to see how horny he is\",\n",
       " '']"
      ]
     },
     "execution_count": 55,
     "metadata": {},
     "output_type": "execute_result"
    }
   ],
   "source": [
    "lines = x.split(\".\")\n",
    "doc_test = []\n",
    "for i in range(len(lines)):\n",
    "    doc_test.append(lines[i].split('.'))\n",
    "\n",
    "final_doc = []\n",
    "for i in range(len(doc_test)):\n",
    "    for j in range(len(doc_test[i])):\n",
    "        final_doc.append(doc_test[i][j])\n",
    "\n",
    "final_doc\n"
   ]
  },
  {
   "cell_type": "code",
   "execution_count": 56,
   "metadata": {},
   "outputs": [
    {
     "data": {
      "text/plain": [
       "['abhay horny motherfuckers pulchowk campus', 'shocking horny', '']"
      ]
     },
     "execution_count": 56,
     "metadata": {},
     "output_type": "execute_result"
    }
   ],
   "source": [
    "lines = x_lower.split(\".\")\n",
    "doc_test=[]\n",
    "for i in range(len(lines)):\n",
    "    doc_test.append(lines[i].split('.'))\n",
    "\n",
    "final_doc1=[]\n",
    "for i in range(len(doc_test)):\n",
    "    for j in range(len(doc_test[i])):\n",
    "        final_doc1.append(doc_test[i][j])\n",
    "\n",
    "\n",
    "without_SandP = []\n",
    "for i in final_doc1:\n",
    "    filtered_sentence = i.translate(str.maketrans('', '', string.punctuation))\n",
    "    without_SandP.append(filtered_sentence)\n",
    "\n",
    "without_stopwords = []\n",
    "for i in without_SandP:\n",
    "    filtered_sentence = remove_stopwords(i)\n",
    "    without_stopwords.append(filtered_sentence)\n",
    "\n",
    "\n",
    "without_stopwords"
   ]
  },
  {
   "cell_type": "code",
   "execution_count": 66,
   "metadata": {},
   "outputs": [],
   "source": [
    "words_after_compression = ['abhay','horny']"
   ]
  },
  {
   "cell_type": "code",
   "execution_count": 67,
   "metadata": {},
   "outputs": [
    {
     "data": {
      "text/plain": [
       "['Abhay is one of the horny motherfuckers in pulchowk campus',\n",
       " 'Abhay is one of the horny motherfuckers in pulchowk campus',\n",
       " \" It's shocking to see how horny he is\"]"
      ]
     },
     "execution_count": 67,
     "metadata": {},
     "output_type": "execute_result"
    }
   ],
   "source": [
    "\n",
    "final_conclusion = []\n",
    "for i in range(len(final_doc)):\n",
    "    for j in range(len(words_after_compression)):\n",
    "        if words_after_compression[j] in final_doc[i].lower():\n",
    "            final_conclusion.append(final_doc[i])\n",
    "\n",
    "final_conclusion\n"
   ]
  }
 ],
 "metadata": {
  "kernelspec": {
   "display_name": "Python 3",
   "language": "python",
   "name": "python3"
  },
  "language_info": {
   "codemirror_mode": {
    "name": "ipython",
    "version": 3
   },
   "file_extension": ".py",
   "mimetype": "text/x-python",
   "name": "python",
   "nbconvert_exporter": "python",
   "pygments_lexer": "ipython3",
   "version": "3.9.6"
  },
  "orig_nbformat": 4,
  "vscode": {
   "interpreter": {
    "hash": "8b2e37b41e001ca1129809f0c88577fc595d7813eddff4f14ec8461c07872299"
   }
  }
 },
 "nbformat": 4,
 "nbformat_minor": 2
}
