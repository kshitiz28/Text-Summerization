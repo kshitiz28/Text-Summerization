{
 "cells": [
  {
   "cell_type": "code",
   "execution_count": 4,
   "metadata": {},
   "outputs": [],
   "source": [
    "from sklearn.feature_extraction.text import CountVectorizer\n",
    "from ntpath import join\n",
    "import numpy as np\n",
    "import pandas as pd\n",
    "from sklearn.decomposition import TruncatedSVD\n",
    "from gensim.parsing.preprocessing import remove_stopwords\n",
    "import string\n"
   ]
  },
  {
   "cell_type": "code",
   "execution_count": 24,
   "metadata": {},
   "outputs": [
    {
     "name": "stderr",
     "output_type": "stream",
     "text": [
      "[nltk_data] Downloading package wordnet to\n",
      "[nltk_data]     C:\\Users\\Kshitiz\\AppData\\Roaming\\nltk_data...\n",
      "[nltk_data]   Package wordnet is already up-to-date!\n"
     ]
    }
   ],
   "source": [
    "import nltk\n",
    "nltk.download('wordnet')\n",
    "from nltk.stem import WordNetLemmatizer\n",
    "lemmatizer = WordNetLemmatizer()\n"
   ]
  },
  {
   "cell_type": "code",
   "execution_count": 23,
   "metadata": {},
   "outputs": [
    {
     "name": "stderr",
     "output_type": "stream",
     "text": [
      "[nltk_data] Downloading package omw-1.4 to\n",
      "[nltk_data]     C:\\Users\\Kshitiz\\AppData\\Roaming\\nltk_data...\n"
     ]
    },
    {
     "data": {
      "text/plain": [
       "True"
      ]
     },
     "execution_count": 23,
     "metadata": {},
     "output_type": "execute_result"
    }
   ],
   "source": [
    "import nltk\n",
    "nltk.download('omw-1.4')"
   ]
  },
  {
   "cell_type": "code",
   "execution_count": 25,
   "metadata": {},
   "outputs": [],
   "source": [
    "sample_str = \"\"\"It's The World Soil Day is being observed today globally as well as in Nepal with the objective of raising public awareness on the significance of healthy soil and for the sustainable management of the soil fertility.The United Nations General Assembly had in December 2013 declared December 5, 2014 as the World Soil Day and it was formally marked throughout the world since then. Nepal has been observing the Day since 2015. The theme of the World Soil Day this year is 'Soils: where food begins.' Soil is at the heart of all agricultural activities, food security, nutrition security and climate conservation.\n",
    "The World Soil Day programme reiterates the importance of soil for mankind and the crucial need for its conservation and proper management while at the same time increasing its fertility, the Department of Agriculture said.Director General of the Department, Dr Rewati Raman Poudel said that the debate about food and nutritional security, sustainable agriculture development, conservation of bio-diversity and organic agriculture will have no meaning without the conservation, promotion and proper management of soil.\n",
    "The soil fertility is deteriorating throughout the world including in Nepal in the recent years with the declining physical, chemical and biological features of the soil. Therefore, this problem of declining soil fertility has been taken as the common global problem.\n",
    "Poudel said the World Soil Day is being marked with the main goal of raising extensive public awareness to tackle this growing problem of loss in soil fertility.\n",
    "The World Soil Day is being celebrated at the national level today in Nepal amidst various programmes under the aegis of the Department, Central Agricultural Laboratory, the National Soil Science Research Centre (NARC), Food and Nutrition Security Improvement Project, Rural Enterprises and Economic Development Project, United Nations, Food and Agriculture Organization and the Nepalese Society of Soil Science.\n",
    "The UN has said that over the last 70 years, the level of vitamins and nutrients in food has drastically decreased, and it is estimated that 2 billion people worldwide suffer from lack of micronutrients, known as hidden hunger because it is difficult to detect.\n",
    "Soil degradation induces some soils to be nutrient depleted losing their capacity to support crops, while others have such a high nutrient concentration that represent a toxic environment to plants and animals, pollutes the environment and cause climate change.\n",
    "World Soil Day 2022 and its campaign \"Soils: Where food begins\" aims to raise awareness of the importance of maintaining healthy ecosystems and human well-being by addressing the growing challenges in soil management, increasing soil awareness and encouraging societies to improve soil health.\n",
    "\"\"\"\n"
   ]
  },
  {
   "cell_type": "code",
   "execution_count": 26,
   "metadata": {},
   "outputs": [],
   "source": [
    "str_lower = sample_str.lower()\n"
   ]
  },
  {
   "cell_type": "code",
   "execution_count": 36,
   "metadata": {},
   "outputs": [
    {
     "name": "stdout",
     "output_type": "stream",
     "text": [
      "['world soil day observed today globally nepal objective raising public awareness significance healthy soil sustainable management soil fertility', 'united nations general assembly december 2013 declared december 5 2014 world soil day formally marked world', 'nepal observing day 2015', 'theme world soil day year soils food begins', 'soil heart agricultural activities food security nutrition security climate conservation', 'world soil day programme reiterates importance soil mankind crucial need conservation proper management time increasing fertility department agriculture said', 'director general department dr rewati raman poudel said debate food nutritional security sustainable agriculture development conservation biodiversity organic agriculture meaning conservation promotion proper management soil', 'soil fertility deteriorating world including nepal recent years declining physical chemical biological features soil', 'problem declining soil fertility taken common global problem', 'poudel said world soil day marked main goal raising extensive public awareness tackle growing problem loss soil fertility', 'world soil day celebrated national level today nepal amidst programmes aegis department central agricultural laboratory national soil science research centre narc food nutrition security improvement project rural enterprises economic development project united nations food agriculture organization nepalese society soil science', 'said 70 years level vitamins nutrients food drastically decreased estimated 2 billion people worldwide suffer lack micronutrients known hidden hunger difficult detect', 'soil degradation induces soils nutrient depleted losing capacity support crops high nutrient concentration represent toxic environment plants animals pollutes environment cause climate change', 'world soil day 2022 campaign soils food begins aims raise awareness importance maintaining healthy ecosystems human wellbeing addressing growing challenges soil management increasing soil awareness encouraging societies improve soil health', '']\n"
     ]
    }
   ],
   "source": [
    "lines = str_lower.split(\".\")\n",
    "doc_test = []\n",
    "for i in range(len(lines)):\n",
    "    doc_test.append(lines[i].split('.'))\n",
    "\n",
    "final_doc1 = []\n",
    "for i in range(len(doc_test)):\n",
    "    for j in range(len(doc_test[i])):\n",
    "        final_doc1.append(doc_test[i][j])\n",
    "\n",
    "\n",
    "without_P = []\n",
    "for i in final_doc1:\n",
    "    filtered_sentence = i.translate(str.maketrans('', '', string.punctuation))\n",
    "    without_P.append(filtered_sentence)\n",
    "\n",
    "# with_lemm = []\n",
    "# for i in without_P:\n",
    "#     word_list = i.split(\" \")\n",
    "#     lemmatized_output = ' '.join([lemmatizer.lemmatize(w) for w in word_list])\n",
    "#     with_lemm.append(lemmatized_output)\n",
    "\n",
    "\n",
    "without_stopwords = []\n",
    "for i in without_P:\n",
    "    filtered_sentence = remove_stopwords(i)\n",
    "    without_stopwords.append(filtered_sentence)\n",
    "\n",
    "print(without_stopwords)\n"
   ]
  }
 ],
 "metadata": {
  "kernelspec": {
   "display_name": "Python 3",
   "language": "python",
   "name": "python3"
  },
  "language_info": {
   "codemirror_mode": {
    "name": "ipython",
    "version": 3
   },
   "file_extension": ".py",
   "mimetype": "text/x-python",
   "name": "python",
   "nbconvert_exporter": "python",
   "pygments_lexer": "ipython3",
   "version": "3.9.6"
  },
  "orig_nbformat": 4,
  "vscode": {
   "interpreter": {
    "hash": "8b2e37b41e001ca1129809f0c88577fc595d7813eddff4f14ec8461c07872299"
   }
  }
 },
 "nbformat": 4,
 "nbformat_minor": 2
}
