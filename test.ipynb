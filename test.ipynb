{
 "cells": [
  {
   "cell_type": "code",
   "execution_count": 1,
   "metadata": {},
   "outputs": [],
   "source": [
    "import string\n",
    "from sklearn.feature_extraction.text import CountVectorizer\n",
    "from ntpath import join\n",
    "import numpy as np\n",
    "import pandas as pd\n",
    "from sklearn.decomposition import TruncatedSVD\n",
    "from gensim.parsing.preprocessing import remove_stopwords\n"
   ]
  },
  {
   "cell_type": "code",
   "execution_count": 7,
   "metadata": {},
   "outputs": [
    {
     "data": {
      "text/plain": [
       "['The World Soil Day observed today globally Nepal objective raising public awareness significance healthy soil sustainable management soil fertility',\n",
       " 'The United Nations General Assembly December 2013 declared December 5, 2014 World Soil Day formally marked world',\n",
       " 'Nepal observing Day 2015',\n",
       " \"The theme World Soil Day year 'Soils: food begins\",\n",
       " \"' Soil heart agricultural activities, food security, nutrition security climate conservation\",\n",
       " 'The World Soil Day programme reiterates importance soil mankind crucial need conservation proper management time increasing fertility, Department Agriculture said',\n",
       " 'Director General Department, Dr Rewati Raman Poudel said debate food nutritional security, sustainable agriculture development, conservation bio-diversity organic agriculture meaning conservation, promotion proper management soil',\n",
       " 'The soil fertility deteriorating world including Nepal recent years declining physical, chemical biological features soil',\n",
       " 'Therefore, problem declining soil fertility taken common global problem',\n",
       " 'Poudel said World Soil Day marked main goal raising extensive public awareness tackle growing problem loss soil fertility',\n",
       " 'The World Soil Day celebrated national level today Nepal amidst programmes aegis Department, Central Agricultural Laboratory, National Soil Science Research Centre (NARC), Food Nutrition Security Improvement Project, Rural Enterprises Economic Development Project, United Nations, Food Agriculture Organization Nepalese Society Soil Science',\n",
       " 'The UN said 70 years, level vitamins nutrients food drastically decreased, estimated 2 billion people worldwide suffer lack micronutrients, known hidden hunger difficult detect',\n",
       " 'Soil degradation induces soils nutrient depleted losing capacity support crops, high nutrient concentration represent toxic environment plants animals, pollutes environment cause climate change',\n",
       " 'World Soil Day 2022 campaign \"Soils: Where food begins\" aims raise awareness importance maintaining healthy ecosystems human well-being addressing growing challenges soil management, increasing soil awareness encouraging societies improve soil health',\n",
       " '']"
      ]
     },
     "execution_count": 7,
     "metadata": {},
     "output_type": "execute_result"
    }
   ],
   "source": [
    "with open(\"sample.txt\") as file_in:\n",
    "    lines = []\n",
    "    for line in file_in:\n",
    "        lines.append(line)\n",
    "doc_test = []\n",
    "for i in range(len(lines)):\n",
    "    doc_test.append(lines[i].split('.'))\n",
    "\n",
    "final_doc = []\n",
    "for i in range(len(doc_test)):\n",
    "    for j in range(len(doc_test[i])):\n",
    "        final_doc.append(doc_test[i][j])\n",
    "\n",
    "without_stopwords = []\n",
    "for i in final_doc:\n",
    "    semi_filtered_sentence = remove_stopwords(i)\n",
    "    without_stopwords.append(semi_filtered_sentence)\n",
    "\n",
    "without_stopwords\n"
   ]
  },
  {
   "cell_type": "code",
   "execution_count": 5,
   "metadata": {},
   "outputs": [
    {
     "data": {
      "text/plain": [
       "['The World Soil Day observed today globally Nepal objective raising public awareness significance healthy soil sustainable management soil fertility',\n",
       " 'The United Nations General Assembly December 2013 declared December 5 2014 World Soil Day formally marked world',\n",
       " 'Nepal observing Day 2015',\n",
       " 'The theme World Soil Day year Soils food begins',\n",
       " ' Soil heart agricultural activities food security nutrition security climate conservation',\n",
       " 'The World Soil Day programme reiterates importance soil mankind crucial need conservation proper management time increasing fertility Department Agriculture said',\n",
       " 'Director General Department Dr Rewati Raman Poudel said debate food nutritional security sustainable agriculture development conservation biodiversity organic agriculture meaning conservation promotion proper management soil',\n",
       " 'The soil fertility deteriorating world including Nepal recent years declining physical chemical biological features soil',\n",
       " 'Therefore problem declining soil fertility taken common global problem',\n",
       " 'Poudel said World Soil Day marked main goal raising extensive public awareness tackle growing problem loss soil fertility',\n",
       " 'The World Soil Day celebrated national level today Nepal amidst programmes aegis Department Central Agricultural Laboratory National Soil Science Research Centre NARC Food Nutrition Security Improvement Project Rural Enterprises Economic Development Project United Nations Food Agriculture Organization Nepalese Society Soil Science',\n",
       " 'The UN said 70 years level vitamins nutrients food drastically decreased estimated 2 billion people worldwide suffer lack micronutrients known hidden hunger difficult detect',\n",
       " 'Soil degradation induces soils nutrient depleted losing capacity support crops high nutrient concentration represent toxic environment plants animals pollutes environment cause climate change',\n",
       " 'World Soil Day 2022 campaign Soils Where food begins aims raise awareness importance maintaining healthy ecosystems human wellbeing addressing growing challenges soil management increasing soil awareness encouraging societies improve soil health',\n",
       " '']"
      ]
     },
     "execution_count": 5,
     "metadata": {},
     "output_type": "execute_result"
    }
   ],
   "source": [
    "without_SandP=[]\n",
    "for i in without_stopwords:\n",
    "    filtered_sentence = i.translate(str.maketrans('', '', string.punctuation))\n",
    "    without_SandP.append(filtered_sentence)\n",
    "\n",
    "without_SandP"
   ]
  },
  {
   "cell_type": "code",
   "execution_count": 2,
   "metadata": {},
   "outputs": [
    {
     "data": {
      "text/plain": [
       "'hi what is the weather like'"
      ]
     },
     "execution_count": 2,
     "metadata": {},
     "output_type": "execute_result"
    }
   ],
   "source": [
    "a_string = '!hi. wh?at is the weat[h]er lik?e.'\n",
    "new_string = a_string.translate(str.maketrans('', '', string.punctuation))\n",
    "new_string"
   ]
  },
  {
   "cell_type": "code",
   "execution_count": null,
   "metadata": {},
   "outputs": [],
   "source": []
  },
  {
   "cell_type": "code",
   "execution_count": 1,
   "metadata": {},
   "outputs": [],
   "source": [
    "with open(\"final_output.txt\") as file_in:\n",
    "    lines = []\n",
    "    for line in file_in:\n",
    "        lines.append(line)\n",
    "doc_test = []\n",
    "for i in range(len(lines)):\n",
    "    doc_test.append(lines[i].split('.'))\n",
    "\n",
    "final_doc = []\n",
    "for i in range(len(doc_test)):\n",
    "    for j in range(len(doc_test[i])):\n",
    "        final_doc.append(doc_test[i][j])\n",
    "\n"
   ]
  },
  {
   "cell_type": "code",
   "execution_count": null,
   "metadata": {},
   "outputs": [],
   "source": [
    "#for puncuation removal"
   ]
  },
  {
   "cell_type": "code",
   "execution_count": 2,
   "metadata": {},
   "outputs": [
    {
     "data": {
      "text/plain": [
       "['The soil fertility is deteriorating throughout the world including in Nepal in the recent years with the declining physical, chemical and biological features of the soil\\n',\n",
       " 'The World Soil Day is being celebrated at the national level today in Nepal amidst various programmes under the aegis of the Department, Central Agricultural Laboratory, the National Soil Science Research Centre (NARC), Food and Nutrition Security Improvement Project, Rural Enterprises and Economic Development Project, United Nations, Food and Agriculture Organization and the Nepalese Society of Soil Science\\n',\n",
       " 'The United Nations General Assembly had in December 2013 declared December 5, 2014 as the World Soil Day and it was formally marked throughout the world since then\\n',\n",
       " 'Soil degradation induces some soils to be nutrient depleted losing their capacity to support crops, while others have such a high nutrient concentration that represent a toxic environment to plants and animals, pollutes the environment and cause climate change\\n',\n",
       " \" The theme of the World Soil Day this year is 'Soils: where food begins\\n\",\n",
       " ' Therefore, this problem of declining soil fertility has been taken as the common global problem\\n',\n",
       " 'Poudel said the World Soil Day is being marked with the main goal of raising extensive public awareness to tackle this growing problem of loss in soil fertility\\n',\n",
       " 'The UN has said that over the last 70 years, the level of vitamins and nutrients in food has drastically decreased, and it is estimated that 2 billion people worldwide suffer from lack of micronutrients, known as hidden hunger because it is difficult to detect\\n',\n",
       " \"' Soil is at the heart of all agricultural activities, food security, nutrition security and climate conservation\\n\",\n",
       " ' The World Soil Day programme reiterates the importance of soil for mankind and the crucial need for its conservation and proper management while at the same time increasing its fertility, the Department of Agriculture said\\n',\n",
       " 'World Soil Day 2022 and its campaign \"Soils: Where food begins\" aims to raise awareness of the importance of maintaining healthy ecosystems and human well-being by addressing the growing challenges in soil management, increasing soil awareness and encouraging societies to improve soil health\\n',\n",
       " 'Director General of the Department, Dr Rewati Raman Poudel said that the debate about food and nutritional security, sustainable agriculture development, conservation of bio-diversity and organic agriculture will have no meaning without the conservation, promotion and proper management of soil\\n',\n",
       " 'The World Soil Day is being observed today globally as well as in Nepal with the objective of raising public awareness on the significance of healthy soil and for the sustainable management of the soil fertility\\n']"
      ]
     },
     "execution_count": 2,
     "metadata": {},
     "output_type": "execute_result"
    }
   ],
   "source": [
    "final_doc\n"
   ]
  },
  {
   "cell_type": "code",
   "execution_count": 9,
   "metadata": {},
   "outputs": [
    {
     "name": "stdout",
     "output_type": "stream",
     "text": [
      "The soil fertility is deteriorating throughout the world including in Nepal in the recent years with the declining physical, chemical and biological features of the soil\n",
      "The World Soil Day is being celebrated at the national level today in Nepal amidst various programmes under the aegis of the Department, Central Agricultural Laboratory, the National Soil Science Research Centre (NARC), Food and Nutrition Security Improvement Project, Rural Enterprises and Economic Development Project, United Nations, Food and Agriculture Organization and the Nepalese Society of Soil Science\n",
      "\n",
      "The World Soil Day is being celebrated at the national level today in Nepal amidst various programmes under the aegis of the Department, Central Agricultural Laboratory, the National Soil Science Research Centre (NARC), Food and Nutrition Security Improvement Project, Rural Enterprises and Economic Development Project, United Nations, Food and Agriculture Organization and the Nepalese Society of Soil Science\n",
      "The United Nations General Assembly had in December 2013 declared December 5, 2014 as the World Soil Day and it was formally marked throughout the world since then\n",
      "\n",
      "The United Nations General Assembly had in December 2013 declared December 5, 2014 as the World Soil Day and it was formally marked throughout the world since then\n",
      "Soil degradation induces some soils to be nutrient depleted losing their capacity to support crops, while others have such a high nutrient concentration that represent a toxic environment to plants and animals, pollutes the environment and cause climate change\n",
      "\n",
      "Soil degradation induces some soils to be nutrient depleted losing their capacity to support crops, while others have such a high nutrient concentration that represent a toxic environment to plants and animals, pollutes the environment and cause climate change\n",
      " The theme of the World Soil Day this year is 'Soils: where food begins\n",
      "\n",
      " The theme of the World Soil Day this year is 'Soils: where food begins\n",
      " Therefore, this problem of declining soil fertility has been taken as the common global problem\n",
      "\n",
      " Therefore, this problem of declining soil fertility has been taken as the common global problem\n",
      "Poudel said the World Soil Day is being marked with the main goal of raising extensive public awareness to tackle this growing problem of loss in soil fertility\n",
      "\n",
      "Poudel said the World Soil Day is being marked with the main goal of raising extensive public awareness to tackle this growing problem of loss in soil fertility\n",
      "The UN has said that over the last 70 years, the level of vitamins and nutrients in food has drastically decreased, and it is estimated that 2 billion people worldwide suffer from lack of micronutrients, known as hidden hunger because it is difficult to detect\n",
      "\n",
      "The UN has said that over the last 70 years, the level of vitamins and nutrients in food has drastically decreased, and it is estimated that 2 billion people worldwide suffer from lack of micronutrients, known as hidden hunger because it is difficult to detect\n",
      "' Soil is at the heart of all agricultural activities, food security, nutrition security and climate conservation\n",
      "\n",
      "' Soil is at the heart of all agricultural activities, food security, nutrition security and climate conservation\n",
      " The World Soil Day programme reiterates the importance of soil for mankind and the crucial need for its conservation and proper management while at the same time increasing its fertility, the Department of Agriculture said\n",
      "\n",
      " The World Soil Day programme reiterates the importance of soil for mankind and the crucial need for its conservation and proper management while at the same time increasing its fertility, the Department of Agriculture said\n",
      "World Soil Day 2022 and its campaign \"Soils: Where food begins\" aims to raise awareness of the importance of maintaining healthy ecosystems and human well-being by addressing the growing challenges in soil management, increasing soil awareness and encouraging societies to improve soil health\n",
      "\n",
      "World Soil Day 2022 and its campaign \"Soils: Where food begins\" aims to raise awareness of the importance of maintaining healthy ecosystems and human well-being by addressing the growing challenges in soil management, increasing soil awareness and encouraging societies to improve soil health\n",
      "Director General of the Department, Dr Rewati Raman Poudel said that the debate about food and nutritional security, sustainable agriculture development, conservation of bio-diversity and organic agriculture will have no meaning without the conservation, promotion and proper management of soil\n",
      "\n",
      "Director General of the Department, Dr Rewati Raman Poudel said that the debate about food and nutritional security, sustainable agriculture development, conservation of bio-diversity and organic agriculture will have no meaning without the conservation, promotion and proper management of soil\n",
      "The World Soil Day is being observed today globally as well as in Nepal with the objective of raising public awareness on the significance of healthy soil and for the sustainable management of the soil fertility\n",
      "\n"
     ]
    }
   ],
   "source": [
    "#making list to be sent to model\n",
    "len(final_doc)\n",
    "for i in range(len(final_doc)):\n",
    "    if i+1 < len(final_doc):\n",
    "        in_to_model= final_doc[i]+final_doc[i+1]\n",
    "        print(in_to_model)"
   ]
  }
 ],
 "metadata": {
  "kernelspec": {
   "display_name": "Python 3",
   "language": "python",
   "name": "python3"
  },
  "language_info": {
   "codemirror_mode": {
    "name": "ipython",
    "version": 3
   },
   "file_extension": ".py",
   "mimetype": "text/x-python",
   "name": "python",
   "nbconvert_exporter": "python",
   "pygments_lexer": "ipython3",
   "version": "3.9.6"
  },
  "orig_nbformat": 4,
  "vscode": {
   "interpreter": {
    "hash": "8b2e37b41e001ca1129809f0c88577fc595d7813eddff4f14ec8461c07872299"
   }
  }
 },
 "nbformat": 4,
 "nbformat_minor": 2
}
