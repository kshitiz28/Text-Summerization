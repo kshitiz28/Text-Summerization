{
 "cells": [
  {
   "cell_type": "code",
   "execution_count": 1,
   "metadata": {},
   "outputs": [],
   "source": [
    "from sklearn.feature_extraction.text import CountVectorizer\n",
    "from ntpath import join\n",
    "import numpy as np\n",
    "import pandas as pd\n",
    "from sklearn.decomposition import TruncatedSVD\n",
    "from gensim.parsing.preprocessing import remove_stopwords\n",
    "import string\n"
   ]
  },
  {
   "cell_type": "code",
   "execution_count": 2,
   "metadata": {},
   "outputs": [
    {
     "data": {
      "text/plain": [
       "['The World Soil Day observed today globally Nepal objective raising public awareness significance healthy soil sustainable management soil fertility',\n",
       " 'The United Nations General Assembly December 2013 declared December 5 2014 World Soil Day formally marked world',\n",
       " 'Nepal observing Day 2015',\n",
       " 'The theme World Soil Day year Soils food begins',\n",
       " ' Soil heart agricultural activities food security nutrition security climate conservation',\n",
       " 'The World Soil Day programme reiterates importance soil mankind crucial need conservation proper management time increasing fertility Department Agriculture said',\n",
       " 'Director General Department Dr Rewati Raman Poudel said debate food nutritional security sustainable agriculture development conservation biodiversity organic agriculture meaning conservation promotion proper management soil',\n",
       " 'The soil fertility deteriorating world including Nepal recent years declining physical chemical biological features soil',\n",
       " 'Therefore problem declining soil fertility taken common global problem',\n",
       " 'Poudel said World Soil Day marked main goal raising extensive public awareness tackle growing problem loss soil fertility',\n",
       " 'The World Soil Day celebrated national level today Nepal amidst programmes aegis Department Central Agricultural Laboratory National Soil Science Research Centre NARC Food Nutrition Security Improvement Project Rural Enterprises Economic Development Project United Nations Food Agriculture Organization Nepalese Society Soil Science',\n",
       " 'The UN said 70 years level vitamins nutrients food drastically decreased estimated 2 billion people worldwide suffer lack micronutrients known hidden hunger difficult detect',\n",
       " 'Soil degradation induces soils nutrient depleted losing capacity support crops high nutrient concentration represent toxic environment plants animals pollutes environment cause climate change',\n",
       " 'World Soil Day 2022 campaign Soils Where food begins aims raise awareness importance maintaining healthy ecosystems human wellbeing addressing growing challenges soil management increasing soil awareness encouraging societies improve soil health',\n",
       " '']"
      ]
     },
     "execution_count": 2,
     "metadata": {},
     "output_type": "execute_result"
    }
   ],
   "source": [
    "with open(\"sample.txt\") as file_in:\n",
    "    lines = []\n",
    "    for line in file_in:\n",
    "        lines.append(line)\n",
    "doc_test=[]\n",
    "for i in range(len(lines)):\n",
    "    doc_test.append(lines[i].split('.'))\n",
    "\n",
    "final_doc=[]\n",
    "for i in range(len(doc_test)):\n",
    "    for j in range(len(doc_test[i])):\n",
    "        final_doc.append(doc_test[i][j])\n",
    "\n",
    "without_stopwords=[]\n",
    "for i in final_doc:\n",
    "    filtered_sentence=remove_stopwords(i)\n",
    "    without_stopwords.append(filtered_sentence)\n",
    "\n",
    "without_SandP = []\n",
    "for i in without_stopwords:\n",
    "    filtered_sentence = i.translate(str.maketrans('', '', string.punctuation))\n",
    "    without_SandP.append(filtered_sentence)\n",
    "\n",
    "without_SandP\n"
   ]
  },
  {
   "cell_type": "code",
   "execution_count": 3,
   "metadata": {},
   "outputs": [],
   "source": [
    "# Converting each document into an vector\n",
    "vectorizer = CountVectorizer()\n",
    "\n",
    "bag_of_words = vectorizer.fit_transform(without_SandP)\n"
   ]
  },
  {
   "cell_type": "code",
   "execution_count": 4,
   "metadata": {},
   "outputs": [
    {
     "data": {
      "text/plain": [
       "matrix([[0, 0, 0, ..., 0, 0, 0],\n",
       "        [1, 1, 0, ..., 0, 0, 0],\n",
       "        [0, 0, 1, ..., 0, 0, 0],\n",
       "        ...,\n",
       "        [0, 0, 0, ..., 0, 0, 0],\n",
       "        [0, 0, 0, ..., 0, 0, 0],\n",
       "        [0, 0, 0, ..., 0, 0, 0]], dtype=int64)"
      ]
     },
     "execution_count": 4,
     "metadata": {},
     "output_type": "execute_result"
    }
   ],
   "source": [
    "# print(bag_of_words)\n",
    "\n",
    "bag_of_words.todense()\n",
    "\n",
    "# print(bag_of_words.todense())\n"
   ]
  },
  {
   "cell_type": "code",
   "execution_count": 5,
   "metadata": {},
   "outputs": [],
   "source": [
    "# Singular value decomposition\n",
    "# This process encodes our original data into topic encoded data\n",
    "svd = TruncatedSVD(n_components=1)\n",
    "lsa = svd.fit_transform(bag_of_words)\n"
   ]
  },
  {
   "cell_type": "code",
   "execution_count": 6,
   "metadata": {},
   "outputs": [
    {
     "data": {
      "text/html": [
       "<div>\n",
       "<style scoped>\n",
       "    .dataframe tbody tr th:only-of-type {\n",
       "        vertical-align: middle;\n",
       "    }\n",
       "\n",
       "    .dataframe tbody tr th {\n",
       "        vertical-align: top;\n",
       "    }\n",
       "\n",
       "    .dataframe thead th {\n",
       "        text-align: right;\n",
       "    }\n",
       "</style>\n",
       "<table border=\"1\" class=\"dataframe\">\n",
       "  <thead>\n",
       "    <tr style=\"text-align: right;\">\n",
       "      <th></th>\n",
       "      <th>without_stopwords</th>\n",
       "      <th>topic1</th>\n",
       "    </tr>\n",
       "  </thead>\n",
       "  <tbody>\n",
       "    <tr>\n",
       "      <th>0</th>\n",
       "      <td>The World Soil Day observed today globally Nep...</td>\n",
       "      <td>3.714733</td>\n",
       "    </tr>\n",
       "    <tr>\n",
       "      <th>1</th>\n",
       "      <td>The United Nations General Assembly December 2...</td>\n",
       "      <td>2.004657</td>\n",
       "    </tr>\n",
       "    <tr>\n",
       "      <th>2</th>\n",
       "      <td>Nepal observing Day 2015</td>\n",
       "      <td>0.342729</td>\n",
       "    </tr>\n",
       "    <tr>\n",
       "      <th>3</th>\n",
       "      <td>The theme World Soil Day year 'Soils: food begins</td>\n",
       "      <td>1.723304</td>\n",
       "    </tr>\n",
       "    <tr>\n",
       "      <th>4</th>\n",
       "      <td>' Soil heart agricultural activities, food sec...</td>\n",
       "      <td>1.341709</td>\n",
       "    </tr>\n",
       "    <tr>\n",
       "      <th>5</th>\n",
       "      <td>The World Soil Day programme reiterates import...</td>\n",
       "      <td>3.037662</td>\n",
       "    </tr>\n",
       "    <tr>\n",
       "      <th>6</th>\n",
       "      <td>Director General Department, Dr Rewati Raman P...</td>\n",
       "      <td>2.169059</td>\n",
       "    </tr>\n",
       "    <tr>\n",
       "      <th>7</th>\n",
       "      <td>The soil fertility deteriorating world includi...</td>\n",
       "      <td>2.241480</td>\n",
       "    </tr>\n",
       "    <tr>\n",
       "      <th>8</th>\n",
       "      <td>Therefore, problem declining soil fertility ta...</td>\n",
       "      <td>0.954158</td>\n",
       "    </tr>\n",
       "    <tr>\n",
       "      <th>9</th>\n",
       "      <td>Poudel said World Soil Day marked main goal ra...</td>\n",
       "      <td>2.657310</td>\n",
       "    </tr>\n",
       "    <tr>\n",
       "      <th>10</th>\n",
       "      <td>The World Soil Day celebrated national level t...</td>\n",
       "      <td>5.487733</td>\n",
       "    </tr>\n",
       "    <tr>\n",
       "      <th>11</th>\n",
       "      <td>The UN said 70 years, level vitamins nutrients...</td>\n",
       "      <td>0.660023</td>\n",
       "    </tr>\n",
       "    <tr>\n",
       "      <th>12</th>\n",
       "      <td>Soil degradation induces soils nutrient deplet...</td>\n",
       "      <td>1.005693</td>\n",
       "    </tr>\n",
       "    <tr>\n",
       "      <th>13</th>\n",
       "      <td>World Soil Day 2022 campaign \"Soils: Where foo...</td>\n",
       "      <td>5.018044</td>\n",
       "    </tr>\n",
       "    <tr>\n",
       "      <th>14</th>\n",
       "      <td></td>\n",
       "      <td>0.000000</td>\n",
       "    </tr>\n",
       "  </tbody>\n",
       "</table>\n",
       "</div>"
      ],
      "text/plain": [
       "                                    without_stopwords    topic1\n",
       "0   The World Soil Day observed today globally Nep...  3.714733\n",
       "1   The United Nations General Assembly December 2...  2.004657\n",
       "2                            Nepal observing Day 2015  0.342729\n",
       "3   The theme World Soil Day year 'Soils: food begins  1.723304\n",
       "4   ' Soil heart agricultural activities, food sec...  1.341709\n",
       "5   The World Soil Day programme reiterates import...  3.037662\n",
       "6   Director General Department, Dr Rewati Raman P...  2.169059\n",
       "7   The soil fertility deteriorating world includi...  2.241480\n",
       "8   Therefore, problem declining soil fertility ta...  0.954158\n",
       "9   Poudel said World Soil Day marked main goal ra...  2.657310\n",
       "10  The World Soil Day celebrated national level t...  5.487733\n",
       "11  The UN said 70 years, level vitamins nutrients...  0.660023\n",
       "12  Soil degradation induces soils nutrient deplet...  1.005693\n",
       "13  World Soil Day 2022 campaign \"Soils: Where foo...  5.018044\n",
       "14                                                     0.000000"
      ]
     },
     "execution_count": 6,
     "metadata": {},
     "output_type": "execute_result"
    }
   ],
   "source": [
    "# Using pandas to look at the output of lsa\n",
    "\n",
    "topic_encoded_df = pd.DataFrame(lsa, columns=[\"topic1\"])\n",
    "topic_encoded_df[\"without_stopwords\"] = without_stopwords\n",
    "topic_encoded_df[[\"without_stopwords\", \"topic1\"]]\n"
   ]
  },
  {
   "cell_type": "code",
   "execution_count": 7,
   "metadata": {},
   "outputs": [
    {
     "name": "stdout",
     "output_type": "stream",
     "text": [
      "['2013', '2014', '2015', '2022', '70', 'activities', 'addressing', 'aegis', 'agricultural', 'agriculture', 'aims', 'amidst', 'animals', 'assembly', 'awareness', 'begins', 'billion', 'biodiversity', 'biological', 'campaign', 'capacity', 'cause', 'celebrated', 'central', 'centre', 'challenges', 'change', 'chemical', 'climate', 'common', 'concentration', 'conservation', 'crops', 'crucial', 'day', 'debate', 'december', 'declared', 'declining', 'decreased', 'degradation', 'department', 'depleted', 'detect', 'deteriorating', 'development', 'difficult', 'director', 'dr', 'drastically', 'economic', 'ecosystems', 'encouraging', 'enterprises', 'environment', 'estimated', 'extensive', 'features', 'fertility', 'food', 'formally', 'general', 'global', 'globally', 'goal', 'growing', 'health', 'healthy', 'heart', 'hidden', 'high', 'human', 'hunger', 'importance', 'improve', 'improvement', 'including', 'increasing', 'induces', 'known', 'laboratory', 'lack', 'level', 'losing', 'loss', 'main', 'maintaining', 'management', 'mankind', 'marked', 'meaning', 'micronutrients', 'narc', 'national', 'nations', 'need', 'nepal', 'nepalese', 'nutrient', 'nutrients', 'nutrition', 'nutritional', 'objective', 'observed', 'observing', 'organic', 'organization', 'people', 'physical', 'plants', 'pollutes', 'poudel', 'problem', 'programme', 'programmes', 'project', 'promotion', 'proper', 'public', 'raise', 'raising', 'raman', 'recent', 'reiterates', 'represent', 'research', 'rewati', 'rural', 'said', 'science', 'security', 'significance', 'societies', 'society', 'soil', 'soils', 'suffer', 'support', 'sustainable', 'tackle', 'taken', 'the', 'theme', 'therefore', 'time', 'today', 'toxic', 'un', 'united', 'vitamins', 'wellbeing', 'where', 'world', 'worldwide', 'year', 'years']\n"
     ]
    },
    {
     "name": "stderr",
     "output_type": "stream",
     "text": [
      "c:\\Users\\Kshitiz\\AppData\\Local\\Programs\\Python\\Python39\\lib\\site-packages\\sklearn\\utils\\deprecation.py:87: FutureWarning: Function get_feature_names is deprecated; get_feature_names is deprecated in 1.0 and will be removed in 1.2. Please use get_feature_names_out instead.\n",
      "  warnings.warn(msg, category=FutureWarning)\n"
     ]
    }
   ],
   "source": [
    "dictionary = vectorizer.get_feature_names()\n",
    "print(dictionary)\n"
   ]
  },
  {
   "cell_type": "code",
   "execution_count": 8,
   "metadata": {},
   "outputs": [
    {
     "data": {
      "text/html": [
       "<div>\n",
       "<style scoped>\n",
       "    .dataframe tbody tr th:only-of-type {\n",
       "        vertical-align: middle;\n",
       "    }\n",
       "\n",
       "    .dataframe tbody tr th {\n",
       "        vertical-align: top;\n",
       "    }\n",
       "\n",
       "    .dataframe thead th {\n",
       "        text-align: right;\n",
       "    }\n",
       "</style>\n",
       "<table border=\"1\" class=\"dataframe\">\n",
       "  <thead>\n",
       "    <tr style=\"text-align: right;\">\n",
       "      <th></th>\n",
       "      <th>topic1</th>\n",
       "    </tr>\n",
       "  </thead>\n",
       "  <tbody>\n",
       "    <tr>\n",
       "      <th>2013</th>\n",
       "      <td>0.018845</td>\n",
       "    </tr>\n",
       "    <tr>\n",
       "      <th>2014</th>\n",
       "      <td>0.018845</td>\n",
       "    </tr>\n",
       "    <tr>\n",
       "      <th>2015</th>\n",
       "      <td>0.003222</td>\n",
       "    </tr>\n",
       "    <tr>\n",
       "      <th>2022</th>\n",
       "      <td>0.047172</td>\n",
       "    </tr>\n",
       "    <tr>\n",
       "      <th>70</th>\n",
       "      <td>0.006205</td>\n",
       "    </tr>\n",
       "    <tr>\n",
       "      <th>...</th>\n",
       "      <td>...</td>\n",
       "    </tr>\n",
       "    <tr>\n",
       "      <th>where</th>\n",
       "      <td>0.047172</td>\n",
       "    </tr>\n",
       "    <tr>\n",
       "      <th>world</th>\n",
       "      <td>0.262178</td>\n",
       "    </tr>\n",
       "    <tr>\n",
       "      <th>worldwide</th>\n",
       "      <td>0.006205</td>\n",
       "    </tr>\n",
       "    <tr>\n",
       "      <th>year</th>\n",
       "      <td>0.016200</td>\n",
       "    </tr>\n",
       "    <tr>\n",
       "      <th>years</th>\n",
       "      <td>0.027276</td>\n",
       "    </tr>\n",
       "  </tbody>\n",
       "</table>\n",
       "<p>156 rows × 1 columns</p>\n",
       "</div>"
      ],
      "text/plain": [
       "             topic1\n",
       "2013       0.018845\n",
       "2014       0.018845\n",
       "2015       0.003222\n",
       "2022       0.047172\n",
       "70         0.006205\n",
       "...             ...\n",
       "where      0.047172\n",
       "world      0.262178\n",
       "worldwide  0.006205\n",
       "year       0.016200\n",
       "years      0.027276\n",
       "\n",
       "[156 rows x 1 columns]"
      ]
     },
     "execution_count": 8,
     "metadata": {},
     "output_type": "execute_result"
    }
   ],
   "source": [
    "encoding_matrix = pd.DataFrame(svd.components_,index=[\"topic1\"] ,columns=dictionary).T\n",
    "encoding_matrix\n",
    "# numerical values can be thought of as an expression of that word in respective topic\n",
    "\n"
   ]
  },
  {
   "cell_type": "code",
   "execution_count": 9,
   "metadata": {},
   "outputs": [
    {
     "data": {
      "text/html": [
       "<div>\n",
       "<style scoped>\n",
       "    .dataframe tbody tr th:only-of-type {\n",
       "        vertical-align: middle;\n",
       "    }\n",
       "\n",
       "    .dataframe tbody tr th {\n",
       "        vertical-align: top;\n",
       "    }\n",
       "\n",
       "    .dataframe thead th {\n",
       "        text-align: right;\n",
       "    }\n",
       "</style>\n",
       "<table border=\"1\" class=\"dataframe\">\n",
       "  <thead>\n",
       "    <tr style=\"text-align: right;\">\n",
       "      <th></th>\n",
       "      <th>topic1</th>\n",
       "      <th>abs_topic1</th>\n",
       "    </tr>\n",
       "  </thead>\n",
       "  <tbody>\n",
       "    <tr>\n",
       "      <th>soil</th>\n",
       "      <td>0.683902</td>\n",
       "      <td>0.683902</td>\n",
       "    </tr>\n",
       "    <tr>\n",
       "      <th>world</th>\n",
       "      <td>0.262178</td>\n",
       "      <td>0.262178</td>\n",
       "    </tr>\n",
       "    <tr>\n",
       "      <th>day</th>\n",
       "      <td>0.225484</td>\n",
       "      <td>0.225484</td>\n",
       "    </tr>\n",
       "    <tr>\n",
       "      <th>food</th>\n",
       "      <td>0.205756</td>\n",
       "      <td>0.205756</td>\n",
       "    </tr>\n",
       "    <tr>\n",
       "      <th>the</th>\n",
       "      <td>0.177385</td>\n",
       "      <td>0.177385</td>\n",
       "    </tr>\n",
       "    <tr>\n",
       "      <th>...</th>\n",
       "      <td>...</td>\n",
       "      <td>...</td>\n",
       "    </tr>\n",
       "    <tr>\n",
       "      <th>estimated</th>\n",
       "      <td>0.006205</td>\n",
       "      <td>0.006205</td>\n",
       "    </tr>\n",
       "    <tr>\n",
       "      <th>detect</th>\n",
       "      <td>0.006205</td>\n",
       "      <td>0.006205</td>\n",
       "    </tr>\n",
       "    <tr>\n",
       "      <th>lack</th>\n",
       "      <td>0.006205</td>\n",
       "      <td>0.006205</td>\n",
       "    </tr>\n",
       "    <tr>\n",
       "      <th>observing</th>\n",
       "      <td>0.003222</td>\n",
       "      <td>0.003222</td>\n",
       "    </tr>\n",
       "    <tr>\n",
       "      <th>2015</th>\n",
       "      <td>0.003222</td>\n",
       "      <td>0.003222</td>\n",
       "    </tr>\n",
       "  </tbody>\n",
       "</table>\n",
       "<p>156 rows × 2 columns</p>\n",
       "</div>"
      ],
      "text/plain": [
       "             topic1  abs_topic1\n",
       "soil       0.683902    0.683902\n",
       "world      0.262178    0.262178\n",
       "day        0.225484    0.225484\n",
       "food       0.205756    0.205756\n",
       "the        0.177385    0.177385\n",
       "...             ...         ...\n",
       "estimated  0.006205    0.006205\n",
       "detect     0.006205    0.006205\n",
       "lack       0.006205    0.006205\n",
       "observing  0.003222    0.003222\n",
       "2015       0.003222    0.003222\n",
       "\n",
       "[156 rows x 2 columns]"
      ]
     },
     "execution_count": 9,
     "metadata": {},
     "output_type": "execute_result"
    }
   ],
   "source": [
    "#Considering the words affecting variance in data\n",
    "encoding_matrix['abs_topic1']=np.abs(encoding_matrix)\n",
    "encoding_matrix.sort_values('abs_topic1',ascending=False)"
   ]
  },
  {
   "cell_type": "code",
   "execution_count": 10,
   "metadata": {},
   "outputs": [
    {
     "data": {
      "text/html": [
       "<div>\n",
       "<style scoped>\n",
       "    .dataframe tbody tr th:only-of-type {\n",
       "        vertical-align: middle;\n",
       "    }\n",
       "\n",
       "    .dataframe tbody tr th {\n",
       "        vertical-align: top;\n",
       "    }\n",
       "\n",
       "    .dataframe thead th {\n",
       "        text-align: right;\n",
       "    }\n",
       "</style>\n",
       "<table border=\"1\" class=\"dataframe\">\n",
       "  <thead>\n",
       "    <tr style=\"text-align: right;\">\n",
       "      <th></th>\n",
       "      <th>abs_topic1</th>\n",
       "    </tr>\n",
       "  </thead>\n",
       "  <tbody>\n",
       "    <tr>\n",
       "      <th>soil</th>\n",
       "      <td>0.683902</td>\n",
       "    </tr>\n",
       "    <tr>\n",
       "      <th>world</th>\n",
       "      <td>0.262178</td>\n",
       "    </tr>\n",
       "    <tr>\n",
       "      <th>day</th>\n",
       "      <td>0.225484</td>\n",
       "    </tr>\n",
       "    <tr>\n",
       "      <th>food</th>\n",
       "      <td>0.205756</td>\n",
       "    </tr>\n",
       "    <tr>\n",
       "      <th>the</th>\n",
       "      <td>0.177385</td>\n",
       "    </tr>\n",
       "    <tr>\n",
       "      <th>...</th>\n",
       "      <td>...</td>\n",
       "    </tr>\n",
       "    <tr>\n",
       "      <th>estimated</th>\n",
       "      <td>0.006205</td>\n",
       "    </tr>\n",
       "    <tr>\n",
       "      <th>detect</th>\n",
       "      <td>0.006205</td>\n",
       "    </tr>\n",
       "    <tr>\n",
       "      <th>lack</th>\n",
       "      <td>0.006205</td>\n",
       "    </tr>\n",
       "    <tr>\n",
       "      <th>observing</th>\n",
       "      <td>0.003222</td>\n",
       "    </tr>\n",
       "    <tr>\n",
       "      <th>2015</th>\n",
       "      <td>0.003222</td>\n",
       "    </tr>\n",
       "  </tbody>\n",
       "</table>\n",
       "<p>156 rows × 1 columns</p>\n",
       "</div>"
      ],
      "text/plain": [
       "           abs_topic1\n",
       "soil         0.683902\n",
       "world        0.262178\n",
       "day          0.225484\n",
       "food         0.205756\n",
       "the          0.177385\n",
       "...               ...\n",
       "estimated    0.006205\n",
       "detect       0.006205\n",
       "lack         0.006205\n",
       "observing    0.003222\n",
       "2015         0.003222\n",
       "\n",
       "[156 rows x 1 columns]"
      ]
     },
     "execution_count": 10,
     "metadata": {},
     "output_type": "execute_result"
    }
   ],
   "source": [
    "final_matrix=encoding_matrix.sort_values('abs_topic1',ascending=False)\n",
    "final_matrix[[\"abs_topic1\"]]"
   ]
  },
  {
   "cell_type": "code",
   "execution_count": 30,
   "metadata": {},
   "outputs": [
    {
     "data": {
      "text/html": [
       "<div>\n",
       "<style scoped>\n",
       "    .dataframe tbody tr th:only-of-type {\n",
       "        vertical-align: middle;\n",
       "    }\n",
       "\n",
       "    .dataframe tbody tr th {\n",
       "        vertical-align: top;\n",
       "    }\n",
       "\n",
       "    .dataframe thead th {\n",
       "        text-align: right;\n",
       "    }\n",
       "</style>\n",
       "<table border=\"1\" class=\"dataframe\">\n",
       "  <thead>\n",
       "    <tr style=\"text-align: right;\">\n",
       "      <th></th>\n",
       "      <th>abs_topic1</th>\n",
       "    </tr>\n",
       "  </thead>\n",
       "  <tbody>\n",
       "    <tr>\n",
       "      <th>soil</th>\n",
       "      <td>0.683902</td>\n",
       "    </tr>\n",
       "    <tr>\n",
       "      <th>world</th>\n",
       "      <td>0.262178</td>\n",
       "    </tr>\n",
       "    <tr>\n",
       "      <th>day</th>\n",
       "      <td>0.225484</td>\n",
       "    </tr>\n",
       "    <tr>\n",
       "      <th>food</th>\n",
       "      <td>0.205756</td>\n",
       "    </tr>\n",
       "  </tbody>\n",
       "</table>\n",
       "</div>"
      ],
      "text/plain": [
       "       abs_topic1\n",
       "soil     0.683902\n",
       "world    0.262178\n",
       "day      0.225484\n",
       "food     0.205756"
      ]
     },
     "execution_count": 30,
     "metadata": {},
     "output_type": "execute_result"
    }
   ],
   "source": [
    "# # Extracting out final sentence from topic 1\n",
    "# sentence1 = final_matrix[final_matrix[\"abs_topic1\"] >= 0.2]\n",
    "# sentence1[['abs_topic1']]\n"
   ]
  },
  {
   "cell_type": "code",
   "execution_count": 33,
   "metadata": {},
   "outputs": [
    {
     "data": {
      "text/html": [
       "<div>\n",
       "<style scoped>\n",
       "    .dataframe tbody tr th:only-of-type {\n",
       "        vertical-align: middle;\n",
       "    }\n",
       "\n",
       "    .dataframe tbody tr th {\n",
       "        vertical-align: top;\n",
       "    }\n",
       "\n",
       "    .dataframe thead th {\n",
       "        text-align: right;\n",
       "    }\n",
       "</style>\n",
       "<table border=\"1\" class=\"dataframe\">\n",
       "  <thead>\n",
       "    <tr style=\"text-align: right;\">\n",
       "      <th></th>\n",
       "      <th>abs_topic1</th>\n",
       "    </tr>\n",
       "  </thead>\n",
       "  <tbody>\n",
       "    <tr>\n",
       "      <th>soil</th>\n",
       "      <td>0.683902</td>\n",
       "    </tr>\n",
       "    <tr>\n",
       "      <th>world</th>\n",
       "      <td>0.262178</td>\n",
       "    </tr>\n",
       "    <tr>\n",
       "      <th>day</th>\n",
       "      <td>0.225484</td>\n",
       "    </tr>\n",
       "    <tr>\n",
       "      <th>food</th>\n",
       "      <td>0.205756</td>\n",
       "    </tr>\n",
       "  </tbody>\n",
       "</table>\n",
       "</div>"
      ],
      "text/plain": [
       "       abs_topic1\n",
       "soil     0.683902\n",
       "world    0.262178\n",
       "day      0.225484\n",
       "food     0.205756"
      ]
     },
     "execution_count": 33,
     "metadata": {},
     "output_type": "execute_result"
    }
   ],
   "source": [
    "# Extracting out final sentence from topic 1\n",
    "sentence1 = final_matrix.head(4)\n",
    "sentence1[['abs_topic1']]"
   ]
  },
  {
   "cell_type": "code",
   "execution_count": 12,
   "metadata": {},
   "outputs": [
    {
     "data": {
      "text/plain": [
       "['soil', 'world', 'day', 'food']"
      ]
     },
     "execution_count": 12,
     "metadata": {},
     "output_type": "execute_result"
    }
   ],
   "source": [
    "index_list = list(sentence1.index.values)\n",
    "index_list"
   ]
  },
  {
   "cell_type": "code",
   "execution_count": 50,
   "metadata": {},
   "outputs": [
    {
     "data": {
      "text/plain": [
       "['soil', 'world', 'day', 'food']"
      ]
     },
     "execution_count": 50,
     "metadata": {},
     "output_type": "execute_result"
    }
   ],
   "source": [
    "compression='large'\n",
    "words_after_compression=[]\n",
    "if compression=='small':\n",
    "    words_after_compression.append(index_list[0])\n",
    "elif compression == 'medium':\n",
    "    words_after_compression.append(index_list[0])\n",
    "    words_after_compression.append(index_list[1])\n",
    "else :\n",
    "    words_after_compression.extend(index_list)\n",
    "\n",
    "\n",
    "words_after_compression"
   ]
  },
  {
   "cell_type": "code",
   "execution_count": 51,
   "metadata": {},
   "outputs": [
    {
     "data": {
      "text/plain": [
       "['The World Soil Day is being observed today globally as well as in Nepal with the objective of raising public awareness on the significance of healthy soil and for the sustainable management of the soil fertility',\n",
       " 'The World Soil Day is being observed today globally as well as in Nepal with the objective of raising public awareness on the significance of healthy soil and for the sustainable management of the soil fertility',\n",
       " 'The United Nations General Assembly had in December 2013 declared December 5, 2014 as the World Soil Day and it was formally marked throughout the world since then',\n",
       " \" The theme of the World Soil Day this year is 'Soils: where food begins\",\n",
       " \"' Soil is at the heart of all agricultural activities, food security, nutrition security and climate conservation\",\n",
       " ' The World Soil Day programme reiterates the importance of soil for mankind and the crucial need for its conservation and proper management while at the same time increasing its fertility, the Department of Agriculture said',\n",
       " 'Director General of the Department, Dr Rewati Raman Poudel said that the debate about food and nutritional security, sustainable agriculture development, conservation of bio-diversity and organic agriculture will have no meaning without the conservation, promotion and proper management of soil',\n",
       " 'Director General of the Department, Dr Rewati Raman Poudel said that the debate about food and nutritional security, sustainable agriculture development, conservation of bio-diversity and organic agriculture will have no meaning without the conservation, promotion and proper management of soil',\n",
       " 'The soil fertility is deteriorating throughout the world including in Nepal in the recent years with the declining physical, chemical and biological features of the soil',\n",
       " 'The soil fertility is deteriorating throughout the world including in Nepal in the recent years with the declining physical, chemical and biological features of the soil',\n",
       " ' Therefore, this problem of declining soil fertility has been taken as the common global problem',\n",
       " 'Poudel said the World Soil Day is being marked with the main goal of raising extensive public awareness to tackle this growing problem of loss in soil fertility',\n",
       " 'The World Soil Day is being celebrated at the national level today in Nepal amidst various programmes under the aegis of the Department, Central Agricultural Laboratory, the National Soil Science Research Centre (NARC), Food and Nutrition Security Improvement Project, Rural Enterprises and Economic Development Project, United Nations, Food and Agriculture Organization and the Nepalese Society of Soil Science',\n",
       " 'The UN has said that over the last 70 years, the level of vitamins and nutrients in food has drastically decreased, and it is estimated that 2 billion people worldwide suffer from lack of micronutrients, known as hidden hunger because it is difficult to detect',\n",
       " 'The UN has said that over the last 70 years, the level of vitamins and nutrients in food has drastically decreased, and it is estimated that 2 billion people worldwide suffer from lack of micronutrients, known as hidden hunger because it is difficult to detect',\n",
       " 'Soil degradation induces some soils to be nutrient depleted losing their capacity to support crops, while others have such a high nutrient concentration that represent a toxic environment to plants and animals, pollutes the environment and cause climate change',\n",
       " 'World Soil Day 2022 and its campaign \"Soils: Where food begins\" aims to raise awareness of the importance of maintaining healthy ecosystems and human well-being by addressing the growing challenges in soil management, increasing soil awareness and encouraging societies to improve soil health',\n",
       " 'World Soil Day 2022 and its campaign \"Soils: Where food begins\" aims to raise awareness of the importance of maintaining healthy ecosystems and human well-being by addressing the growing challenges in soil management, increasing soil awareness and encouraging societies to improve soil health']"
      ]
     },
     "execution_count": 51,
     "metadata": {},
     "output_type": "execute_result"
    }
   ],
   "source": [
    "final_conclusion=[]\n",
    "for i in range(len(final_doc)):\n",
    "    for j in range(len(words_after_compression)):\n",
    "        if words_after_compression[j] in final_doc[i]:\n",
    "            final_conclusion.append(final_doc[i])\n",
    "    \n",
    "final_conclusion"
   ]
  },
  {
   "cell_type": "code",
   "execution_count": 46,
   "metadata": {},
   "outputs": [],
   "source": [
    "list_final=list(set(final_conclusion))\n",
    "# list_final"
   ]
  },
  {
   "cell_type": "code",
   "execution_count": 47,
   "metadata": {},
   "outputs": [],
   "source": [
    "with open('final_output.txt', 'w') as filehandle:\n",
    "    for listitem in list_final:\n",
    "        filehandle.write('%s\\n' % listitem)\n"
   ]
  },
  {
   "cell_type": "code",
   "execution_count": 48,
   "metadata": {},
   "outputs": [],
   "source": [
    "possible_headings=[]\n",
    "for i in index_list:\n",
    "    for j in index_list:\n",
    "        if i != j:\n",
    "                possible_headings.append(i+' '+j)\n",
    "\n",
    "# possible_headings"
   ]
  },
  {
   "cell_type": "code",
   "execution_count": 49,
   "metadata": {},
   "outputs": [
    {
     "data": {
      "text/plain": [
       "['day soil', 'day food', 'soil world', 'food soil', 'day world', 'food world']"
      ]
     },
     "execution_count": 49,
     "metadata": {},
     "output_type": "execute_result"
    }
   ],
   "source": [
    "final_headings=[]\n",
    "for i in possible_headings:\n",
    "    split_list=i.split()\n",
    "    sorted_list=sorted(split_list)\n",
    "    final_headings.append(sorted_list)\n",
    "\n",
    "final_headings_str=[]\n",
    "for i in final_headings:\n",
    "        final_headings_str.append(i[0]+' '+i[1])\n",
    "\n",
    "ff_heading=list(set(final_headings_str))\n",
    "ff_heading\n"
   ]
  },
  {
   "cell_type": "code",
   "execution_count": 18,
   "metadata": {},
   "outputs": [],
   "source": [
    "vectorizer = CountVectorizer()\n",
    "bag_of_words1 = vectorizer.fit_transform(ff_heading)\n"
   ]
  },
  {
   "cell_type": "code",
   "execution_count": 19,
   "metadata": {},
   "outputs": [
    {
     "data": {
      "text/plain": [
       "matrix([[1, 0, 1, 0],\n",
       "        [1, 1, 0, 0],\n",
       "        [0, 0, 1, 1],\n",
       "        [0, 1, 1, 0],\n",
       "        [1, 0, 0, 1],\n",
       "        [0, 1, 0, 1]], dtype=int64)"
      ]
     },
     "execution_count": 19,
     "metadata": {},
     "output_type": "execute_result"
    }
   ],
   "source": [
    "bag_of_words1.todense()\n"
   ]
  },
  {
   "cell_type": "code",
   "execution_count": 20,
   "metadata": {},
   "outputs": [],
   "source": [
    "svd1 = TruncatedSVD(n_components=2)\n",
    "lsa1 = svd1.fit_transform(bag_of_words1)\n"
   ]
  },
  {
   "cell_type": "code",
   "execution_count": 21,
   "metadata": {},
   "outputs": [
    {
     "data": {
      "text/html": [
       "<div>\n",
       "<style scoped>\n",
       "    .dataframe tbody tr th:only-of-type {\n",
       "        vertical-align: middle;\n",
       "    }\n",
       "\n",
       "    .dataframe tbody tr th {\n",
       "        vertical-align: top;\n",
       "    }\n",
       "\n",
       "    .dataframe thead th {\n",
       "        text-align: right;\n",
       "    }\n",
       "</style>\n",
       "<table border=\"1\" class=\"dataframe\">\n",
       "  <thead>\n",
       "    <tr style=\"text-align: right;\">\n",
       "      <th></th>\n",
       "      <th>ff_heading</th>\n",
       "      <th>topic1</th>\n",
       "      <th>topic2</th>\n",
       "    </tr>\n",
       "  </thead>\n",
       "  <tbody>\n",
       "    <tr>\n",
       "      <th>0</th>\n",
       "      <td>day soil</td>\n",
       "      <td>1.0</td>\n",
       "      <td>-0.57735</td>\n",
       "    </tr>\n",
       "    <tr>\n",
       "      <th>1</th>\n",
       "      <td>day food</td>\n",
       "      <td>1.0</td>\n",
       "      <td>-0.57735</td>\n",
       "    </tr>\n",
       "    <tr>\n",
       "      <th>2</th>\n",
       "      <td>soil world</td>\n",
       "      <td>1.0</td>\n",
       "      <td>0.57735</td>\n",
       "    </tr>\n",
       "    <tr>\n",
       "      <th>3</th>\n",
       "      <td>food soil</td>\n",
       "      <td>1.0</td>\n",
       "      <td>0.57735</td>\n",
       "    </tr>\n",
       "    <tr>\n",
       "      <th>4</th>\n",
       "      <td>day world</td>\n",
       "      <td>1.0</td>\n",
       "      <td>-0.57735</td>\n",
       "    </tr>\n",
       "    <tr>\n",
       "      <th>5</th>\n",
       "      <td>food world</td>\n",
       "      <td>1.0</td>\n",
       "      <td>0.57735</td>\n",
       "    </tr>\n",
       "  </tbody>\n",
       "</table>\n",
       "</div>"
      ],
      "text/plain": [
       "   ff_heading  topic1   topic2\n",
       "0    day soil     1.0 -0.57735\n",
       "1    day food     1.0 -0.57735\n",
       "2  soil world     1.0  0.57735\n",
       "3   food soil     1.0  0.57735\n",
       "4   day world     1.0 -0.57735\n",
       "5  food world     1.0  0.57735"
      ]
     },
     "metadata": {},
     "output_type": "display_data"
    }
   ],
   "source": [
    "topic_encoded_df = pd.DataFrame(lsa1, columns=[\"topic1\",\"topic2\"])\n",
    "topic_encoded_df[\"ff_heading\"]= ff_heading\n",
    "display(topic_encoded_df[[\"ff_heading\",\"topic1\",\"topic2\"]])"
   ]
  },
  {
   "cell_type": "code",
   "execution_count": 22,
   "metadata": {},
   "outputs": [
    {
     "name": "stderr",
     "output_type": "stream",
     "text": [
      "c:\\Users\\Kshitiz\\AppData\\Local\\Programs\\Python\\Python39\\lib\\site-packages\\sklearn\\utils\\deprecation.py:87: FutureWarning: Function get_feature_names is deprecated; get_feature_names is deprecated in 1.0 and will be removed in 1.2. Please use get_feature_names_out instead.\n",
      "  warnings.warn(msg, category=FutureWarning)\n"
     ]
    },
    {
     "data": {
      "text/plain": [
       "['day', 'food', 'soil', 'world']"
      ]
     },
     "execution_count": 22,
     "metadata": {},
     "output_type": "execute_result"
    }
   ],
   "source": [
    "dictionary1 = vectorizer.get_feature_names()\n",
    "dictionary1\n"
   ]
  },
  {
   "cell_type": "code",
   "execution_count": 23,
   "metadata": {},
   "outputs": [
    {
     "data": {
      "text/html": [
       "<div>\n",
       "<style scoped>\n",
       "    .dataframe tbody tr th:only-of-type {\n",
       "        vertical-align: middle;\n",
       "    }\n",
       "\n",
       "    .dataframe tbody tr th {\n",
       "        vertical-align: top;\n",
       "    }\n",
       "\n",
       "    .dataframe thead th {\n",
       "        text-align: right;\n",
       "    }\n",
       "</style>\n",
       "<table border=\"1\" class=\"dataframe\">\n",
       "  <thead>\n",
       "    <tr style=\"text-align: right;\">\n",
       "      <th></th>\n",
       "      <th>topic1</th>\n",
       "      <th>topic2</th>\n",
       "    </tr>\n",
       "  </thead>\n",
       "  <tbody>\n",
       "    <tr>\n",
       "      <th>day</th>\n",
       "      <td>0.5</td>\n",
       "      <td>-0.866025</td>\n",
       "    </tr>\n",
       "    <tr>\n",
       "      <th>food</th>\n",
       "      <td>0.5</td>\n",
       "      <td>0.288675</td>\n",
       "    </tr>\n",
       "    <tr>\n",
       "      <th>soil</th>\n",
       "      <td>0.5</td>\n",
       "      <td>0.288675</td>\n",
       "    </tr>\n",
       "    <tr>\n",
       "      <th>world</th>\n",
       "      <td>0.5</td>\n",
       "      <td>0.288675</td>\n",
       "    </tr>\n",
       "  </tbody>\n",
       "</table>\n",
       "</div>"
      ],
      "text/plain": [
       "       topic1    topic2\n",
       "day       0.5 -0.866025\n",
       "food      0.5  0.288675\n",
       "soil      0.5  0.288675\n",
       "world     0.5  0.288675"
      ]
     },
     "execution_count": 23,
     "metadata": {},
     "output_type": "execute_result"
    }
   ],
   "source": [
    "encoding_matrix1 = pd.DataFrame(\n",
    "    svd1.components_, index=[\"topic1\", \"topic2\"], columns=dictionary1).T\n",
    "encoding_matrix1\n"
   ]
  },
  {
   "cell_type": "code",
   "execution_count": 24,
   "metadata": {},
   "outputs": [
    {
     "data": {
      "text/html": [
       "<div>\n",
       "<style scoped>\n",
       "    .dataframe tbody tr th:only-of-type {\n",
       "        vertical-align: middle;\n",
       "    }\n",
       "\n",
       "    .dataframe tbody tr th {\n",
       "        vertical-align: top;\n",
       "    }\n",
       "\n",
       "    .dataframe thead th {\n",
       "        text-align: right;\n",
       "    }\n",
       "</style>\n",
       "<table border=\"1\" class=\"dataframe\">\n",
       "  <thead>\n",
       "    <tr style=\"text-align: right;\">\n",
       "      <th></th>\n",
       "      <th>topic1</th>\n",
       "      <th>topic2</th>\n",
       "      <th>abs_topic1</th>\n",
       "      <th>abs_topic2</th>\n",
       "    </tr>\n",
       "  </thead>\n",
       "  <tbody>\n",
       "    <tr>\n",
       "      <th>day</th>\n",
       "      <td>0.5</td>\n",
       "      <td>-0.866025</td>\n",
       "      <td>0.5</td>\n",
       "      <td>0.866025</td>\n",
       "    </tr>\n",
       "    <tr>\n",
       "      <th>food</th>\n",
       "      <td>0.5</td>\n",
       "      <td>0.288675</td>\n",
       "      <td>0.5</td>\n",
       "      <td>0.288675</td>\n",
       "    </tr>\n",
       "    <tr>\n",
       "      <th>soil</th>\n",
       "      <td>0.5</td>\n",
       "      <td>0.288675</td>\n",
       "      <td>0.5</td>\n",
       "      <td>0.288675</td>\n",
       "    </tr>\n",
       "    <tr>\n",
       "      <th>world</th>\n",
       "      <td>0.5</td>\n",
       "      <td>0.288675</td>\n",
       "      <td>0.5</td>\n",
       "      <td>0.288675</td>\n",
       "    </tr>\n",
       "  </tbody>\n",
       "</table>\n",
       "</div>"
      ],
      "text/plain": [
       "       topic1    topic2  abs_topic1  abs_topic2\n",
       "day       0.5 -0.866025         0.5    0.866025\n",
       "food      0.5  0.288675         0.5    0.288675\n",
       "soil      0.5  0.288675         0.5    0.288675\n",
       "world     0.5  0.288675         0.5    0.288675"
      ]
     },
     "execution_count": 24,
     "metadata": {},
     "output_type": "execute_result"
    }
   ],
   "source": [
    "encoding_matrix1['abs_topic1']=np.abs(encoding_matrix1[\"topic1\"])\n",
    "encoding_matrix1['abs_topic2']=np.abs(encoding_matrix1[\"topic2\"])\n",
    "encoding_matrix1.sort_values('abs_topic1',ascending=False)"
   ]
  },
  {
   "cell_type": "code",
   "execution_count": 25,
   "metadata": {},
   "outputs": [
    {
     "data": {
      "text/html": [
       "<div>\n",
       "<style scoped>\n",
       "    .dataframe tbody tr th:only-of-type {\n",
       "        vertical-align: middle;\n",
       "    }\n",
       "\n",
       "    .dataframe tbody tr th {\n",
       "        vertical-align: top;\n",
       "    }\n",
       "\n",
       "    .dataframe thead th {\n",
       "        text-align: right;\n",
       "    }\n",
       "</style>\n",
       "<table border=\"1\" class=\"dataframe\">\n",
       "  <thead>\n",
       "    <tr style=\"text-align: right;\">\n",
       "      <th></th>\n",
       "      <th>abs_topic1</th>\n",
       "      <th>abs_topic2</th>\n",
       "    </tr>\n",
       "  </thead>\n",
       "  <tbody>\n",
       "    <tr>\n",
       "      <th>day</th>\n",
       "      <td>0.5</td>\n",
       "      <td>0.866025</td>\n",
       "    </tr>\n",
       "    <tr>\n",
       "      <th>food</th>\n",
       "      <td>0.5</td>\n",
       "      <td>0.288675</td>\n",
       "    </tr>\n",
       "    <tr>\n",
       "      <th>soil</th>\n",
       "      <td>0.5</td>\n",
       "      <td>0.288675</td>\n",
       "    </tr>\n",
       "    <tr>\n",
       "      <th>world</th>\n",
       "      <td>0.5</td>\n",
       "      <td>0.288675</td>\n",
       "    </tr>\n",
       "  </tbody>\n",
       "</table>\n",
       "</div>"
      ],
      "text/plain": [
       "       abs_topic1  abs_topic2\n",
       "day           0.5    0.866025\n",
       "food          0.5    0.288675\n",
       "soil          0.5    0.288675\n",
       "world         0.5    0.288675"
      ]
     },
     "execution_count": 25,
     "metadata": {},
     "output_type": "execute_result"
    }
   ],
   "source": [
    "final_matrix1=encoding_matrix1.sort_values('abs_topic1',ascending=False)\n",
    "final_matrix1[[\"abs_topic1\",\"abs_topic2\"]]"
   ]
  },
  {
   "cell_type": "code",
   "execution_count": 26,
   "metadata": {},
   "outputs": [
    {
     "data": {
      "text/html": [
       "<div>\n",
       "<style scoped>\n",
       "    .dataframe tbody tr th:only-of-type {\n",
       "        vertical-align: middle;\n",
       "    }\n",
       "\n",
       "    .dataframe tbody tr th {\n",
       "        vertical-align: top;\n",
       "    }\n",
       "\n",
       "    .dataframe thead th {\n",
       "        text-align: right;\n",
       "    }\n",
       "</style>\n",
       "<table border=\"1\" class=\"dataframe\">\n",
       "  <thead>\n",
       "    <tr style=\"text-align: right;\">\n",
       "      <th></th>\n",
       "      <th>abs_topic2</th>\n",
       "    </tr>\n",
       "  </thead>\n",
       "  <tbody>\n",
       "    <tr>\n",
       "      <th>day</th>\n",
       "      <td>0.866025</td>\n",
       "    </tr>\n",
       "  </tbody>\n",
       "</table>\n",
       "</div>"
      ],
      "text/plain": [
       "     abs_topic2\n",
       "day    0.866025"
      ]
     },
     "execution_count": 26,
     "metadata": {},
     "output_type": "execute_result"
    }
   ],
   "source": [
    "\n",
    "sentence3 = final_matrix1[final_matrix1[\"abs_topic2\"] >= 0.4]\n",
    "sentence3[['abs_topic2']]\n"
   ]
  },
  {
   "cell_type": "code",
   "execution_count": 27,
   "metadata": {},
   "outputs": [
    {
     "data": {
      "text/plain": [
       "['day', 'food']"
      ]
     },
     "execution_count": 27,
     "metadata": {},
     "output_type": "execute_result"
    }
   ],
   "source": [
    "#selecting two words according to their absolute values.\n",
    "count=0\n",
    "heading_final_line=[]\n",
    "heading_topic_final_df=[]\n",
    "corr_sorted_desc = []\n",
    "corr_values=[]\n",
    "for i in final_matrix1[\"abs_topic2\"]:\n",
    "    corr_values.append(i)\n",
    "corr_sorted_desc.extend(sorted(corr_values,reverse=True))\n",
    "for i in corr_sorted_desc:\n",
    "    if count==2:\n",
    "        break\n",
    "    heading_topic_final_df.append(final_matrix1[final_matrix1[\"abs_topic2\"] == i])\n",
    "    count=count+1\n",
    "\n",
    "\n",
    "for i in heading_topic_final_df:\n",
    "    heading_final_line.extend(i.index.values)\n",
    "\n",
    "heading_final_line\n",
    "\n"
   ]
  },
  {
   "cell_type": "code",
   "execution_count": 28,
   "metadata": {},
   "outputs": [],
   "source": [
    "#output 2-word heading in new file\n",
    "with open('final_heading.txt', 'w') as filehandle:\n",
    "    for listitem in heading_final_line:\n",
    "        filehandle.write('%s\\n' % listitem)\n"
   ]
  }
 ],
 "metadata": {
  "kernelspec": {
   "display_name": "Python 3",
   "language": "python",
   "name": "python3"
  },
  "language_info": {
   "codemirror_mode": {
    "name": "ipython",
    "version": 3
   },
   "file_extension": ".py",
   "mimetype": "text/x-python",
   "name": "python",
   "nbconvert_exporter": "python",
   "pygments_lexer": "ipython3",
   "version": "3.9.6"
  },
  "orig_nbformat": 4,
  "vscode": {
   "interpreter": {
    "hash": "8b2e37b41e001ca1129809f0c88577fc595d7813eddff4f14ec8461c07872299"
   }
  }
 },
 "nbformat": 4,
 "nbformat_minor": 2
}
