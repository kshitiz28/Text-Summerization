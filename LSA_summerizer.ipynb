{
 "cells": [
  {
   "cell_type": "code",
   "execution_count": 1,
   "metadata": {},
   "outputs": [],
   "source": [
    "from sklearn.feature_extraction.text import CountVectorizer\n",
    "from ntpath import join\n",
    "import numpy as np\n",
    "import pandas as pd\n",
    "from sklearn.decomposition import TruncatedSVD\n",
    "from gensim.parsing.preprocessing import remove_stopwords\n"
   ]
  },
  {
   "cell_type": "code",
   "execution_count": 2,
   "metadata": {},
   "outputs": [],
   "source": [
    "doc = [\n",
    "    \"An intern at OpenGenus\",\n",
    "    \"Developer at OpenGenus\",\n",
    "    \"A ML intern\",\n",
    "    \"A ML developer\"\n",
    "]\n"
   ]
  },
  {
   "cell_type": "code",
   "execution_count": 5,
   "metadata": {},
   "outputs": [
    {
     "data": {
      "text/plain": [
       "['Coronavirus disease (COVID-19) outbreak originating Wuhan, China late 2019 spread worldwide claiming 2',\n",
       " '5 million lives world 01 March 2021 (1)',\n",
       " 'On 11 March 2020, World Health Organization (WHO) declared pandemic (1)',\n",
       " 'Since outbreak disease WHO guidelines prioritized actions responding virus; urged government maintain health facilities, raise public awareness, stock medical supplies (2)',\n",
       " '',\n",
       " '',\n",
       " 'Several modeling studies conducted early phases outbreak predict epidemic effectiveness multiple population-wide strategies, including lockdown, social distancing, quarantine, testing contact tracing, media-related awareness mitigate spread COVID-19 (3â€“9)',\n",
       " 'The strict lockdown enforced limit spread COVID-19 countries Italy, Spain, France, UK steady rise cases Nepal introduced lockdown early phase pandemic (10)',\n",
       " 'Lockdown blanket approach buys time prepare healthcare (active case finding testing tracing, case management, example, quarantine, isolation treatment, availability protective equipment) confine virus spread',\n",
       " 'The Government Nepal issued nationwide lockdown 24 March 21 July 2020, prohibiting domestic international travels, closure border non-essential services stage, later eased 11 June 2020',\n",
       " '',\n",
       " '',\n",
       " 'The basic reproduction number (R0) measures potential transmission infectious disease fundamental metric determine outbreak expected continue',\n",
       " 'In general, disease expected spread epidemic R0 decline ultimately end R0 <1',\n",
       " 'The R0 value COVID-19 outbreak available Nepal government preparing lockdown',\n",
       " 'However, neighboring countries, estimated R0 value coronavirus 2',\n",
       " '0 India (4) 2',\n",
       " '2 3',\n",
       " '5 China (11), indicating potential cause outbreak',\n",
       " 'There confirmed cases 610 Reverse Transcription Polymerase Chain Reaction (RT-PCR) tests fatalities lockdown (12)',\n",
       " 'The indexed case 23 January 2020 Kathmandu person traveled Wuhan, China (13)',\n",
       " 'The second case confirmed 2 months later 23 March traveled Nepal France Qatar (14)',\n",
       " '',\n",
       " '',\n",
       " 'This study aimed assess overall scenario COVID-19 lockdown (positive cases, RT-PCR test performed, recoveries, total active deaths cases including case fatality ratio) including spatial distribution cases, government measures manage pandemic; impacts public health, socio-economy, education',\n",
       " 'Finally, offer helpful suggestions address challenges brought impact COVID-19',\n",
       " '']"
      ]
     },
     "execution_count": 5,
     "metadata": {},
     "output_type": "execute_result"
    }
   ],
   "source": [
    "with open(\"sample.txt\") as file_in:\n",
    "    lines = []\n",
    "    for line in file_in:\n",
    "        lines.append(line)\n",
    "doc_test=[]\n",
    "for i in range(len(lines)):\n",
    "    doc_test.append(lines[i].split('.'))\n",
    "\n",
    "final_doc=[]\n",
    "for i in range(len(doc_test)):\n",
    "    for j in range(len(doc_test[i])):\n",
    "        final_doc.append(doc_test[i][j])\n",
    "\n",
    "without_stopwords=[]\n",
    "for i in final_doc:\n",
    "    filtered_sentence=remove_stopwords(i)\n",
    "    without_stopwords.append(filtered_sentence)\n",
    "\n",
    "without_stopwords"
   ]
  },
  {
   "cell_type": "code",
   "execution_count": 5,
   "metadata": {},
   "outputs": [],
   "source": [
    "# # Converting each document into an vector\n",
    "# vectorizer = CountVectorizer()\n",
    "\n",
    "# bag_of_words = vectorizer.fit_transform(doc)\n"
   ]
  },
  {
   "cell_type": "code",
   "execution_count": 6,
   "metadata": {},
   "outputs": [],
   "source": [
    "# Converting each document into an vector\n",
    "vectorizer = CountVectorizer()\n",
    "\n",
    "bag_of_words = vectorizer.fit_transform(without_stopwords)\n"
   ]
  },
  {
   "cell_type": "code",
   "execution_count": 7,
   "metadata": {},
   "outputs": [
    {
     "data": {
      "text/plain": [
       "matrix([[0, 0, 0, ..., 0, 1, 1],\n",
       "        [1, 0, 0, ..., 1, 0, 0],\n",
       "        [0, 0, 1, ..., 1, 0, 0],\n",
       "        ...,\n",
       "        [0, 0, 0, ..., 0, 0, 0],\n",
       "        [0, 0, 0, ..., 0, 0, 0],\n",
       "        [0, 0, 0, ..., 0, 0, 0]], dtype=int64)"
      ]
     },
     "execution_count": 7,
     "metadata": {},
     "output_type": "execute_result"
    }
   ],
   "source": [
    "# print(bag_of_words)\n",
    "\n",
    "bag_of_words.todense()\n",
    "\n",
    "# print(bag_of_words.todense())\n"
   ]
  },
  {
   "cell_type": "code",
   "execution_count": 9,
   "metadata": {},
   "outputs": [],
   "source": [
    "# Singular value decomposition\n",
    "# This process encodes our original data into topic encoded data\n",
    "svd = TruncatedSVD(n_components=1)\n",
    "lsa = svd.fit_transform(bag_of_words)\n"
   ]
  },
  {
   "cell_type": "code",
   "execution_count": 20,
   "metadata": {},
   "outputs": [
    {
     "data": {
      "text/html": [
       "<div>\n",
       "<style scoped>\n",
       "    .dataframe tbody tr th:only-of-type {\n",
       "        vertical-align: middle;\n",
       "    }\n",
       "\n",
       "    .dataframe tbody tr th {\n",
       "        vertical-align: top;\n",
       "    }\n",
       "\n",
       "    .dataframe thead th {\n",
       "        text-align: right;\n",
       "    }\n",
       "</style>\n",
       "<table border=\"1\" class=\"dataframe\">\n",
       "  <thead>\n",
       "    <tr style=\"text-align: right;\">\n",
       "      <th></th>\n",
       "      <th>without_stopwords</th>\n",
       "      <th>topic1</th>\n",
       "    </tr>\n",
       "  </thead>\n",
       "  <tbody>\n",
       "    <tr>\n",
       "      <th>0</th>\n",
       "      <td>Coronavirus disease (COVID-19) outbreak origin...</td>\n",
       "      <td>9.449927e-01</td>\n",
       "    </tr>\n",
       "    <tr>\n",
       "      <th>1</th>\n",
       "      <td>5 million lives world 01 March 2021 (1)</td>\n",
       "      <td>5.880924e-02</td>\n",
       "    </tr>\n",
       "    <tr>\n",
       "      <th>2</th>\n",
       "      <td>On 11 March 2020, World Health Organization (W...</td>\n",
       "      <td>4.807337e-01</td>\n",
       "    </tr>\n",
       "    <tr>\n",
       "      <th>3</th>\n",
       "      <td>Since outbreak disease WHO guidelines prioriti...</td>\n",
       "      <td>8.644852e-01</td>\n",
       "    </tr>\n",
       "    <tr>\n",
       "      <th>4</th>\n",
       "      <td></td>\n",
       "      <td>0.000000e+00</td>\n",
       "    </tr>\n",
       "    <tr>\n",
       "      <th>5</th>\n",
       "      <td></td>\n",
       "      <td>0.000000e+00</td>\n",
       "    </tr>\n",
       "    <tr>\n",
       "      <th>6</th>\n",
       "      <td>Several modeling studies conducted early phase...</td>\n",
       "      <td>2.526954e+00</td>\n",
       "    </tr>\n",
       "    <tr>\n",
       "      <th>7</th>\n",
       "      <td>The strict lockdown enforced limit spread COVI...</td>\n",
       "      <td>2.795149e+00</td>\n",
       "    </tr>\n",
       "    <tr>\n",
       "      <th>8</th>\n",
       "      <td>Lockdown blanket approach buys time prepare he...</td>\n",
       "      <td>1.649454e+00</td>\n",
       "    </tr>\n",
       "    <tr>\n",
       "      <th>9</th>\n",
       "      <td>The Government Nepal issued nationwide lockdow...</td>\n",
       "      <td>1.400812e+00</td>\n",
       "    </tr>\n",
       "    <tr>\n",
       "      <th>10</th>\n",
       "      <td></td>\n",
       "      <td>0.000000e+00</td>\n",
       "    </tr>\n",
       "    <tr>\n",
       "      <th>11</th>\n",
       "      <td></td>\n",
       "      <td>0.000000e+00</td>\n",
       "    </tr>\n",
       "    <tr>\n",
       "      <th>12</th>\n",
       "      <td>The basic reproduction number (R0) measures po...</td>\n",
       "      <td>5.695905e-01</td>\n",
       "    </tr>\n",
       "    <tr>\n",
       "      <th>13</th>\n",
       "      <td>In general, disease expected spread epidemic R...</td>\n",
       "      <td>3.983153e-01</td>\n",
       "    </tr>\n",
       "    <tr>\n",
       "      <th>14</th>\n",
       "      <td>The R0 value COVID-19 outbreak available Nepal...</td>\n",
       "      <td>1.467026e+00</td>\n",
       "    </tr>\n",
       "    <tr>\n",
       "      <th>15</th>\n",
       "      <td>However, neighboring countries, estimated R0 v...</td>\n",
       "      <td>1.587693e-01</td>\n",
       "    </tr>\n",
       "    <tr>\n",
       "      <th>16</th>\n",
       "      <td>0 India (4) 2</td>\n",
       "      <td>5.027352e-10</td>\n",
       "    </tr>\n",
       "    <tr>\n",
       "      <th>17</th>\n",
       "      <td>2 3</td>\n",
       "      <td>0.000000e+00</td>\n",
       "    </tr>\n",
       "    <tr>\n",
       "      <th>18</th>\n",
       "      <td>5 China (11), indicating potential cause outbreak</td>\n",
       "      <td>1.990596e-01</td>\n",
       "    </tr>\n",
       "    <tr>\n",
       "      <th>19</th>\n",
       "      <td>There confirmed cases 610 Reverse Transcriptio...</td>\n",
       "      <td>1.170993e+00</td>\n",
       "    </tr>\n",
       "    <tr>\n",
       "      <th>20</th>\n",
       "      <td>The indexed case 23 January 2020 Kathmandu per...</td>\n",
       "      <td>5.093331e-01</td>\n",
       "    </tr>\n",
       "    <tr>\n",
       "      <th>21</th>\n",
       "      <td>The second case confirmed 2 months later 23 Ma...</td>\n",
       "      <td>6.759874e-01</td>\n",
       "    </tr>\n",
       "    <tr>\n",
       "      <th>22</th>\n",
       "      <td></td>\n",
       "      <td>0.000000e+00</td>\n",
       "    </tr>\n",
       "    <tr>\n",
       "      <th>23</th>\n",
       "      <td></td>\n",
       "      <td>0.000000e+00</td>\n",
       "    </tr>\n",
       "    <tr>\n",
       "      <th>24</th>\n",
       "      <td>This study aimed assess overall scenario COVID...</td>\n",
       "      <td>5.637358e+00</td>\n",
       "    </tr>\n",
       "    <tr>\n",
       "      <th>25</th>\n",
       "      <td>Finally, offer helpful suggestions address cha...</td>\n",
       "      <td>5.612996e-01</td>\n",
       "    </tr>\n",
       "    <tr>\n",
       "      <th>26</th>\n",
       "      <td></td>\n",
       "      <td>0.000000e+00</td>\n",
       "    </tr>\n",
       "  </tbody>\n",
       "</table>\n",
       "</div>"
      ],
      "text/plain": [
       "                                    without_stopwords        topic1\n",
       "0   Coronavirus disease (COVID-19) outbreak origin...  9.449927e-01\n",
       "1             5 million lives world 01 March 2021 (1)  5.880924e-02\n",
       "2   On 11 March 2020, World Health Organization (W...  4.807337e-01\n",
       "3   Since outbreak disease WHO guidelines prioriti...  8.644852e-01\n",
       "4                                                      0.000000e+00\n",
       "5                                                      0.000000e+00\n",
       "6   Several modeling studies conducted early phase...  2.526954e+00\n",
       "7   The strict lockdown enforced limit spread COVI...  2.795149e+00\n",
       "8   Lockdown blanket approach buys time prepare he...  1.649454e+00\n",
       "9   The Government Nepal issued nationwide lockdow...  1.400812e+00\n",
       "10                                                     0.000000e+00\n",
       "11                                                     0.000000e+00\n",
       "12  The basic reproduction number (R0) measures po...  5.695905e-01\n",
       "13  In general, disease expected spread epidemic R...  3.983153e-01\n",
       "14  The R0 value COVID-19 outbreak available Nepal...  1.467026e+00\n",
       "15  However, neighboring countries, estimated R0 v...  1.587693e-01\n",
       "16                                      0 India (4) 2  5.027352e-10\n",
       "17                                                2 3  0.000000e+00\n",
       "18  5 China (11), indicating potential cause outbreak  1.990596e-01\n",
       "19  There confirmed cases 610 Reverse Transcriptio...  1.170993e+00\n",
       "20  The indexed case 23 January 2020 Kathmandu per...  5.093331e-01\n",
       "21  The second case confirmed 2 months later 23 Ma...  6.759874e-01\n",
       "22                                                     0.000000e+00\n",
       "23                                                     0.000000e+00\n",
       "24  This study aimed assess overall scenario COVID...  5.637358e+00\n",
       "25  Finally, offer helpful suggestions address cha...  5.612996e-01\n",
       "26                                                     0.000000e+00"
      ]
     },
     "execution_count": 20,
     "metadata": {},
     "output_type": "execute_result"
    }
   ],
   "source": [
    "# Using pandas to look at the output of lsa\n",
    "\n",
    "topic_encoded_df = pd.DataFrame(lsa, columns=[\"topic1\"])\n",
    "topic_encoded_df[\"without_stopwords\"] = without_stopwords\n",
    "topic_encoded_df[[\"without_stopwords\", \"topic1\"]]\n"
   ]
  },
  {
   "cell_type": "code",
   "execution_count": 21,
   "metadata": {},
   "outputs": [
    {
     "name": "stdout",
     "output_type": "stream",
     "text": [
      "['01', '10', '11', '12', '13', '14', '19', '2019', '2020', '2021', '21', '23', '24', '3â', '610', 'actions', 'active', 'address', 'aimed', 'approach', 'assess', 'availability', 'available', 'awareness', 'basic', 'blanket', 'border', 'brought', 'buys', 'case', 'cases', 'cause', 'chain', 'challenges', 'china', 'claiming', 'closure', 'conducted', 'confine', 'confirmed', 'contact', 'continue', 'coronavirus', 'countries', 'covid', 'deaths', 'declared', 'decline', 'determine', 'disease', 'distancing', 'distribution', 'domestic', 'early', 'eased', 'economy', 'education', 'effectiveness', 'end', 'enforced', 'epidemic', 'equipment', 'essential', 'estimated', 'example', 'expected', 'facilities', 'fatalities', 'fatality', 'finally', 'finding', 'france', 'fundamental', 'general', 'government', 'guidelines', 'health', 'healthcare', 'helpful', 'however', 'impact', 'impacts', 'in', 'including', 'indexed', 'india', 'indicating', 'infectious', 'international', 'introduced', 'isolation', 'issued', 'italy', 'january', 'july', 'june', 'kathmandu', 'late', 'later', 'limit', 'lives', 'lockdown', 'maintain', 'manage', 'management', 'march', 'measures', 'media', 'medical', 'metric', 'million', 'mitigate', 'modeling', 'months', 'multiple', 'nationwide', 'neighboring', 'nepal', 'non', 'number', 'offer', 'on', 'organization', 'originating', 'outbreak', 'overall', 'pandemic', 'pcr', 'performed', 'person', 'phase', 'phases', 'polymerase', 'population', 'positive', 'potential', 'predict', 'prepare', 'preparing', 'prioritized', 'prohibiting', 'protective', 'public', 'qatar', 'quarantine', 'r0', 'raise', 'ratio', 'reaction', 'recoveries', 'related', 'reproduction', 'responding', 'reverse', 'rise', 'rt', 'scenario', 'second', 'services', 'several', 'since', 'social', 'socio', 'spain', 'spatial', 'spread', 'stage', 'steady', 'stock', 'strategies', 'strict', 'studies', 'study', 'suggestions', 'supplies', 'test', 'testing', 'tests', 'the', 'there', 'this', 'time', 'total', 'tracing', 'transcription', 'transmission', 'traveled', 'travels', 'treatment', 'uk', 'ultimately', 'urged', 'value', 'virus', 'who', 'wide', 'world', 'worldwide', 'wuhan']\n"
     ]
    },
    {
     "name": "stderr",
     "output_type": "stream",
     "text": [
      "c:\\Users\\Kshitiz\\AppData\\Local\\Programs\\Python\\Python39\\lib\\site-packages\\sklearn\\utils\\deprecation.py:87: FutureWarning: Function get_feature_names is deprecated; get_feature_names is deprecated in 1.0 and will be removed in 1.2. Please use get_feature_names_out instead.\n",
      "  warnings.warn(msg, category=FutureWarning)\n"
     ]
    }
   ],
   "source": [
    "dictionary = vectorizer.get_feature_names()\n",
    "print(dictionary)\n"
   ]
  },
  {
   "cell_type": "code",
   "execution_count": 36,
   "metadata": {},
   "outputs": [
    {
     "data": {
      "text/html": [
       "<div>\n",
       "<style scoped>\n",
       "    .dataframe tbody tr th:only-of-type {\n",
       "        vertical-align: middle;\n",
       "    }\n",
       "\n",
       "    .dataframe tbody tr th {\n",
       "        vertical-align: top;\n",
       "    }\n",
       "\n",
       "    .dataframe thead th {\n",
       "        text-align: right;\n",
       "    }\n",
       "</style>\n",
       "<table border=\"1\" class=\"dataframe\">\n",
       "  <thead>\n",
       "    <tr style=\"text-align: right;\">\n",
       "      <th></th>\n",
       "      <th>topic1</th>\n",
       "    </tr>\n",
       "  </thead>\n",
       "  <tbody>\n",
       "    <tr>\n",
       "      <th>01</th>\n",
       "      <td>0.001018</td>\n",
       "    </tr>\n",
       "    <tr>\n",
       "      <th>10</th>\n",
       "      <td>0.048496</td>\n",
       "    </tr>\n",
       "    <tr>\n",
       "      <th>11</th>\n",
       "      <td>0.036095</td>\n",
       "    </tr>\n",
       "    <tr>\n",
       "      <th>12</th>\n",
       "      <td>0.020316</td>\n",
       "    </tr>\n",
       "    <tr>\n",
       "      <th>13</th>\n",
       "      <td>0.008838</td>\n",
       "    </tr>\n",
       "    <tr>\n",
       "      <th>...</th>\n",
       "      <td>...</td>\n",
       "    </tr>\n",
       "    <tr>\n",
       "      <th>who</th>\n",
       "      <td>0.023334</td>\n",
       "    </tr>\n",
       "    <tr>\n",
       "      <th>wide</th>\n",
       "      <td>0.043842</td>\n",
       "    </tr>\n",
       "    <tr>\n",
       "      <th>world</th>\n",
       "      <td>0.009354</td>\n",
       "    </tr>\n",
       "    <tr>\n",
       "      <th>worldwide</th>\n",
       "      <td>0.016399</td>\n",
       "    </tr>\n",
       "    <tr>\n",
       "      <th>wuhan</th>\n",
       "      <td>0.025237</td>\n",
       "    </tr>\n",
       "  </tbody>\n",
       "</table>\n",
       "<p>199 rows × 1 columns</p>\n",
       "</div>"
      ],
      "text/plain": [
       "             topic1\n",
       "01         0.001018\n",
       "10         0.048496\n",
       "11         0.036095\n",
       "12         0.020316\n",
       "13         0.008838\n",
       "...             ...\n",
       "who        0.023334\n",
       "wide       0.043842\n",
       "world      0.009354\n",
       "worldwide  0.016399\n",
       "wuhan      0.025237\n",
       "\n",
       "[199 rows x 1 columns]"
      ]
     },
     "execution_count": 36,
     "metadata": {},
     "output_type": "execute_result"
    }
   ],
   "source": [
    "encoding_matrix = pd.DataFrame(svd.components_,index=[\"topic1\"] ,columns=dictionary).T\n",
    "encoding_matrix\n",
    "# numerical values can be thought of as an expression of that word in respective topic\n",
    "\n"
   ]
  },
  {
   "cell_type": "code",
   "execution_count": 38,
   "metadata": {},
   "outputs": [
    {
     "data": {
      "text/html": [
       "<div>\n",
       "<style scoped>\n",
       "    .dataframe tbody tr th:only-of-type {\n",
       "        vertical-align: middle;\n",
       "    }\n",
       "\n",
       "    .dataframe tbody tr th {\n",
       "        vertical-align: top;\n",
       "    }\n",
       "\n",
       "    .dataframe thead th {\n",
       "        text-align: right;\n",
       "    }\n",
       "</style>\n",
       "<table border=\"1\" class=\"dataframe\">\n",
       "  <thead>\n",
       "    <tr style=\"text-align: right;\">\n",
       "      <th></th>\n",
       "      <th>topic1</th>\n",
       "      <th>abs_topic1</th>\n",
       "    </tr>\n",
       "  </thead>\n",
       "  <tbody>\n",
       "    <tr>\n",
       "      <th>cases</th>\n",
       "      <td>3.622271e-01</td>\n",
       "      <td>3.622271e-01</td>\n",
       "    </tr>\n",
       "    <tr>\n",
       "      <th>lockdown</th>\n",
       "      <td>3.373242e-01</td>\n",
       "      <td>3.373242e-01</td>\n",
       "    </tr>\n",
       "    <tr>\n",
       "      <th>19</th>\n",
       "      <td>2.417220e-01</td>\n",
       "      <td>2.417220e-01</td>\n",
       "    </tr>\n",
       "    <tr>\n",
       "      <th>covid</th>\n",
       "      <td>2.417220e-01</td>\n",
       "      <td>2.417220e-01</td>\n",
       "    </tr>\n",
       "    <tr>\n",
       "      <th>including</th>\n",
       "      <td>2.394521e-01</td>\n",
       "      <td>2.394521e-01</td>\n",
       "    </tr>\n",
       "    <tr>\n",
       "      <th>...</th>\n",
       "      <td>...</td>\n",
       "      <td>...</td>\n",
       "    </tr>\n",
       "    <tr>\n",
       "      <th>01</th>\n",
       "      <td>1.017831e-03</td>\n",
       "      <td>1.017831e-03</td>\n",
       "    </tr>\n",
       "    <tr>\n",
       "      <th>million</th>\n",
       "      <td>1.017831e-03</td>\n",
       "      <td>1.017831e-03</td>\n",
       "    </tr>\n",
       "    <tr>\n",
       "      <th>lives</th>\n",
       "      <td>1.017831e-03</td>\n",
       "      <td>1.017831e-03</td>\n",
       "    </tr>\n",
       "    <tr>\n",
       "      <th>2021</th>\n",
       "      <td>1.017831e-03</td>\n",
       "      <td>1.017831e-03</td>\n",
       "    </tr>\n",
       "    <tr>\n",
       "      <th>india</th>\n",
       "      <td>5.027352e-10</td>\n",
       "      <td>5.027352e-10</td>\n",
       "    </tr>\n",
       "  </tbody>\n",
       "</table>\n",
       "<p>199 rows × 2 columns</p>\n",
       "</div>"
      ],
      "text/plain": [
       "                 topic1    abs_topic1\n",
       "cases      3.622271e-01  3.622271e-01\n",
       "lockdown   3.373242e-01  3.373242e-01\n",
       "19         2.417220e-01  2.417220e-01\n",
       "covid      2.417220e-01  2.417220e-01\n",
       "including  2.394521e-01  2.394521e-01\n",
       "...                 ...           ...\n",
       "01         1.017831e-03  1.017831e-03\n",
       "million    1.017831e-03  1.017831e-03\n",
       "lives      1.017831e-03  1.017831e-03\n",
       "2021       1.017831e-03  1.017831e-03\n",
       "india      5.027352e-10  5.027352e-10\n",
       "\n",
       "[199 rows x 2 columns]"
      ]
     },
     "execution_count": 38,
     "metadata": {},
     "output_type": "execute_result"
    }
   ],
   "source": [
    "#Considering the words affecting variance in data\n",
    "encoding_matrix['abs_topic1']=np.abs(encoding_matrix)\n",
    "encoding_matrix.sort_values('abs_topic1',ascending=False)"
   ]
  },
  {
   "cell_type": "code",
   "execution_count": 39,
   "metadata": {},
   "outputs": [
    {
     "data": {
      "text/html": [
       "<div>\n",
       "<style scoped>\n",
       "    .dataframe tbody tr th:only-of-type {\n",
       "        vertical-align: middle;\n",
       "    }\n",
       "\n",
       "    .dataframe tbody tr th {\n",
       "        vertical-align: top;\n",
       "    }\n",
       "\n",
       "    .dataframe thead th {\n",
       "        text-align: right;\n",
       "    }\n",
       "</style>\n",
       "<table border=\"1\" class=\"dataframe\">\n",
       "  <thead>\n",
       "    <tr style=\"text-align: right;\">\n",
       "      <th></th>\n",
       "      <th>abs_topic1</th>\n",
       "    </tr>\n",
       "  </thead>\n",
       "  <tbody>\n",
       "    <tr>\n",
       "      <th>cases</th>\n",
       "      <td>3.622271e-01</td>\n",
       "    </tr>\n",
       "    <tr>\n",
       "      <th>lockdown</th>\n",
       "      <td>3.373242e-01</td>\n",
       "    </tr>\n",
       "    <tr>\n",
       "      <th>19</th>\n",
       "      <td>2.417220e-01</td>\n",
       "    </tr>\n",
       "    <tr>\n",
       "      <th>covid</th>\n",
       "      <td>2.417220e-01</td>\n",
       "    </tr>\n",
       "    <tr>\n",
       "      <th>including</th>\n",
       "      <td>2.394521e-01</td>\n",
       "    </tr>\n",
       "    <tr>\n",
       "      <th>...</th>\n",
       "      <td>...</td>\n",
       "    </tr>\n",
       "    <tr>\n",
       "      <th>01</th>\n",
       "      <td>1.017831e-03</td>\n",
       "    </tr>\n",
       "    <tr>\n",
       "      <th>million</th>\n",
       "      <td>1.017831e-03</td>\n",
       "    </tr>\n",
       "    <tr>\n",
       "      <th>lives</th>\n",
       "      <td>1.017831e-03</td>\n",
       "    </tr>\n",
       "    <tr>\n",
       "      <th>2021</th>\n",
       "      <td>1.017831e-03</td>\n",
       "    </tr>\n",
       "    <tr>\n",
       "      <th>india</th>\n",
       "      <td>5.027352e-10</td>\n",
       "    </tr>\n",
       "  </tbody>\n",
       "</table>\n",
       "<p>199 rows × 1 columns</p>\n",
       "</div>"
      ],
      "text/plain": [
       "             abs_topic1\n",
       "cases      3.622271e-01\n",
       "lockdown   3.373242e-01\n",
       "19         2.417220e-01\n",
       "covid      2.417220e-01\n",
       "including  2.394521e-01\n",
       "...                 ...\n",
       "01         1.017831e-03\n",
       "million    1.017831e-03\n",
       "lives      1.017831e-03\n",
       "2021       1.017831e-03\n",
       "india      5.027352e-10\n",
       "\n",
       "[199 rows x 1 columns]"
      ]
     },
     "execution_count": 39,
     "metadata": {},
     "output_type": "execute_result"
    }
   ],
   "source": [
    "final_matrix=encoding_matrix.sort_values('abs_topic1',ascending=False)\n",
    "final_matrix[[\"abs_topic1\"]]"
   ]
  },
  {
   "cell_type": "code",
   "execution_count": 83,
   "metadata": {},
   "outputs": [
    {
     "data": {
      "text/html": [
       "<div>\n",
       "<style scoped>\n",
       "    .dataframe tbody tr th:only-of-type {\n",
       "        vertical-align: middle;\n",
       "    }\n",
       "\n",
       "    .dataframe tbody tr th {\n",
       "        vertical-align: top;\n",
       "    }\n",
       "\n",
       "    .dataframe thead th {\n",
       "        text-align: right;\n",
       "    }\n",
       "</style>\n",
       "<table border=\"1\" class=\"dataframe\">\n",
       "  <thead>\n",
       "    <tr style=\"text-align: right;\">\n",
       "      <th></th>\n",
       "      <th>abs_topic1</th>\n",
       "    </tr>\n",
       "  </thead>\n",
       "  <tbody>\n",
       "    <tr>\n",
       "      <th>cases</th>\n",
       "      <td>0.362227</td>\n",
       "    </tr>\n",
       "    <tr>\n",
       "      <th>lockdown</th>\n",
       "      <td>0.337324</td>\n",
       "    </tr>\n",
       "    <tr>\n",
       "      <th>19</th>\n",
       "      <td>0.241722</td>\n",
       "    </tr>\n",
       "    <tr>\n",
       "      <th>covid</th>\n",
       "      <td>0.241722</td>\n",
       "    </tr>\n",
       "    <tr>\n",
       "      <th>including</th>\n",
       "      <td>0.239452</td>\n",
       "    </tr>\n",
       "  </tbody>\n",
       "</table>\n",
       "</div>"
      ],
      "text/plain": [
       "           abs_topic1\n",
       "cases        0.362227\n",
       "lockdown     0.337324\n",
       "19           0.241722\n",
       "covid        0.241722\n",
       "including    0.239452"
      ]
     },
     "execution_count": 83,
     "metadata": {},
     "output_type": "execute_result"
    }
   ],
   "source": [
    "# Extracting out final sentence from topic 1\n",
    "sentence1 = final_matrix[final_matrix[\"abs_topic1\"] >= 0.2]\n",
    "sentence1[['abs_topic1']]\n"
   ]
  },
  {
   "cell_type": "code",
   "execution_count": 84,
   "metadata": {},
   "outputs": [
    {
     "name": "stdout",
     "output_type": "stream",
     "text": [
      "Final Conclusion: \n",
      "\n",
      "cases lockdown 19 covid including\n"
     ]
    }
   ],
   "source": [
    "print('Final Conclusion: \\n')\n",
    "print(' '.join(sentence1.index))\n"
   ]
  },
  {
   "cell_type": "code",
   "execution_count": 85,
   "metadata": {},
   "outputs": [
    {
     "data": {
      "text/plain": [
       "['cases', 'lockdown', '19', 'covid', 'including']"
      ]
     },
     "execution_count": 85,
     "metadata": {},
     "output_type": "execute_result"
    }
   ],
   "source": [
    "index_list = list(sentence1.index.values)\n",
    "index_list"
   ]
  },
  {
   "cell_type": "code",
   "execution_count": 86,
   "metadata": {},
   "outputs": [
    {
     "data": {
      "text/plain": [
       "['Coronavirus disease (COVID-19) outbreak originating from Wuhan, China in late 2019 has spread worldwide claiming more than 2',\n",
       " 'Several modeling studies have been conducted during the early phases of the outbreak to predict the epidemic and effectiveness of multiple population-wide strategies, including lockdown, social distancing, quarantine, testing and contact tracing, and media-related awareness among others to mitigate the spread of COVID-19 (3â€“9)',\n",
       " 'Several modeling studies have been conducted during the early phases of the outbreak to predict the epidemic and effectiveness of multiple population-wide strategies, including lockdown, social distancing, quarantine, testing and contact tracing, and media-related awareness among others to mitigate the spread of COVID-19 (3â€“9)',\n",
       " 'Several modeling studies have been conducted during the early phases of the outbreak to predict the epidemic and effectiveness of multiple population-wide strategies, including lockdown, social distancing, quarantine, testing and contact tracing, and media-related awareness among others to mitigate the spread of COVID-19 (3â€“9)',\n",
       " ' The strict lockdown was enforced to limit the spread of COVID-19 in countries such as Italy, Spain, France, the UK after the steady rise in cases whereas Nepal introduced lockdown during the early phase of the pandemic (10)',\n",
       " ' The strict lockdown was enforced to limit the spread of COVID-19 in countries such as Italy, Spain, France, the UK after the steady rise in cases whereas Nepal introduced lockdown during the early phase of the pandemic (10)',\n",
       " ' The strict lockdown was enforced to limit the spread of COVID-19 in countries such as Italy, Spain, France, the UK after the steady rise in cases whereas Nepal introduced lockdown during the early phase of the pandemic (10)',\n",
       " ' The Government of Nepal issued a nationwide lockdown from 24 March to 21 July 2020, prohibiting domestic and international travels, closure of border and non-essential services in the first stage, which was later eased on 11 June 2020',\n",
       " ' The R0 value of the COVID-19 outbreak was not available for Nepal when the government was preparing for the lockdown',\n",
       " ' The R0 value of the COVID-19 outbreak was not available for Nepal when the government was preparing for the lockdown',\n",
       " ' There were only two confirmed cases from 610 Reverse Transcription Polymerase Chain Reaction (RT-PCR) tests and no fatalities before lockdown (12)',\n",
       " ' There were only two confirmed cases from 610 Reverse Transcription Polymerase Chain Reaction (RT-PCR) tests and no fatalities before lockdown (12)',\n",
       " 'This study aimed to assess the overall scenario of COVID-19 during the lockdown (positive cases, RT-PCR test performed, recoveries, total active and deaths cases including case fatality ratio) including spatial distribution of the cases, government measures to manage the pandemic; and impacts on public health, socio-economy, and education',\n",
       " 'This study aimed to assess the overall scenario of COVID-19 during the lockdown (positive cases, RT-PCR test performed, recoveries, total active and deaths cases including case fatality ratio) including spatial distribution of the cases, government measures to manage the pandemic; and impacts on public health, socio-economy, and education',\n",
       " 'This study aimed to assess the overall scenario of COVID-19 during the lockdown (positive cases, RT-PCR test performed, recoveries, total active and deaths cases including case fatality ratio) including spatial distribution of the cases, government measures to manage the pandemic; and impacts on public health, socio-economy, and education',\n",
       " 'This study aimed to assess the overall scenario of COVID-19 during the lockdown (positive cases, RT-PCR test performed, recoveries, total active and deaths cases including case fatality ratio) including spatial distribution of the cases, government measures to manage the pandemic; and impacts on public health, socio-economy, and education',\n",
       " ' Finally, we offer helpful suggestions to address the challenges brought by the impact of COVID-19']"
      ]
     },
     "execution_count": 86,
     "metadata": {},
     "output_type": "execute_result"
    }
   ],
   "source": [
    "final_conclusion=[]\n",
    "for i in range(len(final_doc)):\n",
    "    for j in range(len(index_list)):\n",
    "        if index_list[j] in final_doc[i]:\n",
    "            final_conclusion.append(final_doc[i])\n",
    "    \n",
    "final_conclusion"
   ]
  },
  {
   "cell_type": "code",
   "execution_count": 87,
   "metadata": {},
   "outputs": [
    {
     "data": {
      "text/plain": [
       "['This study aimed to assess the overall scenario of COVID-19 during the lockdown (positive cases, RT-PCR test performed, recoveries, total active and deaths cases including case fatality ratio) including spatial distribution of the cases, government measures to manage the pandemic; and impacts on public health, socio-economy, and education',\n",
       " 'Several modeling studies have been conducted during the early phases of the outbreak to predict the epidemic and effectiveness of multiple population-wide strategies, including lockdown, social distancing, quarantine, testing and contact tracing, and media-related awareness among others to mitigate the spread of COVID-19 (3â€“9)',\n",
       " 'Coronavirus disease (COVID-19) outbreak originating from Wuhan, China in late 2019 has spread worldwide claiming more than 2',\n",
       " ' There were only two confirmed cases from 610 Reverse Transcription Polymerase Chain Reaction (RT-PCR) tests and no fatalities before lockdown (12)',\n",
       " ' Finally, we offer helpful suggestions to address the challenges brought by the impact of COVID-19',\n",
       " ' The R0 value of the COVID-19 outbreak was not available for Nepal when the government was preparing for the lockdown',\n",
       " ' The Government of Nepal issued a nationwide lockdown from 24 March to 21 July 2020, prohibiting domestic and international travels, closure of border and non-essential services in the first stage, which was later eased on 11 June 2020',\n",
       " ' The strict lockdown was enforced to limit the spread of COVID-19 in countries such as Italy, Spain, France, the UK after the steady rise in cases whereas Nepal introduced lockdown during the early phase of the pandemic (10)']"
      ]
     },
     "execution_count": 87,
     "metadata": {},
     "output_type": "execute_result"
    }
   ],
   "source": [
    "list_final=list(set(final_conclusion))\n",
    "list_final"
   ]
  },
  {
   "cell_type": "code",
   "execution_count": 88,
   "metadata": {},
   "outputs": [],
   "source": [
    "with open('final_output.txt', 'w') as filehandle:\n",
    "    for listitem in list_final:\n",
    "        filehandle.write('%s\\n' % listitem)\n"
   ]
  },
  {
   "cell_type": "code",
   "execution_count": 89,
   "metadata": {},
   "outputs": [
    {
     "data": {
      "text/plain": [
       "['cases lockdown',\n",
       " 'cases 19',\n",
       " 'cases covid',\n",
       " 'cases including',\n",
       " 'lockdown cases',\n",
       " 'lockdown 19',\n",
       " 'lockdown covid',\n",
       " 'lockdown including',\n",
       " '19 cases',\n",
       " '19 lockdown',\n",
       " '19 covid',\n",
       " '19 including',\n",
       " 'covid cases',\n",
       " 'covid lockdown',\n",
       " 'covid 19',\n",
       " 'covid including',\n",
       " 'including cases',\n",
       " 'including lockdown',\n",
       " 'including 19',\n",
       " 'including covid']"
      ]
     },
     "execution_count": 89,
     "metadata": {},
     "output_type": "execute_result"
    }
   ],
   "source": [
    "possible_headings=[]\n",
    "for i in index_list:\n",
    "    for j in index_list:\n",
    "        if i != j:\n",
    "                possible_headings.append(i+' '+j)\n",
    "\n",
    "possible_headings"
   ]
  },
  {
   "cell_type": "code",
   "execution_count": 92,
   "metadata": {},
   "outputs": [
    {
     "ename": "TypeError",
     "evalue": "unhashable type: 'list'",
     "output_type": "error",
     "traceback": [
      "\u001b[1;31m---------------------------------------------------------------------------\u001b[0m",
      "\u001b[1;31mTypeError\u001b[0m                                 Traceback (most recent call last)",
      "\u001b[1;32m~\\AppData\\Local\\Temp/ipykernel_680/1828671729.py\u001b[0m in \u001b[0;36m<module>\u001b[1;34m\u001b[0m\n\u001b[0;32m      5\u001b[0m     \u001b[0mfinal_headings\u001b[0m\u001b[1;33m.\u001b[0m\u001b[0mappend\u001b[0m\u001b[1;33m(\u001b[0m\u001b[0msorted_list\u001b[0m\u001b[1;33m)\u001b[0m\u001b[1;33m\u001b[0m\u001b[1;33m\u001b[0m\u001b[0m\n\u001b[0;32m      6\u001b[0m \u001b[1;33m\u001b[0m\u001b[0m\n\u001b[1;32m----> 7\u001b[1;33m \u001b[0mlist\u001b[0m\u001b[1;33m(\u001b[0m\u001b[0mset\u001b[0m\u001b[1;33m(\u001b[0m\u001b[0mfinal_headings\u001b[0m\u001b[1;33m)\u001b[0m\u001b[1;33m)\u001b[0m\u001b[1;33m\u001b[0m\u001b[1;33m\u001b[0m\u001b[0m\n\u001b[0m",
      "\u001b[1;31mTypeError\u001b[0m: unhashable type: 'list'"
     ]
    }
   ],
   "source": [
    "final_headings=[]\n",
    "for i in possible_headings:\n",
    "    split_list=i.split()\n",
    "    sorted_list=sorted(split_list)\n",
    "    final_headings.append(sorted_list)\n"
   ]
  }
 ],
 "metadata": {
  "kernelspec": {
   "display_name": "Python 3.9.6 64-bit",
   "language": "python",
   "name": "python3"
  },
  "language_info": {
   "codemirror_mode": {
    "name": "ipython",
    "version": 3
   },
   "file_extension": ".py",
   "mimetype": "text/x-python",
   "name": "python",
   "nbconvert_exporter": "python",
   "pygments_lexer": "ipython3",
   "version": "3.9.6"
  },
  "orig_nbformat": 4,
  "vscode": {
   "interpreter": {
    "hash": "8b2e37b41e001ca1129809f0c88577fc595d7813eddff4f14ec8461c07872299"
   }
  }
 },
 "nbformat": 4,
 "nbformat_minor": 2
}
