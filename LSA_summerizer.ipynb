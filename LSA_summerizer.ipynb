{
 "cells": [
  {
   "cell_type": "code",
   "execution_count": 1,
   "metadata": {},
   "outputs": [],
   "source": [
    "from sklearn.feature_extraction.text import CountVectorizer\n",
    "from ntpath import join\n",
    "import numpy as np\n",
    "import pandas as pd\n",
    "from sklearn.decomposition import TruncatedSVD\n",
    "from gensim.parsing.preprocessing import remove_stopwords\n",
    "import string\n"
   ]
  },
  {
   "cell_type": "code",
   "execution_count": 2,
   "metadata": {},
   "outputs": [],
   "source": [
    "# import nltk\n",
    "# from nltk.corpus import stopwords\n",
    "# from nltk.tokenize import word_tokenize\n",
    "# nltk.download('stopwords')\n"
   ]
  },
  {
   "cell_type": "code",
   "execution_count": 3,
   "metadata": {},
   "outputs": [],
   "source": [
    "sample_str = \"\"\"\\xa0\\xa0I SHOULD be destitute of feeling if I was not deeply affected by the strong proof which my fellow-citizens have given me of their confidence in calling me to the high office whose functions I am about to assume. As the expression of their good opinion of my conduct in the public service, I derive from it a gratification which those who are conscious of having done all that they could to merit it can alone feel. My sensibility is increased by a just estimate of the importance of the trust and of the nature and extent of its duties, with the proper discharge of which the highest interests of a great and free people are intimately connected. Conscious of my own deficiency, I cannot enter on these duties without great anxiety for the result. From a just responsibility I will never shrink, calculating with confidence that in my best efforts to promote the public welfare my motives will always be duly appreciated and my conduct be viewed with that candor and indulgence which I have experienced in other stations.\\xa0\\xa0\\xa0 \\xa0\\xa0In commencing the duties of the chief executive office it has been the practice of the distinguished men who have gone before me to explain the principles which would govern them in their respective Administrations. In following their venerated example my attention is naturally drawn to the great causes which have contributed in a principal degree to produce the present happy condition of the United States. They will best explain the nature of our duties and shed much light on the policy which ought to be pursued in future. \\xa0\\xa0From the commencement of our Revolution to the present day almost forty years have elapsed, and from the establishment of this Constitution twenty-eight. Through this whole term the Government has been what may emphatically be called self-government. And what has been the effect? To whatever object we turn our attention, whether it relates to our foreign or domestic concerns, we find abundant cause to felicitate ourselves in the excellence of our institutions. During a period fraught with difficulties and marked by very extraordinary events the United States have flourished beyond example. Their citizens individually have been happy and the nation prosperous. \\xa0\\xa0Under this Constitution our commerce has been wisely regulated with foreign nations and between the States; new States have been admitted into our Union; our territory has been enlarged by fair and honorable treaty, and with great advantage to the original States; the States, respectively protected by the National Government under a mild, parental system against foreign dangers, \n",
    "and enjoying within their separate spheres, by a wise partition of power, a just proportion of the sovereignty, have improved their police, extended their settlements, and attained a strength and maturity which are the best proofs of wholesome laws well administered. And if we look to the condition of individuals what a proud spectacle does it exhibit! On whom has oppression fallen in any quarter of our Union? Who has been deprived of any right of person or property? Who restrained from offering his vows in the mode which he prefers to the Divine Author of his being? It is well known that all these blessings have been enjoyed in their fullest extent; and I add with peculiar satisfaction that there has been no example of a capital punishment being inflicted on anyone for the crime of high treason. \\xa0\\xa0Some who might admit the competency of our Government to these beneficent duties might doubt it in trials which put to the test its strength and efficiency as a member of the great community of nations. Here too experience has afforded us the most satisfactory proof in its favor. Just as this Constitution was put into action several of the principal States of Europe had become much agitated and some of them seriously convulsed. Destructive wars ensued, which have of late only been terminated. In the course of these conflicts the United States received great injury from several of the parties. It was their interest to stand aloof from the contest, to demand justice from the party committing the injury, and to cultivate by a fair and honorable conduct the friendship of all. War became at length inevitable, and the result has shown that our Government is equal to that, the greatest of trials, under the most unfavorable circumstances. Of the virtue of the people and of the heroic exploits of the Army, the Navy, and the militia I need not speak. \\xa0\\xa0Such, then, is the happy Government under which we live<U+0097>a Government adequate to every purpose for which the social compact is formed; a Government elective in all its branches, under which every citizen may by his merit obtain the highest trust recognized by the Constitution; which contains within it no cause of discord, none to put at variance one portion of the community with another; a Government which protects every citizen in the full enjoyment of his rights, and is able to protect the nation against injustice from foreign powers. \\xa0\\xa0Other considerations of the highest importance admonish us to cherish our Union and to cling to the Government which supports it. Fortunate as we are in our political institutions, we have not been less so in other circumstances on which our prosperity and happiness essentially depend. Situated within the temperate zone, and extending through many degrees of latitude along the Atlantic, the United States enjoy all the varieties of climate, and every production incident to that portion of the globe. Penetrating internally to the Great Lakes and beyond the sources of the great rivers which communicate through our whole interior, no country was ever happier with respect to its domain. Blessed, too, with a fertile soil, our produce has always been very abundant, leaving, even in years the least favorable, a surplus for the wants of our fellow-men in other countries. Such is our peculiar felicity that there is not a part of our Union that is not particularly interested in preserving it. The great agricultural interest of the nation prospers under its protection. Local interests are not less fostered by it. Our fellow-citizens of the North engaged in navigation find great encouragement in being made the favored carriers of the vast productions of the other portions of the United States, while the inhabitants of these are amply recompensed, in their turn, by the nursery for seamen and naval force thus formed and reared up for the support of our common rights. Our manufactures find a generous encouragement by the policy which patronizes domestic industry, and the surplus of our produce a steady and profitable market by local wants in less-favored parts at home. \\xa0\\xa0Such, then, being the highly favored condition of our country, it is the interest of every citizen to maintain it. What are the dangers which menace us? If any exist they ought to be ascertained and guarded against. \\xa0\\xa0In explaining my sentiments on this subject it may be asked, What raised us to the present happy state? How did we accomplish the Revolution? How remedy the defects of the first instrument of our Union, by infusing into the National Government sufficient power for national purposes, without impairing the just rights of the States or affecting those of individuals? How sustain and pass with glory through the late war? The Government has been in the hands of the people. To the people, therefore, and to the faithful and able depositaries of their trust is the credit due. Had the people of the United States been educated in different principles, had they been less intelligent, less independent, or less virtuous, can it be believed that we should have maintained the same steady and consistent career or been blessed with the same success? While, then, the constituent body retains its present sound and healthful state everything will be safe. They will choose competent and faithful representatives for every department. It is only when the people become ignorant and corrupt, when they degenerate into a populace, that they are incapable of exercising the sovereignty. Usurpation is then an easy attainment, and an usurper soon found. The people themselves become the willing instruments of their own debasement and ruin. Let us, then, look to the great cause, and endeavor to preserve it in full force. Let us by all wise and constitutional measures promote intelligence among the people as the best means of preserving our liberties. \\xa0\\xa0Dangers from abroad are not less deserving of attention. Experiencing the fortune of other nations, the United States may be again involved in war, and it may in that event be the object of the adverse party to overset our Government, to break our Union, and demolish us as a nation. Our distance from Europe and the just, moderate, and pacific policy of our Government may form some security against these dangers, but they ought to be anticipated and guarded against. Many of our citizens are engaged in commerce and navigation, and all of them are in a certain degree dependent on their prosperous state. Many are engaged in the fisheries. These interests are exposed to invasion in the wars between other powers, and we should disregard the faithful admonition of experience if we did not expect it. We must support our rights or lose our character, and with it, perhaps, our liberties. A people who fail to do it can scarcely be said to hold a place among independent nations. National honor is national property of the highest value. The sentiment in the mind of every citizen is national strength. It ought therefore to be cherished.  \\xa0\\xa0To secure us against these dangers our coast and inland frontiers should be fortified, our Army and Navy, regulated upon just principles as to the force of each, be kept in perfect order, and our militia be placed on the best practicable footing. To put our extensive coast in such a state of defense as to secure our cities and interior from invasion will be attended with expense, but the work when finished will be permanent, and it is fair to presume that a single campaign of invasion by a naval force superior to our own, aided by a few thousand land troops, would expose us to greater expense, without taking into the estimate the loss of property and distress of our citizens, than would be sufficient for this great work. Our land and naval forces should be moderate, but adequate to the necessary purposes<U+0097>the former to garrison and preserve our fortifications and to meet the first invasions of a foreign foe, and, while constituting the elements of a greater force, to preserve the science as well as all the necessary implements of war in a state to be brought into activity in the event of war; the latter, retained within the limits proper in a state of peace, might aid in maintaining the neutrality of the United States with dignity in the wars of other powers and in saving the property of their citizens from spoliation. In time of war, with the enlargement of which the great naval resources of the country render it susceptible, and which should be duly fostered in time of peace, it would contribute essentially, both as an auxiliary of defense and as a powerful engine of annoyance, to diminish the calamities of war and to bring the war to a speedy and honorable termination.  \\xa0\\xa0But it ought always to be held prominently in view that the safety of these States and of everything dear to a free people must depend in an eminent degree on the militia. Invasions may be made too formidable to be resisted by any land and naval force which it would comport either with the principles of our Government or the circumstances of the United States to maintain. In such cases recourse must be had to the great body of the people, and in a manner to produce the best effect. It is of the highest importance, therefore, that they be so organized and trained as to be prepared for any emergency. The arrangement should be such as to put at the command of the Government the ardent patriotism and youthful vigor of the country. If formed on equal and just principles, it can not be oppressive. It is the crisis which makes the pressure, and not the laws which provide a remedy for it. This arrangement should be formed, too, in time of peace, to be the better prepared for war. With such an organization of such a people the United States have nothing to dread from foreign invasion. At its approach an overwhelming force of gallant men might always be put in motion.  \\xa0\\xa0Other interests of high importance will claim attention, among which the improvement of our country by roads and canals, proceeding always with a constitutional sanction, holds a distinguished place. By thus facilitating the intercourse between the States we shall add much to the convenience and comfort of our fellow-citizens, much to the ornament of the country, and, what is of greater importance, we shall shorten distances, and, by making each part more accessible to and dependent on the other, we shall bind the Union more closely together. Nature has done so much for us by intersecting the country with so many great rivers, bays, and lakes, approaching from distant points so near to each other, that the inducement to complete the work seems to be peculiarly strong. A more interesting spectacle was perhaps never seen than is exhibited within the limits of the United States<U+0097>a territory so vast and advantageously situated, containing objects so grand, so useful, so happily connected in all their parts!  \\xa0\\xa0Our manufacturers will likewise require the systematic and fostering care of the Government. Possessing as we do all the raw materials, the fruit of our own soil and industry, we ought not to depend in the degree we have done on supplies from other countries. While we are thus dependent the sudden event of war, unsought and unexpected, can not fail to plunge us into the most serious difficulties. It is important, too, that the capital which nourishes our manufacturers should be domestic, as its influence in that case instead of exhausting, as it may do in foreign hands, would be felt advantageously on agriculture and every other branch of industry. Equally important is it to provide at home a market for our raw materials, as by extending the competition it will enhance the price and protect the cultivator against the casualties incident to foreign markets.  \\xa0\\xa0With the Indian tribes it is our duty to cultivate friendly relations and to act with kindness and liberality in all our transactions. Equally proper is it to persevere in our efforts to extend to them the advantages of civilization.  \\xa0\\xa0The great amount of our revenue and the flourishing state of the Treasury are a full proof of the competency of the national resources for any emergency, as they are of the willingness of our fellow-citizens to bear the burdens which the public necessities require. The vast amount of vacant lands, the value of which daily augments, forms an additional resource of great extent and duration. These resources, besides accomplishing every other necessary purpose, put it completely in the power of the United States to discharge the national debt at an early period. Peace is the best time for improvement and preparation of every kind; it is in peace that our commerce flourishes most, that taxes are most easily paid, and that the revenue is most productive.  \\xa0\\xa0The Executive is charged officially in the Departments under it with the disbursement of the public money, and is responsible for the faithful application of it to the purposes for which it is raised. The Legislature is the watchful guardian over the public purse. It is its duty to see that the disbursement has been honestly made. To meet the requisite responsibility every facility should be afforded to the Executive to enable it to bring the public agents intrusted with the public money strictly and promptly to account. Nothing should be presumed against them; but if, with the requisite facilities, the public money is suffered to lie long and uselessly in their hands, they will not be the only defaulters, nor will the demoralizing effect be confined to them. It will evince a relaxation and want of tone in the Administration which will be felt by the whole community. I shall do all I can to secure economy and fidelity in this important branch of the Administration, and I doubt not that the Legislature will perform its duty with equal zeal. A thorough examination should be regularly made, and I will promote it.  \\xa0\\xa0It is particularly gratifying to me to enter on the discharge of these duties at a time when the United States are blessed with peace. It is a state most consistent with their prosperity and happiness. It will be my sincere desire to preserve it, so far as depends on the Executive, on just principles with all nations, claiming nothing unreasonable of any and rendering to each what is its due.  \\xa0\\xa0Equally gratifying is it to witness the increased harmony of opinion which pervades our Union. Discord does not belong to our system. Union is recommended as well by the free and benign principles of our Government, extending its blessings to every individual, as by the other eminent advantages attending it. The American people have encountered together great dangers and sustained severe trials with success. They constitute one great family with a common interest. Experience has enlightened us on some questions of essential importance to the country. The progress has been slow, dictated by a just reflection and a faithful regard to every interest connected with it. To promote this harmony in accord with the principles of our republican Government and in a manner to give them the most complete effect, and to advance in all other respects the best interests of our Union, will be the object of my constant and zealous exertions.  \\xa0\\xa0Never did a government commence under auspices so favorable, nor ever was success so complete. If we look to the history of other nations, ancient or modern, we find no example of a growth so rapid, so gigantic, of a people so prosperous and happy. In contemplating what we have still to perform, the heart of every citizen must expand with joy when he reflects how near our Government has approached to perfection; that in respect to it we have no essential improvement to make; that the great object is to preserve it in the essential principles and features which characterize it, and that is to be done by preserving the virtue and enlightening the minds of the people; and as a security against foreign dangers to adopt such arrangements as are indispensable to the support of our independence, our rights and liberties. If we persevere in the career in which we have advanced so far and in the path already traced, we can not fail, under the favor of a gracious Providence, to attain the high destiny which seems to await us.  \\xa0\\xa0In the Administrations of the illustrious men who have preceded me in this high station, with some of whom I have been connected by the closest ties from early life, examples are presented which will always be found highly instructive and useful to their successors. From these I shall endeavor to derive all the advantages which they may afford. Of my immediate predecessor, under whom so important a portion of this great and successful experiment has been made, I shall be pardoned for expressing my earnest wishes that he may long enjoy in his retirement the affections of a grateful country, the best reward of exalted talents and the most faithful and meritorious service. Relying on the aid to be derived from the other departments of the Government, I enter on the trust to which I have been called by the suffrages of my fellow-citizens with my fervent prayers to the Almighty that He will be graciously pleased to continue to us that protection which He has already so conspicuously displayed in our favor.      \\xa0    \\xa0 \n",
    "\n",
    "\"\"\""
   ]
  },
  {
   "cell_type": "code",
   "execution_count": 4,
   "metadata": {},
   "outputs": [],
   "source": [
    "# print(sample_str.split(\".\"))"
   ]
  },
  {
   "cell_type": "code",
   "execution_count": 5,
   "metadata": {},
   "outputs": [],
   "source": [
    "# lines = sample_str.split(\".\")\n",
    "# doc_test=[]\n",
    "# for i in range(len(lines)):\n",
    "#     doc_test.append(lines[i].split('.'))\n",
    "\n",
    "# final_doc=[]\n",
    "# for i in range(len(doc_test)):\n",
    "#     for j in range(len(doc_test[i])):\n",
    "#         final_doc.append(doc_test[i][j])\n",
    "\n",
    "# without_stopwords=[]\n",
    "# for i in final_doc:\n",
    "#     text_tokens = word_tokenize(i)\n",
    "#     tokens_without_sw = [word for word in text_tokens if not word in stopwords.words()]\n",
    "#     filtered_sentence = (\" \").join(tokens_without_sw)\n",
    "#     without_stopwords.append(filtered_sentence)\n",
    "\n",
    "# without_SandP = []\n",
    "# for i in without_stopwords:\n",
    "#     filtered_sentence = i.translate(str.maketrans('', '', string.punctuation))\n",
    "#     without_SandP.append(filtered_sentence)\n",
    "\n",
    "# without_SandP\n"
   ]
  },
  {
   "cell_type": "code",
   "execution_count": 6,
   "metadata": {},
   "outputs": [
    {
     "data": {
      "text/plain": [
       "['I SHOULD destitute feeling I deeply affected strong proof fellowcitizens given confidence calling high office functions I assume',\n",
       " 'As expression good opinion conduct public service I derive gratification conscious having merit feel',\n",
       " 'My sensibility increased estimate importance trust nature extent duties proper discharge highest interests great free people intimately connected',\n",
       " 'Conscious deficiency I enter duties great anxiety result',\n",
       " 'From responsibility I shrink calculating confidence best efforts promote public welfare motives duly appreciated conduct viewed candor indulgence I experienced stations',\n",
       " 'In commencing duties chief executive office practice distinguished men gone explain principles govern respective Administrations',\n",
       " 'In following venerated example attention naturally drawn great causes contributed principal degree produce present happy condition United States',\n",
       " 'They best explain nature duties shed light policy ought pursued future',\n",
       " 'From commencement Revolution present day years elapsed establishment Constitution twentyeight',\n",
       " 'Through term Government emphatically called selfgovernment',\n",
       " 'And effect To object turn attention relates foreign domestic concerns abundant cause felicitate excellence institutions',\n",
       " 'During period fraught difficulties marked extraordinary events United States flourished example',\n",
       " 'Their citizens individually happy nation prosperous',\n",
       " 'Under Constitution commerce wisely regulated foreign nations States new States admitted Union territory enlarged fair honorable treaty great advantage original States States respectively protected National Government mild parental foreign dangers enjoying separate spheres wise partition power proportion sovereignty improved police extended settlements attained strength maturity best proofs wholesome laws administered',\n",
       " 'And look condition individuals proud spectacle exhibit On oppression fallen quarter Union Who deprived right person property Who restrained offering vows mode prefers Divine Author being It known blessings enjoyed fullest extent I add peculiar satisfaction example capital punishment inflicted crime high treason',\n",
       " 'Some admit competency Government beneficent duties doubt trials test strength efficiency member great community nations',\n",
       " 'Here experience afforded satisfactory proof favor',\n",
       " 'Just Constitution action principal States Europe agitated seriously convulsed',\n",
       " 'Destructive wars ensued late terminated',\n",
       " 'In course conflicts United States received great injury parties',\n",
       " 'It stand aloof contest demand justice party committing injury cultivate fair honorable conduct friendship',\n",
       " 'War length inevitable result shown Government equal that greatest trials unfavorable circumstances',\n",
       " 'Of virtue people heroic exploits Army Navy militia I need speak',\n",
       " 'Such then happy Government liveU0097a Government adequate purpose social compact formed Government elective branches citizen merit obtain highest trust recognized Constitution contains cause discord variance portion community another Government protects citizen enjoyment rights able protect nation injustice foreign powers',\n",
       " 'Other considerations highest importance admonish cherish Union cling Government supports',\n",
       " 'Fortunate political institutions circumstances prosperity happiness essentially depend',\n",
       " 'Situated temperate zone extending degrees latitude Atlantic United States enjoy varieties climate production incident portion globe',\n",
       " 'Penetrating internally Great Lakes sources great rivers communicate interior country happier respect domain',\n",
       " 'Blessed too fertile soil produce abundant leaving years favorable surplus wants fellowmen countries',\n",
       " 'Such peculiar felicity Union particularly interested preserving',\n",
       " 'The great agricultural nation prospers protection',\n",
       " 'Local interests fostered',\n",
       " 'Our fellowcitizens North engaged navigation great encouragement favored carriers vast productions portions United States inhabitants amply recompensed turn nursery seamen naval force formed reared support common rights',\n",
       " 'Our manufactures generous encouragement policy patronizes domestic industry surplus produce steady profitable market local wants lessfavored parts home',\n",
       " 'Such then highly favored condition country citizen maintain',\n",
       " 'What dangers menace us If exist ought ascertained guarded',\n",
       " 'In explaining sentiments subject asked What raised present happy state How accomplish Revolution How remedy defects instrument Union infusing National Government sufficient power national purposes impairing rights States affecting individuals How sustain pass glory late war The Government hands people',\n",
       " 'To people therefore faithful able depositaries trust credit',\n",
       " 'Had people United States educated different principles intelligent independent virtuous believed maintained steady consistent career blessed success While then constituent body retains present sound healthful state safe',\n",
       " 'They choose competent faithful representatives department',\n",
       " 'It people ignorant corrupt degenerate populace incapable exercising sovereignty',\n",
       " 'Usurpation easy attainment usurper soon',\n",
       " 'The people willing instruments debasement ruin',\n",
       " 'Let us then look great cause endeavor preserve force',\n",
       " 'Let wise constitutional measures promote intelligence people best means preserving liberties',\n",
       " 'Dangers abroad deserving attention',\n",
       " 'Experiencing fortune nations United States involved war event object adverse party overset Government break Union demolish nation',\n",
       " 'Our distance Europe just moderate pacific policy Government form security dangers ought anticipated guarded',\n",
       " 'Many citizens engaged commerce navigation certain degree dependent prosperous state',\n",
       " 'Many engaged fisheries',\n",
       " 'These interests exposed invasion wars powers disregard faithful admonition experience expect',\n",
       " 'We support rights lose character it perhaps liberties',\n",
       " 'A people fail scarcely said hold place independent nations',\n",
       " 'National honor national property highest value',\n",
       " 'The sentiment mind citizen national strength',\n",
       " 'It ought cherished',\n",
       " 'To secure dangers coast inland frontiers fortified Army Navy regulated principles force each kept perfect order militia placed best practicable footing',\n",
       " 'To extensive coast state defense secure cities interior invasion attended expense work finished permanent fair presume single campaign invasion naval force superior own aided thousand land troops expose greater expense taking estimate loss property distress citizens sufficient great work',\n",
       " 'Our land naval forces moderate adequate necessary purposesU0097the garrison preserve fortifications meet invasions foreign foe and constituting elements greater force preserve science necessary implements war state brought activity event war latter retained limits proper state peace aid maintaining neutrality United States dignity wars powers saving property citizens spoliation',\n",
       " 'In time war enlargement great naval resources country render susceptible duly fostered time peace contribute essentially auxiliary defense powerful engine annoyance diminish calamities war bring war speedy honorable termination',\n",
       " 'But ought held prominently view safety States dear free people depend eminent degree militia',\n",
       " 'Invasions formidable resisted land naval force comport principles Government circumstances United States maintain',\n",
       " 'In cases recourse great body people manner produce best effect',\n",
       " 'It highest importance therefore organized trained prepared emergency',\n",
       " 'The arrangement command Government ardent patriotism youthful vigor country',\n",
       " 'If formed equal principles oppressive',\n",
       " 'It crisis makes pressure laws provide remedy',\n",
       " 'This arrangement formed too time peace better prepared war',\n",
       " 'With organization people United States dread foreign invasion',\n",
       " 'At approach overwhelming force gallant men motion',\n",
       " 'Other interests high importance claim attention improvement country roads canals proceeding constitutional sanction holds distinguished place',\n",
       " 'By facilitating intercourse States shall add convenience comfort fellowcitizens ornament country and greater importance shall shorten distances and making accessible dependent other shall bind Union closely',\n",
       " 'Nature intersecting country great rivers bays lakes approaching distant points near other inducement complete work peculiarly strong',\n",
       " 'A interesting spectacle seen exhibited limits United StatesU0097a territory vast advantageously situated containing objects grand useful happily connected parts Our manufacturers likewise require systematic fostering care Government',\n",
       " 'Possessing raw materials fruit soil industry ought depend degree supplies countries',\n",
       " 'While dependent sudden event war unsought unexpected fail plunge difficulties',\n",
       " 'It important too capital nourishes manufacturers domestic influence case instead exhausting foreign hands felt advantageously agriculture branch industry',\n",
       " 'Equally important provide home market raw materials extending competition enhance price protect cultivator casualties incident foreign markets',\n",
       " 'With Indian tribes duty cultivate friendly relations act kindness liberality transactions',\n",
       " 'Equally proper persevere efforts extend advantages civilization',\n",
       " 'The great revenue flourishing state Treasury proof competency national resources emergency willingness fellowcitizens bear burdens public necessities require',\n",
       " 'The vast vacant lands value daily augments forms additional resource great extent duration',\n",
       " 'These resources accomplishing necessary purpose completely power United States discharge national debt early period',\n",
       " 'Peace best time improvement preparation kind peace commerce flourishes most taxes easily paid revenue productive',\n",
       " 'The Executive charged officially Departments disbursement public money responsible faithful application purposes raised',\n",
       " 'The Legislature watchful guardian public purse',\n",
       " 'It duty disbursement honestly',\n",
       " 'To meet requisite responsibility facility afforded Executive enable bring public agents intrusted public money strictly promptly account',\n",
       " 'Nothing presumed them if requisite facilities public money suffered lie long uselessly hands defaulters demoralizing effect confined',\n",
       " 'It evince relaxation want tone Administration felt community',\n",
       " 'I shall I secure economy fidelity important branch Administration I doubt Legislature perform duty equal zeal',\n",
       " 'A thorough examination regularly made I promote',\n",
       " 'It particularly gratifying enter discharge duties time United States blessed peace',\n",
       " 'It state consistent prosperity happiness',\n",
       " 'It desire preserve it far depends Executive principles nations claiming unreasonable rendering',\n",
       " 'Equally gratifying witness increased harmony opinion pervades Union',\n",
       " 'Discord belong',\n",
       " 'Union recommended free benign principles Government extending blessings individual eminent advantages attending',\n",
       " 'The American people encountered great dangers sustained severe trials success',\n",
       " 'They constitute great family common',\n",
       " 'Experience enlightened questions essential importance country',\n",
       " 'The progress slow dictated reflection faithful regard connected',\n",
       " 'To promote harmony accord principles republican Government manner complete effect advance respects best interests Union object constant zealous exertions',\n",
       " 'Never government commence auspices favorable success complete',\n",
       " 'If look history nations ancient modern example growth rapid gigantic people prosperous happy',\n",
       " 'In contemplating perform heart citizen expand joy reflects near Government approached perfection respect essential improvement make great object preserve essential principles features characterize it preserving virtue enlightening minds people security foreign dangers adopt arrangements indispensable support independence rights liberties',\n",
       " 'If persevere career advanced far path traced fail favor gracious Providence attain high destiny await',\n",
       " 'In Administrations illustrious men preceded high station I connected closest ties early life examples presented highly instructive useful successors',\n",
       " 'From I shall endeavor derive advantages afford',\n",
       " 'Of immediate predecessor important portion great successful experiment made I shall pardoned expressing earnest wishes long enjoy retirement affections grateful country best reward exalted talents faithful meritorious service',\n",
       " 'Relying aid derived departments Government I enter trust I called suffrages fellowcitizens fervent prayers Almighty He graciously pleased continue protection He conspicuously displayed favor',\n",
       " '']"
      ]
     },
     "execution_count": 6,
     "metadata": {},
     "output_type": "execute_result"
    }
   ],
   "source": [
    "lines = sample_str.split(\".\")\n",
    "doc_test=[]\n",
    "for i in range(len(lines)):\n",
    "    doc_test.append(lines[i].split('.'))\n",
    "\n",
    "final_doc=[]\n",
    "for i in range(len(doc_test)):\n",
    "    for j in range(len(doc_test[i])):\n",
    "        final_doc.append(doc_test[i][j])\n",
    "\n",
    "without_stopwords=[]\n",
    "for i in final_doc:\n",
    "    filtered_sentence=remove_stopwords(i)\n",
    "    without_stopwords.append(filtered_sentence)\n",
    "\n",
    "without_SandP = []\n",
    "for i in without_stopwords:\n",
    "    filtered_sentence = i.translate(str.maketrans('', '', string.punctuation))\n",
    "    without_SandP.append(filtered_sentence)\n",
    "\n",
    "without_SandP\n"
   ]
  },
  {
   "cell_type": "code",
   "execution_count": 7,
   "metadata": {},
   "outputs": [],
   "source": [
    "# with open(\"sample.txt\") as file_in:\n",
    "#     lines = []\n",
    "#     for line in file_in:\n",
    "#         lines.append(line)\n",
    "# doc_test=[]\n",
    "# for i in range(len(lines)):\n",
    "#     doc_test.append(lines[i].split('.'))\n",
    "\n",
    "# final_doc=[]\n",
    "# for i in range(len(doc_test)):\n",
    "#     for j in range(len(doc_test[i])):\n",
    "#         final_doc.append(doc_test[i][j])\n",
    "\n",
    "# without_stopwords=[]\n",
    "# for i in final_doc:\n",
    "#     filtered_sentence=remove_stopwords(i)\n",
    "#     without_stopwords.append(filtered_sentence)\n",
    "\n",
    "# without_SandP = []\n",
    "# for i in without_stopwords:\n",
    "#     filtered_sentence = i.translate(str.maketrans('', '', string.punctuation))\n",
    "#     without_SandP.append(filtered_sentence)\n",
    "\n",
    "# without_SandP\n"
   ]
  },
  {
   "cell_type": "code",
   "execution_count": 8,
   "metadata": {},
   "outputs": [],
   "source": [
    "# Converting each document into an vector\n",
    "vectorizer = CountVectorizer()\n",
    "\n",
    "bag_of_words = vectorizer.fit_transform(without_SandP)\n"
   ]
  },
  {
   "cell_type": "code",
   "execution_count": 9,
   "metadata": {},
   "outputs": [
    {
     "data": {
      "text/plain": [
       "matrix([[0, 0, 0, ..., 0, 0, 0],\n",
       "        [0, 0, 0, ..., 0, 0, 0],\n",
       "        [0, 0, 0, ..., 0, 0, 0],\n",
       "        ...,\n",
       "        [0, 0, 0, ..., 0, 0, 0],\n",
       "        [0, 0, 0, ..., 0, 0, 0],\n",
       "        [0, 0, 0, ..., 0, 0, 0]], dtype=int64)"
      ]
     },
     "execution_count": 9,
     "metadata": {},
     "output_type": "execute_result"
    }
   ],
   "source": [
    "# print(bag_of_words)\n",
    "\n",
    "bag_of_words.todense()\n",
    "\n",
    "# print(bag_of_words.todense())\n"
   ]
  },
  {
   "cell_type": "code",
   "execution_count": 10,
   "metadata": {},
   "outputs": [],
   "source": [
    "# Singular value decomposition\n",
    "# This process encodes our original data into topic encoded data\n",
    "svd = TruncatedSVD(n_components=1)\n",
    "lsa = svd.fit_transform(bag_of_words)\n"
   ]
  },
  {
   "cell_type": "code",
   "execution_count": 11,
   "metadata": {},
   "outputs": [
    {
     "data": {
      "text/html": [
       "<div>\n",
       "<style scoped>\n",
       "    .dataframe tbody tr th:only-of-type {\n",
       "        vertical-align: middle;\n",
       "    }\n",
       "\n",
       "    .dataframe tbody tr th {\n",
       "        vertical-align: top;\n",
       "    }\n",
       "\n",
       "    .dataframe thead th {\n",
       "        text-align: right;\n",
       "    }\n",
       "</style>\n",
       "<table border=\"1\" class=\"dataframe\">\n",
       "  <thead>\n",
       "    <tr style=\"text-align: right;\">\n",
       "      <th></th>\n",
       "      <th>without_stopwords</th>\n",
       "      <th>topic1</th>\n",
       "    </tr>\n",
       "  </thead>\n",
       "  <tbody>\n",
       "    <tr>\n",
       "      <th>0</th>\n",
       "      <td>I SHOULD destitute feeling I deeply affected s...</td>\n",
       "      <td>0.079189</td>\n",
       "    </tr>\n",
       "    <tr>\n",
       "      <th>1</th>\n",
       "      <td>As expression good opinion conduct public serv...</td>\n",
       "      <td>0.071460</td>\n",
       "    </tr>\n",
       "    <tr>\n",
       "      <th>2</th>\n",
       "      <td>My sensibility increased estimate importance t...</td>\n",
       "      <td>0.693608</td>\n",
       "    </tr>\n",
       "    <tr>\n",
       "      <th>3</th>\n",
       "      <td>Conscious deficiency, I enter duties great anx...</td>\n",
       "      <td>0.273724</td>\n",
       "    </tr>\n",
       "    <tr>\n",
       "      <th>4</th>\n",
       "      <td>From responsibility I shrink, calculating conf...</td>\n",
       "      <td>0.166098</td>\n",
       "    </tr>\n",
       "    <tr>\n",
       "      <th>...</th>\n",
       "      <td>...</td>\n",
       "      <td>...</td>\n",
       "    </tr>\n",
       "    <tr>\n",
       "      <th>107</th>\n",
       "      <td>In Administrations illustrious men preceded hi...</td>\n",
       "      <td>0.190873</td>\n",
       "    </tr>\n",
       "    <tr>\n",
       "      <th>108</th>\n",
       "      <td>From I shall endeavor derive advantages afford</td>\n",
       "      <td>0.062028</td>\n",
       "    </tr>\n",
       "    <tr>\n",
       "      <th>109</th>\n",
       "      <td>Of immediate predecessor, important portion gr...</td>\n",
       "      <td>0.588188</td>\n",
       "    </tr>\n",
       "    <tr>\n",
       "      <th>110</th>\n",
       "      <td>Relying aid derived departments Government, I ...</td>\n",
       "      <td>0.646696</td>\n",
       "    </tr>\n",
       "    <tr>\n",
       "      <th>111</th>\n",
       "      <td></td>\n",
       "      <td>0.000000</td>\n",
       "    </tr>\n",
       "  </tbody>\n",
       "</table>\n",
       "<p>112 rows × 2 columns</p>\n",
       "</div>"
      ],
      "text/plain": [
       "                                     without_stopwords    topic1\n",
       "0    I SHOULD destitute feeling I deeply affected s...  0.079189\n",
       "1    As expression good opinion conduct public serv...  0.071460\n",
       "2    My sensibility increased estimate importance t...  0.693608\n",
       "3    Conscious deficiency, I enter duties great anx...  0.273724\n",
       "4    From responsibility I shrink, calculating conf...  0.166098\n",
       "..                                                 ...       ...\n",
       "107  In Administrations illustrious men preceded hi...  0.190873\n",
       "108     From I shall endeavor derive advantages afford  0.062028\n",
       "109  Of immediate predecessor, important portion gr...  0.588188\n",
       "110  Relying aid derived departments Government, I ...  0.646696\n",
       "111                                                     0.000000\n",
       "\n",
       "[112 rows x 2 columns]"
      ]
     },
     "execution_count": 11,
     "metadata": {},
     "output_type": "execute_result"
    }
   ],
   "source": [
    "# Using pandas to look at the output of lsa\n",
    "\n",
    "topic_encoded_df = pd.DataFrame(lsa, columns=[\"topic1\"])\n",
    "topic_encoded_df[\"without_stopwords\"] = without_stopwords\n",
    "topic_encoded_df[[\"without_stopwords\", \"topic1\"]]\n"
   ]
  },
  {
   "cell_type": "code",
   "execution_count": 12,
   "metadata": {},
   "outputs": [
    {
     "name": "stdout",
     "output_type": "stream",
     "text": [
      "['able', 'abroad', 'abundant', 'accessible', 'accomplish', 'accomplishing', 'accord', 'account', 'act', 'action', 'activity', 'add', 'additional', 'adequate', 'administered', 'administration', 'administrations', 'admit', 'admitted', 'admonish', 'admonition', 'adopt', 'advance', 'advanced', 'advantage', 'advantageously', 'advantages', 'adverse', 'affected', 'affecting', 'affections', 'afford', 'afforded', 'agents', 'agitated', 'agricultural', 'agriculture', 'aid', 'aided', 'almighty', 'aloof', 'american', 'amply', 'ancient', 'and', 'annoyance', 'another', 'anticipated', 'anxiety', 'application', 'appreciated', 'approach', 'approached', 'approaching', 'ardent', 'army', 'arrangement', 'arrangements', 'as', 'ascertained', 'asked', 'assume', 'at', 'atlantic', 'attain', 'attained', 'attainment', 'attended', 'attending', 'attention', 'augments', 'auspices', 'author', 'auxiliary', 'await', 'bays', 'bear', 'being', 'believed', 'belong', 'beneficent', 'benign', 'best', 'better', 'bind', 'blessed', 'blessings', 'body', 'branch', 'branches', 'break', 'bring', 'brought', 'burdens', 'but', 'by', 'calamities', 'calculating', 'called', 'calling', 'campaign', 'canals', 'candor', 'capital', 'care', 'career', 'carriers', 'case', 'cases', 'casualties', 'cause', 'causes', 'certain', 'character', 'characterize', 'charged', 'cherish', 'cherished', 'chief', 'choose', 'circumstances', 'cities', 'citizen', 'citizens', 'civilization', 'claim', 'claiming', 'climate', 'cling', 'closely', 'closest', 'coast', 'comfort', 'command', 'commence', 'commencement', 'commencing', 'commerce', 'committing', 'common', 'communicate', 'community', 'compact', 'competency', 'competent', 'competition', 'complete', 'completely', 'comport', 'concerns', 'condition', 'conduct', 'confidence', 'confined', 'conflicts', 'connected', 'conscious', 'considerations', 'consistent', 'conspicuously', 'constant', 'constituent', 'constitute', 'constituting', 'constitution', 'constitutional', 'containing', 'contains', 'contemplating', 'contest', 'continue', 'contribute', 'contributed', 'convenience', 'convulsed', 'corrupt', 'countries', 'country', 'course', 'credit', 'crime', 'crisis', 'cultivate', 'cultivator', 'daily', 'dangers', 'day', 'dear', 'debasement', 'debt', 'deeply', 'defaulters', 'defects', 'defense', 'deficiency', 'degenerate', 'degree', 'degrees', 'demand', 'demolish', 'demoralizing', 'department', 'departments', 'depend', 'dependent', 'depends', 'depositaries', 'deprived', 'derive', 'derived', 'deserving', 'desire', 'destiny', 'destitute', 'destructive', 'dictated', 'different', 'difficulties', 'dignity', 'diminish', 'disbursement', 'discharge', 'discord', 'displayed', 'disregard', 'distance', 'distances', 'distant', 'distinguished', 'distress', 'divine', 'domain', 'domestic', 'doubt', 'drawn', 'dread', 'duly', 'duration', 'during', 'duties', 'duty', 'each', 'early', 'earnest', 'easily', 'easy', 'economy', 'educated', 'effect', 'efficiency', 'efforts', 'elapsed', 'elective', 'elements', 'emergency', 'eminent', 'emphatically', 'enable', 'encountered', 'encouragement', 'endeavor', 'engaged', 'engine', 'enhance', 'enjoy', 'enjoyed', 'enjoying', 'enjoyment', 'enlarged', 'enlargement', 'enlightened', 'enlightening', 'ensued', 'enter', 'equal', 'equally', 'essential', 'essentially', 'establishment', 'estimate', 'europe', 'event', 'events', 'evince', 'exalted', 'examination', 'example', 'examples', 'excellence', 'executive', 'exercising', 'exertions', 'exhausting', 'exhibit', 'exhibited', 'exist', 'expand', 'expect', 'expense', 'experience', 'experienced', 'experiencing', 'experiment', 'explain', 'explaining', 'exploits', 'expose', 'exposed', 'expressing', 'expression', 'extend', 'extended', 'extending', 'extensive', 'extent', 'extraordinary', 'facilitating', 'facilities', 'facility', 'fail', 'fair', 'faithful', 'fallen', 'family', 'far', 'favor', 'favorable', 'favored', 'features', 'feel', 'feeling', 'felicitate', 'felicity', 'fellowcitizens', 'fellowmen', 'felt', 'fertile', 'fervent', 'fidelity', 'finished', 'fisheries', 'flourished', 'flourishes', 'flourishing', 'foe', 'following', 'footing', 'force', 'forces', 'foreign', 'form', 'formed', 'formidable', 'forms', 'fortifications', 'fortified', 'fortunate', 'fortune', 'fostered', 'fostering', 'fraught', 'free', 'friendly', 'friendship', 'from', 'frontiers', 'fruit', 'fullest', 'functions', 'future', 'gallant', 'garrison', 'generous', 'gigantic', 'given', 'globe', 'glory', 'gone', 'good', 'govern', 'government', 'gracious', 'graciously', 'grand', 'grateful', 'gratification', 'gratifying', 'great', 'greater', 'greatest', 'growth', 'guarded', 'guardian', 'had', 'hands', 'happier', 'happily', 'happiness', 'happy', 'harmony', 'having', 'he', 'healthful', 'heart', 'held', 'here', 'heroic', 'high', 'highest', 'highly', 'history', 'hold', 'holds', 'home', 'honestly', 'honor', 'honorable', 'how', 'if', 'ignorant', 'illustrious', 'immediate', 'impairing', 'implements', 'importance', 'important', 'improved', 'improvement', 'in', 'incapable', 'incident', 'increased', 'independence', 'independent', 'indian', 'indispensable', 'individual', 'individually', 'individuals', 'inducement', 'indulgence', 'industry', 'inevitable', 'inflicted', 'influence', 'infusing', 'inhabitants', 'injury', 'injustice', 'inland', 'instead', 'institutions', 'instructive', 'instrument', 'instruments', 'intelligence', 'intelligent', 'intercourse', 'interested', 'interesting', 'interests', 'interior', 'internally', 'intersecting', 'intimately', 'intrusted', 'invasion', 'invasions', 'involved', 'it', 'joy', 'just', 'justice', 'kept', 'kind', 'kindness', 'known', 'lakes', 'land', 'lands', 'late', 'latitude', 'latter', 'laws', 'leaving', 'legislature', 'length', 'lessfavored', 'let', 'liberality', 'liberties', 'lie', 'life', 'light', 'likewise', 'limits', 'liveu0097a', 'local', 'long', 'look', 'lose', 'loss', 'made', 'maintain', 'maintained', 'maintaining', 'make', 'makes', 'making', 'manner', 'manufacturers', 'manufactures', 'many', 'marked', 'market', 'markets', 'materials', 'maturity', 'means', 'measures', 'meet', 'member', 'men', 'menace', 'merit', 'meritorious', 'mild', 'militia', 'mind', 'minds', 'mode', 'moderate', 'modern', 'money', 'most', 'motion', 'motives', 'my', 'nation', 'national', 'nations', 'naturally', 'nature', 'naval', 'navigation', 'navy', 'near', 'necessary', 'necessities', 'need', 'neutrality', 'never', 'new', 'north', 'nothing', 'nourishes', 'nursery', 'object', 'objects', 'obtain', 'of', 'offering', 'office', 'officially', 'on', 'opinion', 'oppression', 'oppressive', 'order', 'organization', 'organized', 'original', 'ornament', 'other', 'ought', 'our', 'overset', 'overwhelming', 'own', 'pacific', 'paid', 'pardoned', 'parental', 'particularly', 'parties', 'partition', 'parts', 'party', 'pass', 'path', 'patriotism', 'patronizes', 'peace', 'peculiar', 'peculiarly', 'penetrating', 'people', 'perfect', 'perfection', 'perform', 'perhaps', 'period', 'permanent', 'persevere', 'person', 'pervades', 'place', 'placed', 'pleased', 'plunge', 'points', 'police', 'policy', 'political', 'populace', 'portion', 'portions', 'possessing', 'power', 'powerful', 'powers', 'practicable', 'practice', 'prayers', 'preceded', 'predecessor', 'prefers', 'preparation', 'prepared', 'present', 'presented', 'preserve', 'preserving', 'pressure', 'presume', 'presumed', 'price', 'principal', 'principles', 'proceeding', 'produce', 'production', 'productions', 'productive', 'profitable', 'progress', 'prominently', 'promote', 'promptly', 'proof', 'proofs', 'proper', 'property', 'proportion', 'prosperity', 'prosperous', 'prospers', 'protect', 'protected', 'protection', 'protects', 'proud', 'provide', 'providence', 'public', 'punishment', 'purpose', 'purposes', 'purposesu0097the', 'purse', 'pursued', 'quarter', 'questions', 'raised', 'rapid', 'raw', 'reared', 'received', 'recognized', 'recommended', 'recompensed', 'recourse', 'reflection', 'reflects', 'regard', 'regularly', 'regulated', 'relates', 'relations', 'relaxation', 'relying', 'remedy', 'render', 'rendering', 'representatives', 'republican', 'require', 'requisite', 'resisted', 'resource', 'resources', 'respect', 'respective', 'respectively', 'respects', 'responsibility', 'responsible', 'restrained', 'result', 'retained', 'retains', 'retirement', 'revenue', 'revolution', 'reward', 'right', 'rights', 'rivers', 'roads', 'ruin', 'safe', 'safety', 'said', 'sanction', 'satisfaction', 'satisfactory', 'saving', 'scarcely', 'science', 'seamen', 'secure', 'security', 'seen', 'selfgovernment', 'sensibility', 'sentiment', 'sentiments', 'separate', 'seriously', 'service', 'settlements', 'severe', 'shall', 'shed', 'shorten', 'should', 'shown', 'shrink', 'single', 'situated', 'slow', 'social', 'soil', 'some', 'soon', 'sound', 'sources', 'sovereignty', 'speak', 'spectacle', 'speedy', 'spheres', 'spoliation', 'stand', 'state', 'states', 'statesu0097a', 'station', 'stations', 'steady', 'strength', 'strictly', 'strong', 'subject', 'success', 'successful', 'successors', 'such', 'sudden', 'suffered', 'sufficient', 'suffrages', 'superior', 'supplies', 'support', 'supports', 'surplus', 'susceptible', 'sustain', 'sustained', 'systematic', 'taking', 'talents', 'taxes', 'temperate', 'term', 'terminated', 'termination', 'territory', 'test', 'that', 'the', 'their', 'them', 'then', 'therefore', 'these', 'they', 'this', 'thorough', 'thousand', 'through', 'ties', 'time', 'to', 'tone', 'too', 'traced', 'trained', 'transactions', 'treason', 'treasury', 'treaty', 'trials', 'tribes', 'troops', 'trust', 'turn', 'twentyeight', 'under', 'unexpected', 'unfavorable', 'union', 'united', 'unreasonable', 'unsought', 'us', 'useful', 'uselessly', 'usurpation', 'usurper', 'vacant', 'value', 'variance', 'varieties', 'vast', 'venerated', 'view', 'viewed', 'vigor', 'virtue', 'virtuous', 'vows', 'want', 'wants', 'war', 'wars', 'watchful', 'we', 'welfare', 'what', 'while', 'who', 'wholesome', 'willing', 'willingness', 'wise', 'wisely', 'wishes', 'with', 'witness', 'work', 'years', 'youthful', 'zeal', 'zealous', 'zone']\n"
     ]
    },
    {
     "name": "stderr",
     "output_type": "stream",
     "text": [
      "c:\\Users\\Kshitiz\\AppData\\Local\\Programs\\Python\\Python39\\lib\\site-packages\\sklearn\\utils\\deprecation.py:87: FutureWarning: Function get_feature_names is deprecated; get_feature_names is deprecated in 1.0 and will be removed in 1.2. Please use get_feature_names_out instead.\n",
      "  warnings.warn(msg, category=FutureWarning)\n"
     ]
    }
   ],
   "source": [
    "dictionary = vectorizer.get_feature_names()\n",
    "print(dictionary)\n"
   ]
  },
  {
   "cell_type": "code",
   "execution_count": 13,
   "metadata": {},
   "outputs": [
    {
     "data": {
      "text/html": [
       "<div>\n",
       "<style scoped>\n",
       "    .dataframe tbody tr th:only-of-type {\n",
       "        vertical-align: middle;\n",
       "    }\n",
       "\n",
       "    .dataframe tbody tr th {\n",
       "        vertical-align: top;\n",
       "    }\n",
       "\n",
       "    .dataframe thead th {\n",
       "        text-align: right;\n",
       "    }\n",
       "</style>\n",
       "<table border=\"1\" class=\"dataframe\">\n",
       "  <thead>\n",
       "    <tr style=\"text-align: right;\">\n",
       "      <th></th>\n",
       "      <th>topic1</th>\n",
       "    </tr>\n",
       "  </thead>\n",
       "  <tbody>\n",
       "    <tr>\n",
       "      <th>able</th>\n",
       "      <td>0.034502</td>\n",
       "    </tr>\n",
       "    <tr>\n",
       "      <th>abroad</th>\n",
       "      <td>0.001111</td>\n",
       "    </tr>\n",
       "    <tr>\n",
       "      <th>abundant</th>\n",
       "      <td>0.005595</td>\n",
       "    </tr>\n",
       "    <tr>\n",
       "      <th>accessible</th>\n",
       "      <td>0.011623</td>\n",
       "    </tr>\n",
       "    <tr>\n",
       "      <th>accomplish</th>\n",
       "      <td>0.035864</td>\n",
       "    </tr>\n",
       "    <tr>\n",
       "      <th>...</th>\n",
       "      <td>...</td>\n",
       "    </tr>\n",
       "    <tr>\n",
       "      <th>years</th>\n",
       "      <td>0.002681</td>\n",
       "    </tr>\n",
       "    <tr>\n",
       "      <th>youthful</th>\n",
       "      <td>0.005112</td>\n",
       "    </tr>\n",
       "    <tr>\n",
       "      <th>zeal</th>\n",
       "      <td>0.001308</td>\n",
       "    </tr>\n",
       "    <tr>\n",
       "      <th>zealous</th>\n",
       "      <td>0.008987</td>\n",
       "    </tr>\n",
       "    <tr>\n",
       "      <th>zone</th>\n",
       "      <td>0.007119</td>\n",
       "    </tr>\n",
       "  </tbody>\n",
       "</table>\n",
       "<p>877 rows × 1 columns</p>\n",
       "</div>"
      ],
      "text/plain": [
       "              topic1\n",
       "able        0.034502\n",
       "abroad      0.001111\n",
       "abundant    0.005595\n",
       "accessible  0.011623\n",
       "accomplish  0.035864\n",
       "...              ...\n",
       "years       0.002681\n",
       "youthful    0.005112\n",
       "zeal        0.001308\n",
       "zealous     0.008987\n",
       "zone        0.007119\n",
       "\n",
       "[877 rows x 1 columns]"
      ]
     },
     "execution_count": 13,
     "metadata": {},
     "output_type": "execute_result"
    }
   ],
   "source": [
    "encoding_matrix = pd.DataFrame(svd.components_,index=[\"topic1\"] ,columns=dictionary).T\n",
    "encoding_matrix\n",
    "# numerical values can be thought of as an expression of that word in respective topic\n",
    "\n"
   ]
  },
  {
   "cell_type": "code",
   "execution_count": 14,
   "metadata": {},
   "outputs": [
    {
     "data": {
      "text/html": [
       "<div>\n",
       "<style scoped>\n",
       "    .dataframe tbody tr th:only-of-type {\n",
       "        vertical-align: middle;\n",
       "    }\n",
       "\n",
       "    .dataframe tbody tr th {\n",
       "        vertical-align: top;\n",
       "    }\n",
       "\n",
       "    .dataframe thead th {\n",
       "        text-align: right;\n",
       "    }\n",
       "</style>\n",
       "<table border=\"1\" class=\"dataframe\">\n",
       "  <thead>\n",
       "    <tr style=\"text-align: right;\">\n",
       "      <th></th>\n",
       "      <th>topic1</th>\n",
       "      <th>abs_topic1</th>\n",
       "    </tr>\n",
       "  </thead>\n",
       "  <tbody>\n",
       "    <tr>\n",
       "      <th>states</th>\n",
       "      <td>4.141260e-01</td>\n",
       "      <td>4.141260e-01</td>\n",
       "    </tr>\n",
       "    <tr>\n",
       "      <th>government</th>\n",
       "      <td>3.733790e-01</td>\n",
       "      <td>3.733790e-01</td>\n",
       "    </tr>\n",
       "    <tr>\n",
       "      <th>foreign</th>\n",
       "      <td>2.100045e-01</td>\n",
       "      <td>2.100045e-01</td>\n",
       "    </tr>\n",
       "    <tr>\n",
       "      <th>great</th>\n",
       "      <td>2.085549e-01</td>\n",
       "      <td>2.085549e-01</td>\n",
       "    </tr>\n",
       "    <tr>\n",
       "      <th>war</th>\n",
       "      <td>1.730048e-01</td>\n",
       "      <td>1.730048e-01</td>\n",
       "    </tr>\n",
       "    <tr>\n",
       "      <th>...</th>\n",
       "      <td>...</td>\n",
       "      <td>...</td>\n",
       "    </tr>\n",
       "    <tr>\n",
       "      <th>attainment</th>\n",
       "      <td>-6.986406e-09</td>\n",
       "      <td>6.986406e-09</td>\n",
       "    </tr>\n",
       "    <tr>\n",
       "      <th>usurpation</th>\n",
       "      <td>-6.986406e-09</td>\n",
       "      <td>6.986406e-09</td>\n",
       "    </tr>\n",
       "    <tr>\n",
       "      <th>easy</th>\n",
       "      <td>-6.986406e-09</td>\n",
       "      <td>6.986406e-09</td>\n",
       "    </tr>\n",
       "    <tr>\n",
       "      <th>usurper</th>\n",
       "      <td>-6.986406e-09</td>\n",
       "      <td>6.986406e-09</td>\n",
       "    </tr>\n",
       "    <tr>\n",
       "      <th>soon</th>\n",
       "      <td>-6.986406e-09</td>\n",
       "      <td>6.986406e-09</td>\n",
       "    </tr>\n",
       "  </tbody>\n",
       "</table>\n",
       "<p>877 rows × 2 columns</p>\n",
       "</div>"
      ],
      "text/plain": [
       "                  topic1    abs_topic1\n",
       "states      4.141260e-01  4.141260e-01\n",
       "government  3.733790e-01  3.733790e-01\n",
       "foreign     2.100045e-01  2.100045e-01\n",
       "great       2.085549e-01  2.085549e-01\n",
       "war         1.730048e-01  1.730048e-01\n",
       "...                  ...           ...\n",
       "attainment -6.986406e-09  6.986406e-09\n",
       "usurpation -6.986406e-09  6.986406e-09\n",
       "easy       -6.986406e-09  6.986406e-09\n",
       "usurper    -6.986406e-09  6.986406e-09\n",
       "soon       -6.986406e-09  6.986406e-09\n",
       "\n",
       "[877 rows x 2 columns]"
      ]
     },
     "execution_count": 14,
     "metadata": {},
     "output_type": "execute_result"
    }
   ],
   "source": [
    "#Considering the words affecting variance in data\n",
    "encoding_matrix['abs_topic1']=np.abs(encoding_matrix)\n",
    "encoding_matrix.sort_values('abs_topic1',ascending=False)"
   ]
  },
  {
   "cell_type": "code",
   "execution_count": 15,
   "metadata": {},
   "outputs": [
    {
     "data": {
      "text/html": [
       "<div>\n",
       "<style scoped>\n",
       "    .dataframe tbody tr th:only-of-type {\n",
       "        vertical-align: middle;\n",
       "    }\n",
       "\n",
       "    .dataframe tbody tr th {\n",
       "        vertical-align: top;\n",
       "    }\n",
       "\n",
       "    .dataframe thead th {\n",
       "        text-align: right;\n",
       "    }\n",
       "</style>\n",
       "<table border=\"1\" class=\"dataframe\">\n",
       "  <thead>\n",
       "    <tr style=\"text-align: right;\">\n",
       "      <th></th>\n",
       "      <th>abs_topic1</th>\n",
       "    </tr>\n",
       "  </thead>\n",
       "  <tbody>\n",
       "    <tr>\n",
       "      <th>states</th>\n",
       "      <td>4.141260e-01</td>\n",
       "    </tr>\n",
       "    <tr>\n",
       "      <th>government</th>\n",
       "      <td>3.733790e-01</td>\n",
       "    </tr>\n",
       "    <tr>\n",
       "      <th>foreign</th>\n",
       "      <td>2.100045e-01</td>\n",
       "    </tr>\n",
       "    <tr>\n",
       "      <th>great</th>\n",
       "      <td>2.085549e-01</td>\n",
       "    </tr>\n",
       "    <tr>\n",
       "      <th>war</th>\n",
       "      <td>1.730048e-01</td>\n",
       "    </tr>\n",
       "    <tr>\n",
       "      <th>...</th>\n",
       "      <td>...</td>\n",
       "    </tr>\n",
       "    <tr>\n",
       "      <th>attainment</th>\n",
       "      <td>6.986406e-09</td>\n",
       "    </tr>\n",
       "    <tr>\n",
       "      <th>usurpation</th>\n",
       "      <td>6.986406e-09</td>\n",
       "    </tr>\n",
       "    <tr>\n",
       "      <th>easy</th>\n",
       "      <td>6.986406e-09</td>\n",
       "    </tr>\n",
       "    <tr>\n",
       "      <th>usurper</th>\n",
       "      <td>6.986406e-09</td>\n",
       "    </tr>\n",
       "    <tr>\n",
       "      <th>soon</th>\n",
       "      <td>6.986406e-09</td>\n",
       "    </tr>\n",
       "  </tbody>\n",
       "</table>\n",
       "<p>877 rows × 1 columns</p>\n",
       "</div>"
      ],
      "text/plain": [
       "              abs_topic1\n",
       "states      4.141260e-01\n",
       "government  3.733790e-01\n",
       "foreign     2.100045e-01\n",
       "great       2.085549e-01\n",
       "war         1.730048e-01\n",
       "...                  ...\n",
       "attainment  6.986406e-09\n",
       "usurpation  6.986406e-09\n",
       "easy        6.986406e-09\n",
       "usurper     6.986406e-09\n",
       "soon        6.986406e-09\n",
       "\n",
       "[877 rows x 1 columns]"
      ]
     },
     "execution_count": 15,
     "metadata": {},
     "output_type": "execute_result"
    }
   ],
   "source": [
    "final_matrix=encoding_matrix.sort_values('abs_topic1',ascending=False)\n",
    "final_matrix[[\"abs_topic1\"]]"
   ]
  },
  {
   "cell_type": "code",
   "execution_count": 16,
   "metadata": {},
   "outputs": [],
   "source": [
    "# # Extracting out final sentence from topic 1\n",
    "# sentence1 = final_matrix[final_matrix[\"abs_topic1\"] >= 0.2]\n",
    "# sentence1[['abs_topic1']]\n"
   ]
  },
  {
   "cell_type": "code",
   "execution_count": 17,
   "metadata": {},
   "outputs": [
    {
     "data": {
      "text/html": [
       "<div>\n",
       "<style scoped>\n",
       "    .dataframe tbody tr th:only-of-type {\n",
       "        vertical-align: middle;\n",
       "    }\n",
       "\n",
       "    .dataframe tbody tr th {\n",
       "        vertical-align: top;\n",
       "    }\n",
       "\n",
       "    .dataframe thead th {\n",
       "        text-align: right;\n",
       "    }\n",
       "</style>\n",
       "<table border=\"1\" class=\"dataframe\">\n",
       "  <thead>\n",
       "    <tr style=\"text-align: right;\">\n",
       "      <th></th>\n",
       "      <th>abs_topic1</th>\n",
       "    </tr>\n",
       "  </thead>\n",
       "  <tbody>\n",
       "    <tr>\n",
       "      <th>states</th>\n",
       "      <td>0.414126</td>\n",
       "    </tr>\n",
       "    <tr>\n",
       "      <th>government</th>\n",
       "      <td>0.373379</td>\n",
       "    </tr>\n",
       "    <tr>\n",
       "      <th>foreign</th>\n",
       "      <td>0.210004</td>\n",
       "    </tr>\n",
       "    <tr>\n",
       "      <th>great</th>\n",
       "      <td>0.208555</td>\n",
       "    </tr>\n",
       "  </tbody>\n",
       "</table>\n",
       "</div>"
      ],
      "text/plain": [
       "            abs_topic1\n",
       "states        0.414126\n",
       "government    0.373379\n",
       "foreign       0.210004\n",
       "great         0.208555"
      ]
     },
     "execution_count": 17,
     "metadata": {},
     "output_type": "execute_result"
    }
   ],
   "source": [
    "# Extracting out final sentence from topic 1\n",
    "sentence1 = final_matrix.head(4)\n",
    "sentence1[['abs_topic1']]"
   ]
  },
  {
   "cell_type": "code",
   "execution_count": 18,
   "metadata": {},
   "outputs": [
    {
     "data": {
      "text/plain": [
       "['states', 'government', 'foreign', 'great']"
      ]
     },
     "execution_count": 18,
     "metadata": {},
     "output_type": "execute_result"
    }
   ],
   "source": [
    "index_list = list(sentence1.index.values)\n",
    "index_list"
   ]
  },
  {
   "cell_type": "code",
   "execution_count": 19,
   "metadata": {},
   "outputs": [
    {
     "data": {
      "text/plain": [
       "'states government foreign great'"
      ]
     },
     "execution_count": 19,
     "metadata": {},
     "output_type": "execute_result"
    }
   ],
   "source": [
    "significant_final=' '.join(index_list)\n",
    "significant_final"
   ]
  },
  {
   "cell_type": "code",
   "execution_count": 20,
   "metadata": {},
   "outputs": [
    {
     "data": {
      "text/plain": [
       "['states', 'government', 'foreign', 'great']"
      ]
     },
     "execution_count": 20,
     "metadata": {},
     "output_type": "execute_result"
    }
   ],
   "source": [
    "compression= 0.8\n",
    "words_after_compression=[]\n",
    "if compression <= 0.33:\n",
    "    words_after_compression.append(index_list[0])\n",
    "elif compression <= 0.66 and compression > 0.33:\n",
    "    words_after_compression.append(index_list[0])\n",
    "    words_after_compression.append(index_list[1])\n",
    "else :\n",
    "    words_after_compression.extend(index_list)\n",
    "\n",
    "\n",
    "words_after_compression"
   ]
  },
  {
   "cell_type": "code",
   "execution_count": 21,
   "metadata": {},
   "outputs": [
    {
     "data": {
      "text/plain": [
       "[' My sensibility is increased by a just estimate of the importance of the trust and of the nature and extent of its duties, with the proper discharge of which the highest interests of a great and free people are intimately connected',\n",
       " ' Conscious of my own deficiency, I cannot enter on these duties without great anxiety for the result',\n",
       " ' In following their venerated example my attention is naturally drawn to the great causes which have contributed in a principal degree to produce the present happy condition of the United States',\n",
       " ' Through this whole term the Government has been what may emphatically be called self-government',\n",
       " ' And what has been the effect? To whatever object we turn our attention, whether it relates to our foreign or domestic concerns, we find abundant cause to felicitate ourselves in the excellence of our institutions',\n",
       " ' \\xa0\\xa0Under this Constitution our commerce has been wisely regulated with foreign nations and between the States; new States have been admitted into our Union; our territory has been enlarged by fair and honorable treaty, and with great advantage to the original States; the States, respectively protected by the National Government under a mild, parental system against foreign dangers, \\nand enjoying within their separate spheres, by a wise partition of power, a just proportion of the sovereignty, have improved their police, extended their settlements, and attained a strength and maturity which are the best proofs of wholesome laws well administered',\n",
       " ' \\xa0\\xa0Under this Constitution our commerce has been wisely regulated with foreign nations and between the States; new States have been admitted into our Union; our territory has been enlarged by fair and honorable treaty, and with great advantage to the original States; the States, respectively protected by the National Government under a mild, parental system against foreign dangers, \\nand enjoying within their separate spheres, by a wise partition of power, a just proportion of the sovereignty, have improved their police, extended their settlements, and attained a strength and maturity which are the best proofs of wholesome laws well administered',\n",
       " ' \\xa0\\xa0Some who might admit the competency of our Government to these beneficent duties might doubt it in trials which put to the test its strength and efficiency as a member of the great community of nations',\n",
       " ' In the course of these conflicts the United States received great injury from several of the parties',\n",
       " ' War became at length inevitable, and the result has shown that our Government is equal to that, the greatest of trials, under the most unfavorable circumstances',\n",
       " ' \\xa0\\xa0Such, then, is the happy Government under which we live<U+0097>a Government adequate to every purpose for which the social compact is formed; a Government elective in all its branches, under which every citizen may by his merit obtain the highest trust recognized by the Constitution; which contains within it no cause of discord, none to put at variance one portion of the community with another; a Government which protects every citizen in the full enjoyment of his rights, and is able to protect the nation against injustice from foreign powers',\n",
       " ' Penetrating internally to the Great Lakes and beyond the sources of the great rivers which communicate through our whole interior, no country was ever happier with respect to its domain',\n",
       " ' The great agricultural interest of the nation prospers under its protection',\n",
       " ' Our fellow-citizens of the North engaged in navigation find great encouragement in being made the favored carriers of the vast productions of the other portions of the United States, while the inhabitants of these are amply recompensed, in their turn, by the nursery for seamen and naval force thus formed and reared up for the support of our common rights',\n",
       " ' Let us, then, look to the great cause, and endeavor to preserve it in full force',\n",
       " ' To put our extensive coast in such a state of defense as to secure our cities and interior from invasion will be attended with expense, but the work when finished will be permanent, and it is fair to presume that a single campaign of invasion by a naval force superior to our own, aided by a few thousand land troops, would expose us to greater expense, without taking into the estimate the loss of property and distress of our citizens, than would be sufficient for this great work',\n",
       " ' Our land and naval forces should be moderate, but adequate to the necessary purposes<U+0097>the former to garrison and preserve our fortifications and to meet the first invasions of a foreign foe, and, while constituting the elements of a greater force, to preserve the science as well as all the necessary implements of war in a state to be brought into activity in the event of war; the latter, retained within the limits proper in a state of peace, might aid in maintaining the neutrality of the United States with dignity in the wars of other powers and in saving the property of their citizens from spoliation',\n",
       " ' Our land and naval forces should be moderate, but adequate to the necessary purposes<U+0097>the former to garrison and preserve our fortifications and to meet the first invasions of a foreign foe, and, while constituting the elements of a greater force, to preserve the science as well as all the necessary implements of war in a state to be brought into activity in the event of war; the latter, retained within the limits proper in a state of peace, might aid in maintaining the neutrality of the United States with dignity in the wars of other powers and in saving the property of their citizens from spoliation',\n",
       " ' In time of war, with the enlargement of which the great naval resources of the country render it susceptible, and which should be duly fostered in time of peace, it would contribute essentially, both as an auxiliary of defense and as a powerful engine of annoyance, to diminish the calamities of war and to bring the war to a speedy and honorable termination',\n",
       " ' In such cases recourse must be had to the great body of the people, and in a manner to produce the best effect',\n",
       " ' With such an organization of such a people the United States have nothing to dread from foreign invasion',\n",
       " ' By thus facilitating the intercourse between the States we shall add much to the convenience and comfort of our fellow-citizens, much to the ornament of the country, and, what is of greater importance, we shall shorten distances, and, by making each part more accessible to and dependent on the other, we shall bind the Union more closely together',\n",
       " ' Nature has done so much for us by intersecting the country with so many great rivers, bays, and lakes, approaching from distant points so near to each other, that the inducement to complete the work seems to be peculiarly strong',\n",
       " ' It is important, too, that the capital which nourishes our manufacturers should be domestic, as its influence in that case instead of exhausting, as it may do in foreign hands, would be felt advantageously on agriculture and every other branch of industry',\n",
       " ' Equally important is it to provide at home a market for our raw materials, as by extending the competition it will enhance the price and protect the cultivator against the casualties incident to foreign markets',\n",
       " '  \\xa0\\xa0The great amount of our revenue and the flourishing state of the Treasury are a full proof of the competency of the national resources for any emergency, as they are of the willingness of our fellow-citizens to bear the burdens which the public necessities require',\n",
       " ' The vast amount of vacant lands, the value of which daily augments, forms an additional resource of great extent and duration',\n",
       " ' The American people have encountered together great dangers and sustained severe trials with success',\n",
       " ' They constitute one great family with a common interest',\n",
       " '  \\xa0\\xa0Never did a government commence under auspices so favorable, nor ever was success so complete',\n",
       " ' In contemplating what we have still to perform, the heart of every citizen must expand with joy when he reflects how near our Government has approached to perfection; that in respect to it we have no essential improvement to make; that the great object is to preserve it in the essential principles and features which characterize it, and that is to be done by preserving the virtue and enlightening the minds of the people; and as a security against foreign dangers to adopt such arrangements as are indispensable to the support of our independence, our rights and liberties',\n",
       " ' In contemplating what we have still to perform, the heart of every citizen must expand with joy when he reflects how near our Government has approached to perfection; that in respect to it we have no essential improvement to make; that the great object is to preserve it in the essential principles and features which characterize it, and that is to be done by preserving the virtue and enlightening the minds of the people; and as a security against foreign dangers to adopt such arrangements as are indispensable to the support of our independence, our rights and liberties',\n",
       " ' Of my immediate predecessor, under whom so important a portion of this great and successful experiment has been made, I shall be pardoned for expressing my earnest wishes that he may long enjoy in his retirement the affections of a grateful country, the best reward of exalted talents and the most faithful and meritorious service']"
      ]
     },
     "execution_count": 21,
     "metadata": {},
     "output_type": "execute_result"
    }
   ],
   "source": [
    "final_conclusion=[]\n",
    "for i in range(len(final_doc)):\n",
    "    for j in range(len(words_after_compression)):\n",
    "        if words_after_compression[j] in final_doc[i]:\n",
    "            final_conclusion.append(final_doc[i])\n",
    "    \n",
    "final_conclusion"
   ]
  },
  {
   "cell_type": "code",
   "execution_count": 22,
   "metadata": {},
   "outputs": [],
   "source": [
    "list_final=list(set(final_conclusion))\n",
    "# list_final"
   ]
  },
  {
   "cell_type": "code",
   "execution_count": 23,
   "metadata": {},
   "outputs": [
    {
     "data": {
      "text/plain": [
       "' The vast amount of vacant lands, the value of which daily augments, forms an additional resource of great extent and duration.  \\xa0\\xa0The great amount of our revenue and the flourishing state of the Treasury are a full proof of the competency of the national resources for any emergency, as they are of the willingness of our fellow-citizens to bear the burdens which the public necessities require. And what has been the effect? To whatever object we turn our attention, whether it relates to our foreign or domestic concerns, we find abundant cause to felicitate ourselves in the excellence of our institutions. Penetrating internally to the Great Lakes and beyond the sources of the great rivers which communicate through our whole interior, no country was ever happier with respect to its domain. In following their venerated example my attention is naturally drawn to the great causes which have contributed in a principal degree to produce the present happy condition of the United States. It is important, too, that the capital which nourishes our manufacturers should be domestic, as its influence in that case instead of exhausting, as it may do in foreign hands, would be felt advantageously on agriculture and every other branch of industry. With such an organization of such a people the United States have nothing to dread from foreign invasion. Through this whole term the Government has been what may emphatically be called self-government. Conscious of my own deficiency, I cannot enter on these duties without great anxiety for the result.  \\xa0\\xa0Never did a government commence under auspices so favorable, nor ever was success so complete. Equally important is it to provide at home a market for our raw materials, as by extending the competition it will enhance the price and protect the cultivator against the casualties incident to foreign markets. In such cases recourse must be had to the great body of the people, and in a manner to produce the best effect. Our fellow-citizens of the North engaged in navigation find great encouragement in being made the favored carriers of the vast productions of the other portions of the United States, while the inhabitants of these are amply recompensed, in their turn, by the nursery for seamen and naval force thus formed and reared up for the support of our common rights. The great agricultural interest of the nation prospers under its protection. \\xa0\\xa0Under this Constitution our commerce has been wisely regulated with foreign nations and between the States; new States have been admitted into our Union; our territory has been enlarged by fair and honorable treaty, and with great advantage to the original States; the States, respectively protected by the National Government under a mild, parental system against foreign dangers, \\nand enjoying within their separate spheres, by a wise partition of power, a just proportion of the sovereignty, have improved their police, extended their settlements, and attained a strength and maturity which are the best proofs of wholesome laws well administered. Nature has done so much for us by intersecting the country with so many great rivers, bays, and lakes, approaching from distant points so near to each other, that the inducement to complete the work seems to be peculiarly strong. In time of war, with the enlargement of which the great naval resources of the country render it susceptible, and which should be duly fostered in time of peace, it would contribute essentially, both as an auxiliary of defense and as a powerful engine of annoyance, to diminish the calamities of war and to bring the war to a speedy and honorable termination. In contemplating what we have still to perform, the heart of every citizen must expand with joy when he reflects how near our Government has approached to perfection; that in respect to it we have no essential improvement to make; that the great object is to preserve it in the essential principles and features which characterize it, and that is to be done by preserving the virtue and enlightening the minds of the people; and as a security against foreign dangers to adopt such arrangements as are indispensable to the support of our independence, our rights and liberties. To put our extensive coast in such a state of defense as to secure our cities and interior from invasion will be attended with expense, but the work when finished will be permanent, and it is fair to presume that a single campaign of invasion by a naval force superior to our own, aided by a few thousand land troops, would expose us to greater expense, without taking into the estimate the loss of property and distress of our citizens, than would be sufficient for this great work. Of my immediate predecessor, under whom so important a portion of this great and successful experiment has been made, I shall be pardoned for expressing my earnest wishes that he may long enjoy in his retirement the affections of a grateful country, the best reward of exalted talents and the most faithful and meritorious service. War became at length inevitable, and the result has shown that our Government is equal to that, the greatest of trials, under the most unfavorable circumstances. \\xa0\\xa0Such, then, is the happy Government under which we live<U+0097>a Government adequate to every purpose for which the social compact is formed; a Government elective in all its branches, under which every citizen may by his merit obtain the highest trust recognized by the Constitution; which contains within it no cause of discord, none to put at variance one portion of the community with another; a Government which protects every citizen in the full enjoyment of his rights, and is able to protect the nation against injustice from foreign powers. The American people have encountered together great dangers and sustained severe trials with success. Our land and naval forces should be moderate, but adequate to the necessary purposes<U+0097>the former to garrison and preserve our fortifications and to meet the first invasions of a foreign foe, and, while constituting the elements of a greater force, to preserve the science as well as all the necessary implements of war in a state to be brought into activity in the event of war; the latter, retained within the limits proper in a state of peace, might aid in maintaining the neutrality of the United States with dignity in the wars of other powers and in saving the property of their citizens from spoliation. \\xa0\\xa0Some who might admit the competency of our Government to these beneficent duties might doubt it in trials which put to the test its strength and efficiency as a member of the great community of nations. In the course of these conflicts the United States received great injury from several of the parties. They constitute one great family with a common interest. My sensibility is increased by a just estimate of the importance of the trust and of the nature and extent of its duties, with the proper discharge of which the highest interests of a great and free people are intimately connected. By thus facilitating the intercourse between the States we shall add much to the convenience and comfort of our fellow-citizens, much to the ornament of the country, and, what is of greater importance, we shall shorten distances, and, by making each part more accessible to and dependent on the other, we shall bind the Union more closely together. Let us, then, look to the great cause, and endeavor to preserve it in full force.'"
      ]
     },
     "execution_count": 23,
     "metadata": {},
     "output_type": "execute_result"
    }
   ],
   "source": [
    "summ_final = '.'.join(list_final) +\".\"\n",
    "summ_final"
   ]
  },
  {
   "cell_type": "code",
   "execution_count": 24,
   "metadata": {},
   "outputs": [],
   "source": [
    "with open('final_output.txt', 'w') as filehandle:\n",
    "    for listitem in list_final:\n",
    "        filehandle.write('%s\\n' % listitem)\n"
   ]
  },
  {
   "cell_type": "code",
   "execution_count": 25,
   "metadata": {},
   "outputs": [],
   "source": [
    "possible_headings=[]\n",
    "for i in index_list:\n",
    "    for j in index_list:\n",
    "        if i != j:\n",
    "                possible_headings.append(i+' '+j)\n",
    "\n",
    "# possible_headings"
   ]
  },
  {
   "cell_type": "code",
   "execution_count": 26,
   "metadata": {},
   "outputs": [
    {
     "data": {
      "text/plain": [
       "['government great',\n",
       " 'government states',\n",
       " 'foreign states',\n",
       " 'foreign government',\n",
       " 'great states',\n",
       " 'foreign great']"
      ]
     },
     "execution_count": 26,
     "metadata": {},
     "output_type": "execute_result"
    }
   ],
   "source": [
    "final_headings=[]\n",
    "for i in possible_headings:\n",
    "    split_list=i.split()\n",
    "    sorted_list=sorted(split_list)\n",
    "    final_headings.append(sorted_list)\n",
    "\n",
    "final_headings_str=[]\n",
    "for i in final_headings:\n",
    "        final_headings_str.append(i[0]+' '+i[1])\n",
    "\n",
    "ff_heading=list(set(final_headings_str))\n",
    "ff_heading\n"
   ]
  },
  {
   "cell_type": "code",
   "execution_count": 27,
   "metadata": {},
   "outputs": [],
   "source": [
    "vectorizer = CountVectorizer()\n",
    "bag_of_words1 = vectorizer.fit_transform(ff_heading)\n"
   ]
  },
  {
   "cell_type": "code",
   "execution_count": 28,
   "metadata": {},
   "outputs": [
    {
     "data": {
      "text/plain": [
       "matrix([[0, 1, 1, 0],\n",
       "        [0, 1, 0, 1],\n",
       "        [1, 0, 0, 1],\n",
       "        [1, 1, 0, 0],\n",
       "        [0, 0, 1, 1],\n",
       "        [1, 0, 1, 0]], dtype=int64)"
      ]
     },
     "execution_count": 28,
     "metadata": {},
     "output_type": "execute_result"
    }
   ],
   "source": [
    "bag_of_words1.todense()\n"
   ]
  },
  {
   "cell_type": "code",
   "execution_count": 29,
   "metadata": {},
   "outputs": [],
   "source": [
    "svd1 = TruncatedSVD(n_components=2)\n",
    "lsa1 = svd1.fit_transform(bag_of_words1)\n"
   ]
  },
  {
   "cell_type": "code",
   "execution_count": 30,
   "metadata": {},
   "outputs": [
    {
     "data": {
      "text/html": [
       "<div>\n",
       "<style scoped>\n",
       "    .dataframe tbody tr th:only-of-type {\n",
       "        vertical-align: middle;\n",
       "    }\n",
       "\n",
       "    .dataframe tbody tr th {\n",
       "        vertical-align: top;\n",
       "    }\n",
       "\n",
       "    .dataframe thead th {\n",
       "        text-align: right;\n",
       "    }\n",
       "</style>\n",
       "<table border=\"1\" class=\"dataframe\">\n",
       "  <thead>\n",
       "    <tr style=\"text-align: right;\">\n",
       "      <th></th>\n",
       "      <th>ff_heading</th>\n",
       "      <th>topic1</th>\n",
       "      <th>topic2</th>\n",
       "    </tr>\n",
       "  </thead>\n",
       "  <tbody>\n",
       "    <tr>\n",
       "      <th>0</th>\n",
       "      <td>government great</td>\n",
       "      <td>1.0</td>\n",
       "      <td>-0.504145</td>\n",
       "    </tr>\n",
       "    <tr>\n",
       "      <th>1</th>\n",
       "      <td>government states</td>\n",
       "      <td>1.0</td>\n",
       "      <td>-0.304145</td>\n",
       "    </tr>\n",
       "    <tr>\n",
       "      <th>2</th>\n",
       "      <td>foreign states</td>\n",
       "      <td>1.0</td>\n",
       "      <td>0.504145</td>\n",
       "    </tr>\n",
       "    <tr>\n",
       "      <th>3</th>\n",
       "      <td>foreign government</td>\n",
       "      <td>1.0</td>\n",
       "      <td>-0.808290</td>\n",
       "    </tr>\n",
       "    <tr>\n",
       "      <th>4</th>\n",
       "      <td>great states</td>\n",
       "      <td>1.0</td>\n",
       "      <td>0.808290</td>\n",
       "    </tr>\n",
       "    <tr>\n",
       "      <th>5</th>\n",
       "      <td>foreign great</td>\n",
       "      <td>1.0</td>\n",
       "      <td>0.304145</td>\n",
       "    </tr>\n",
       "  </tbody>\n",
       "</table>\n",
       "</div>"
      ],
      "text/plain": [
       "           ff_heading  topic1    topic2\n",
       "0    government great     1.0 -0.504145\n",
       "1   government states     1.0 -0.304145\n",
       "2      foreign states     1.0  0.504145\n",
       "3  foreign government     1.0 -0.808290\n",
       "4        great states     1.0  0.808290\n",
       "5       foreign great     1.0  0.304145"
      ]
     },
     "metadata": {},
     "output_type": "display_data"
    }
   ],
   "source": [
    "topic_encoded_df = pd.DataFrame(lsa1, columns=[\"topic1\",\"topic2\"])\n",
    "topic_encoded_df[\"ff_heading\"]= ff_heading\n",
    "display(topic_encoded_df[[\"ff_heading\",\"topic1\",\"topic2\"]])"
   ]
  },
  {
   "cell_type": "code",
   "execution_count": 31,
   "metadata": {},
   "outputs": [
    {
     "name": "stderr",
     "output_type": "stream",
     "text": [
      "c:\\Users\\Kshitiz\\AppData\\Local\\Programs\\Python\\Python39\\lib\\site-packages\\sklearn\\utils\\deprecation.py:87: FutureWarning: Function get_feature_names is deprecated; get_feature_names is deprecated in 1.0 and will be removed in 1.2. Please use get_feature_names_out instead.\n",
      "  warnings.warn(msg, category=FutureWarning)\n"
     ]
    },
    {
     "data": {
      "text/plain": [
       "['foreign', 'government', 'great', 'states']"
      ]
     },
     "execution_count": 31,
     "metadata": {},
     "output_type": "execute_result"
    }
   ],
   "source": [
    "dictionary1 = vectorizer.get_feature_names()\n",
    "dictionary1\n"
   ]
  },
  {
   "cell_type": "code",
   "execution_count": 32,
   "metadata": {},
   "outputs": [
    {
     "data": {
      "text/html": [
       "<div>\n",
       "<style scoped>\n",
       "    .dataframe tbody tr th:only-of-type {\n",
       "        vertical-align: middle;\n",
       "    }\n",
       "\n",
       "    .dataframe tbody tr th {\n",
       "        vertical-align: top;\n",
       "    }\n",
       "\n",
       "    .dataframe thead th {\n",
       "        text-align: right;\n",
       "    }\n",
       "</style>\n",
       "<table border=\"1\" class=\"dataframe\">\n",
       "  <thead>\n",
       "    <tr style=\"text-align: right;\">\n",
       "      <th></th>\n",
       "      <th>topic1</th>\n",
       "      <th>topic2</th>\n",
       "    </tr>\n",
       "  </thead>\n",
       "  <tbody>\n",
       "    <tr>\n",
       "      <th>foreign</th>\n",
       "      <td>0.5</td>\n",
       "      <td>-0.000000</td>\n",
       "    </tr>\n",
       "    <tr>\n",
       "      <th>government</th>\n",
       "      <td>0.5</td>\n",
       "      <td>-0.808290</td>\n",
       "    </tr>\n",
       "    <tr>\n",
       "      <th>great</th>\n",
       "      <td>0.5</td>\n",
       "      <td>0.304145</td>\n",
       "    </tr>\n",
       "    <tr>\n",
       "      <th>states</th>\n",
       "      <td>0.5</td>\n",
       "      <td>0.504145</td>\n",
       "    </tr>\n",
       "  </tbody>\n",
       "</table>\n",
       "</div>"
      ],
      "text/plain": [
       "            topic1    topic2\n",
       "foreign        0.5 -0.000000\n",
       "government     0.5 -0.808290\n",
       "great          0.5  0.304145\n",
       "states         0.5  0.504145"
      ]
     },
     "execution_count": 32,
     "metadata": {},
     "output_type": "execute_result"
    }
   ],
   "source": [
    "encoding_matrix1 = pd.DataFrame(\n",
    "    svd1.components_, index=[\"topic1\", \"topic2\"], columns=dictionary1).T\n",
    "encoding_matrix1\n"
   ]
  },
  {
   "cell_type": "code",
   "execution_count": 33,
   "metadata": {},
   "outputs": [
    {
     "data": {
      "text/html": [
       "<div>\n",
       "<style scoped>\n",
       "    .dataframe tbody tr th:only-of-type {\n",
       "        vertical-align: middle;\n",
       "    }\n",
       "\n",
       "    .dataframe tbody tr th {\n",
       "        vertical-align: top;\n",
       "    }\n",
       "\n",
       "    .dataframe thead th {\n",
       "        text-align: right;\n",
       "    }\n",
       "</style>\n",
       "<table border=\"1\" class=\"dataframe\">\n",
       "  <thead>\n",
       "    <tr style=\"text-align: right;\">\n",
       "      <th></th>\n",
       "      <th>topic1</th>\n",
       "      <th>topic2</th>\n",
       "      <th>abs_topic1</th>\n",
       "      <th>abs_topic2</th>\n",
       "    </tr>\n",
       "  </thead>\n",
       "  <tbody>\n",
       "    <tr>\n",
       "      <th>foreign</th>\n",
       "      <td>0.5</td>\n",
       "      <td>-0.000000</td>\n",
       "      <td>0.5</td>\n",
       "      <td>0.000000</td>\n",
       "    </tr>\n",
       "    <tr>\n",
       "      <th>states</th>\n",
       "      <td>0.5</td>\n",
       "      <td>0.504145</td>\n",
       "      <td>0.5</td>\n",
       "      <td>0.504145</td>\n",
       "    </tr>\n",
       "    <tr>\n",
       "      <th>great</th>\n",
       "      <td>0.5</td>\n",
       "      <td>0.304145</td>\n",
       "      <td>0.5</td>\n",
       "      <td>0.304145</td>\n",
       "    </tr>\n",
       "    <tr>\n",
       "      <th>government</th>\n",
       "      <td>0.5</td>\n",
       "      <td>-0.808290</td>\n",
       "      <td>0.5</td>\n",
       "      <td>0.808290</td>\n",
       "    </tr>\n",
       "  </tbody>\n",
       "</table>\n",
       "</div>"
      ],
      "text/plain": [
       "            topic1    topic2  abs_topic1  abs_topic2\n",
       "foreign        0.5 -0.000000         0.5    0.000000\n",
       "states         0.5  0.504145         0.5    0.504145\n",
       "great          0.5  0.304145         0.5    0.304145\n",
       "government     0.5 -0.808290         0.5    0.808290"
      ]
     },
     "execution_count": 33,
     "metadata": {},
     "output_type": "execute_result"
    }
   ],
   "source": [
    "encoding_matrix1['abs_topic1']=np.abs(encoding_matrix1[\"topic1\"])\n",
    "encoding_matrix1['abs_topic2']=np.abs(encoding_matrix1[\"topic2\"])\n",
    "encoding_matrix1.sort_values('abs_topic1',ascending=False)"
   ]
  },
  {
   "cell_type": "code",
   "execution_count": 34,
   "metadata": {},
   "outputs": [
    {
     "data": {
      "text/html": [
       "<div>\n",
       "<style scoped>\n",
       "    .dataframe tbody tr th:only-of-type {\n",
       "        vertical-align: middle;\n",
       "    }\n",
       "\n",
       "    .dataframe tbody tr th {\n",
       "        vertical-align: top;\n",
       "    }\n",
       "\n",
       "    .dataframe thead th {\n",
       "        text-align: right;\n",
       "    }\n",
       "</style>\n",
       "<table border=\"1\" class=\"dataframe\">\n",
       "  <thead>\n",
       "    <tr style=\"text-align: right;\">\n",
       "      <th></th>\n",
       "      <th>abs_topic1</th>\n",
       "      <th>abs_topic2</th>\n",
       "    </tr>\n",
       "  </thead>\n",
       "  <tbody>\n",
       "    <tr>\n",
       "      <th>foreign</th>\n",
       "      <td>0.5</td>\n",
       "      <td>0.000000</td>\n",
       "    </tr>\n",
       "    <tr>\n",
       "      <th>states</th>\n",
       "      <td>0.5</td>\n",
       "      <td>0.504145</td>\n",
       "    </tr>\n",
       "    <tr>\n",
       "      <th>great</th>\n",
       "      <td>0.5</td>\n",
       "      <td>0.304145</td>\n",
       "    </tr>\n",
       "    <tr>\n",
       "      <th>government</th>\n",
       "      <td>0.5</td>\n",
       "      <td>0.808290</td>\n",
       "    </tr>\n",
       "  </tbody>\n",
       "</table>\n",
       "</div>"
      ],
      "text/plain": [
       "            abs_topic1  abs_topic2\n",
       "foreign            0.5    0.000000\n",
       "states             0.5    0.504145\n",
       "great              0.5    0.304145\n",
       "government         0.5    0.808290"
      ]
     },
     "execution_count": 34,
     "metadata": {},
     "output_type": "execute_result"
    }
   ],
   "source": [
    "final_matrix1=encoding_matrix1.sort_values('abs_topic1',ascending=False)\n",
    "final_matrix1[[\"abs_topic1\",\"abs_topic2\"]]"
   ]
  },
  {
   "cell_type": "code",
   "execution_count": 35,
   "metadata": {},
   "outputs": [
    {
     "data": {
      "text/html": [
       "<div>\n",
       "<style scoped>\n",
       "    .dataframe tbody tr th:only-of-type {\n",
       "        vertical-align: middle;\n",
       "    }\n",
       "\n",
       "    .dataframe tbody tr th {\n",
       "        vertical-align: top;\n",
       "    }\n",
       "\n",
       "    .dataframe thead th {\n",
       "        text-align: right;\n",
       "    }\n",
       "</style>\n",
       "<table border=\"1\" class=\"dataframe\">\n",
       "  <thead>\n",
       "    <tr style=\"text-align: right;\">\n",
       "      <th></th>\n",
       "      <th>abs_topic2</th>\n",
       "    </tr>\n",
       "  </thead>\n",
       "  <tbody>\n",
       "    <tr>\n",
       "      <th>states</th>\n",
       "      <td>0.504145</td>\n",
       "    </tr>\n",
       "    <tr>\n",
       "      <th>government</th>\n",
       "      <td>0.808290</td>\n",
       "    </tr>\n",
       "  </tbody>\n",
       "</table>\n",
       "</div>"
      ],
      "text/plain": [
       "            abs_topic2\n",
       "states        0.504145\n",
       "government    0.808290"
      ]
     },
     "execution_count": 35,
     "metadata": {},
     "output_type": "execute_result"
    }
   ],
   "source": [
    "\n",
    "sentence3 = final_matrix1[final_matrix1[\"abs_topic2\"] >= 0.4]\n",
    "sentence3[['abs_topic2']]\n"
   ]
  },
  {
   "cell_type": "code",
   "execution_count": 36,
   "metadata": {},
   "outputs": [
    {
     "data": {
      "text/plain": [
       "['government', 'states']"
      ]
     },
     "execution_count": 36,
     "metadata": {},
     "output_type": "execute_result"
    }
   ],
   "source": [
    "#selecting two words according to their absolute values.\n",
    "count=0\n",
    "heading_final_line=[]\n",
    "heading_topic_final_df=[]\n",
    "corr_sorted_desc = []\n",
    "corr_values=[]\n",
    "for i in final_matrix1[\"abs_topic2\"]:\n",
    "    corr_values.append(i)\n",
    "corr_sorted_desc.extend(sorted(corr_values,reverse=True))\n",
    "for i in corr_sorted_desc:\n",
    "    if count==2:\n",
    "        break\n",
    "    heading_topic_final_df.append(final_matrix1[final_matrix1[\"abs_topic2\"] == i])\n",
    "    count=count+1\n",
    "\n",
    "\n",
    "for i in heading_topic_final_df:\n",
    "    heading_final_line.extend(i.index.values)\n",
    "\n",
    "heading_final_line\n",
    "\n"
   ]
  },
  {
   "cell_type": "code",
   "execution_count": 37,
   "metadata": {},
   "outputs": [],
   "source": [
    "#output 2-word heading in new file\n",
    "with open('final_heading.txt', 'w') as filehandle:\n",
    "    for listitem in heading_final_line:\n",
    "        filehandle.write('%s\\n' % listitem)\n"
   ]
  }
 ],
 "metadata": {
  "kernelspec": {
   "display_name": "Python 3",
   "language": "python",
   "name": "python3"
  },
  "language_info": {
   "codemirror_mode": {
    "name": "ipython",
    "version": 3
   },
   "file_extension": ".py",
   "mimetype": "text/x-python",
   "name": "python",
   "nbconvert_exporter": "python",
   "pygments_lexer": "ipython3",
   "version": "3.9.6 (tags/v3.9.6:db3ff76, Jun 28 2021, 15:26:21) [MSC v.1929 64 bit (AMD64)]"
  },
  "orig_nbformat": 4,
  "vscode": {
   "interpreter": {
    "hash": "8b2e37b41e001ca1129809f0c88577fc595d7813eddff4f14ec8461c07872299"
   }
  }
 },
 "nbformat": 4,
 "nbformat_minor": 2
}
