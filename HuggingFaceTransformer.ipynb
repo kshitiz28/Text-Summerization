{
 "cells": [
  {
   "cell_type": "code",
   "execution_count": 11,
   "metadata": {},
   "outputs": [],
   "source": [
    "#importing\n",
    "from transformers import pipeline"
   ]
  },
  {
   "cell_type": "code",
   "execution_count": 12,
   "metadata": {},
   "outputs": [
    {
     "name": "stderr",
     "output_type": "stream",
     "text": [
      "No model was supplied, defaulted to t5-small and revision d769bba (https://huggingface.co/t5-small).\n",
      "Using a pipeline without specifying a model name and revision in production is not recommended.\n",
      "All model checkpoint layers were used when initializing TFT5ForConditionalGeneration.\n",
      "\n",
      "All the layers of TFT5ForConditionalGeneration were initialized from the model checkpoint at t5-small.\n",
      "If your task is similar to the task the model of the checkpoint was trained on, you can already use TFT5ForConditionalGeneration for predictions without further training.\n",
      "c:\\Users\\Kshitiz\\AppData\\Local\\Programs\\Python\\Python39\\lib\\site-packages\\transformers\\models\\t5\\tokenization_t5_fast.py:156: FutureWarning: This tokenizer was incorrectly instantiated with a model max length of 512 which will be corrected in Transformers v5.\n",
      "For now, this behavior is kept to avoid breaking backwards compatibility when padding/encoding with `truncation is True`.\n",
      "- Be aware that you SHOULD NOT rely on t5-small automatically truncating your input to 512 when padding/encoding.\n",
      "- If you want to encode/pad to sequences longer than 512 you can either instantiate this tokenizer with `model_max_length` or pass `max_length` when encoding/padding.\n",
      "- To avoid this warning, please instantiate this tokenizer with `model_max_length` set to your preferred value.\n",
      "  warnings.warn(\n"
     ]
    }
   ],
   "source": [
    "#loading summarizer pipeline\n",
    "summarizer=pipeline('summarization')"
   ]
  },
  {
   "cell_type": "code",
   "execution_count": 13,
   "metadata": {},
   "outputs": [],
   "source": [
    "# #article to be summarized\n",
    "# with open(\"final_output.txt\") as file_in:\n",
    "#     lines = []\n",
    "#     for line in file_in:\n",
    "#         lines.append(line)\n",
    "# doc_test = []\n",
    "# for i in range(len(lines)):\n",
    "#     doc_test.append(lines[i].split('.'))\n",
    "\n",
    "# final_doc = []\n",
    "# for i in range(len(doc_test)):\n",
    "#     for j in range(len(doc_test[i])):\n",
    "#         final_doc.append(doc_test[i][j])\n",
    "\n",
    "# final_doc\n",
    "article = \"\"\"Soil degradation induces some soils to be nutrient depleted losing their capacity to support crops, while others have such a high nutrient concentration that represent a toxic environment to plants and animals, pollutes the environment and cause climate change.\n",
    "Poudel said the World Soil Day is being marked with the main goal of raising extensive public awareness to tackle this growing problem of loss in soil fertility.\n",
    "The soil fertility is deteriorating throughout the world including in Nepal in the recent years with the declining physical, chemical and biological features of the soil.\n",
    "The World Soil Day is being celebrated at the national level today in Nepal amidst various programmes under the aegis of the Department, Central Agricultural Laboratory, the National Soil Science Research Centre(NARC), Food and Nutrition Security Improvement Project, Rural Enterprises and Economic Development Project, United Nations, Food and Agriculture Organization and the Nepalese Society of Soil Science. The theme of the World Soil Day this year is 'Soils: where food begins.\n",
    "World Soil Day 2022 and its campaign \"Soils: Where food begins\" aims to raise awareness of the importance of maintaining healthy ecosystems and human well-being by addressing the growing challenges in soil management, increasing soil awareness and encouraging societies to improve soil health.' Soil is at the heart of all agricultural activities, food security, nutrition security and climate conservation.The World Soil Day is being observed today globally as well as in Nepal with the objective of raising public awareness on the significance of healthy soil and for the sustainable management of the soil fertility.Director General of the Department, Dr Rewati Raman Poudel said that the debate about food and nutritional security, sustainable agriculture development, conservation of bio-diversity and organic agriculture will have no meaning without the conservation, promotion and proper management of soil. Therefore, this problem of declining soil fertility has been taken as the common global problem.\n",
    "The World Soil Day programme reiterates the importance of soil for mankind and the crucial need for its conservation and proper management while at the same time increasing its fertility, the Department of Agriculture said.The United Nations General Assembly had in December 2013 declared December 5, 2014 as the World Soil Day and it was formally marked throughout the world since then.\n",
    "\"\"\"\n"
   ]
  },
  {
   "cell_type": "code",
   "execution_count": 14,
   "metadata": {},
   "outputs": [],
   "source": [
    "l = len(list(article.split()))\n"
   ]
  },
  {
   "cell_type": "code",
   "execution_count": 16,
   "metadata": {},
   "outputs": [
    {
     "data": {
      "text/plain": [
       "'the world soil day is being marked with the main goal of raising extensive public awareness to tackle this growing problem of soil fertility . the soil fertility is deteriorating throughout the world including in Nepal in the recent years with the declining physical, chemical and biological features of the soil .'"
      ]
     },
     "execution_count": 16,
     "metadata": {},
     "output_type": "execute_result"
    }
   ],
   "source": [
    "#summarizer with length and article to be summarized\n",
    "summarizer(article,max_length=l,do_sample=False)[0]['summary_text']"
   ]
  }
 ],
 "metadata": {
  "kernelspec": {
   "display_name": "Python 3.9.6 64-bit",
   "language": "python",
   "name": "python3"
  },
  "language_info": {
   "codemirror_mode": {
    "name": "ipython",
    "version": 3
   },
   "file_extension": ".py",
   "mimetype": "text/x-python",
   "name": "python",
   "nbconvert_exporter": "python",
   "pygments_lexer": "ipython3",
   "version": "3.9.6"
  },
  "orig_nbformat": 4,
  "vscode": {
   "interpreter": {
    "hash": "8b2e37b41e001ca1129809f0c88577fc595d7813eddff4f14ec8461c07872299"
   }
  }
 },
 "nbformat": 4,
 "nbformat_minor": 2
}
