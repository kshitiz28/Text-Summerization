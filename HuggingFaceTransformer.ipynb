{
 "cells": [
  {
   "cell_type": "code",
   "execution_count": 1,
   "metadata": {},
   "outputs": [
    {
     "name": "stderr",
     "output_type": "stream",
     "text": [
      "c:\\Users\\Kshitiz\\AppData\\Local\\Programs\\Python\\Python39\\lib\\site-packages\\tqdm\\auto.py:22: TqdmWarning: IProgress not found. Please update jupyter and ipywidgets. See https://ipywidgets.readthedocs.io/en/stable/user_install.html\n",
      "  from .autonotebook import tqdm as notebook_tqdm\n"
     ]
    }
   ],
   "source": [
    "#importing\n",
    "from transformers import pipeline"
   ]
  },
  {
   "cell_type": "code",
   "execution_count": 2,
   "metadata": {},
   "outputs": [
    {
     "name": "stderr",
     "output_type": "stream",
     "text": [
      "No model was supplied, defaulted to t5-small and revision d769bba (https://huggingface.co/t5-small).\n",
      "Using a pipeline without specifying a model name and revision in production is not recommended.\n",
      "All model checkpoint layers were used when initializing TFT5ForConditionalGeneration.\n",
      "\n",
      "All the layers of TFT5ForConditionalGeneration were initialized from the model checkpoint at t5-small.\n",
      "If your task is similar to the task the model of the checkpoint was trained on, you can already use TFT5ForConditionalGeneration for predictions without further training.\n",
      "c:\\Users\\Kshitiz\\AppData\\Local\\Programs\\Python\\Python39\\lib\\site-packages\\transformers\\models\\t5\\tokenization_t5_fast.py:156: FutureWarning: This tokenizer was incorrectly instantiated with a model max length of 512 which will be corrected in Transformers v5.\n",
      "For now, this behavior is kept to avoid breaking backwards compatibility when padding/encoding with `truncation is True`.\n",
      "- Be aware that you SHOULD NOT rely on t5-small automatically truncating your input to 512 when padding/encoding.\n",
      "- If you want to encode/pad to sequences longer than 512 you can either instantiate this tokenizer with `model_max_length` or pass `max_length` when encoding/padding.\n",
      "- To avoid this warning, please instantiate this tokenizer with `model_max_length` set to your preferred value.\n",
      "  warnings.warn(\n"
     ]
    }
   ],
   "source": [
    "#loading summarizer pipeline\n",
    "summarizer=pipeline('summarization')"
   ]
  },
  {
   "cell_type": "code",
   "execution_count": 14,
   "metadata": {},
   "outputs": [],
   "source": [
    "# #article to be summarized\n",
    "# with open(\"final_output.txt\") as file_in:\n",
    "#     lines = []\n",
    "#     for line in file_in:\n",
    "#         lines.append(line)\n",
    "# doc_test = []\n",
    "# for i in range(len(lines)):\n",
    "#     doc_test.append(lines[i].split('.'))\n",
    "\n",
    "# final_doc = []\n",
    "# for i in range(len(doc_test)):\n",
    "#     for j in range(len(doc_test[i])):\n",
    "#         final_doc.append(doc_test[i][j])\n",
    "\n",
    "# final_doc\n",
    "article = \"\"\"\n",
    "Thank you. Thank you. \n",
    "Thank you to Vice President Pence. \n",
    "He's a good guy. We've done a great job together.\n",
    "And Merry Christmas, Michigan. Thank you, Michigan. \n",
    "What a victory we had in Michigan. What a victory was that. One of the greats.\n",
    "Was that the greatest evening? \n",
    "But I'm thrilled to be here with thousands of hardworking patriots as we celebrate the miracle of Christmas, the greatness of America and the glory of God. Thank you very much. And did you notice that everybody is saying Merry Christmas again? Did you notice? Saying Merry Christmas. I remember when I first started this beautiful trip, this beautiful journey, I just said to the First Lady, \"You are so lucky. I took you on this fantastic journey. It's so much fun. They want to impeach you. They want to do worse than that.\" By the way, by the way, by the way, it doesn't really feel like we're being impeached. The country is doing better than ever before. We did nothing wrong. We did nothing wrong. And we have tremendous support in the Republican Party like we've never had before. Nobody's ever had this kind of support. But this sacred season, our country is thriving and it's thriving truly like it has never, it has never happened before to the extent what's happening now. And by the way, your state, because of us, not because of local government, but because of us, because of the job that we've done. Because I understand she's not fixing those potholes. That's what the word is. It was all about roads and they want to raise those gasoline taxes on you. We don't want to do that. \n",
    "\"\"\"\n"
   ]
  },
  {
   "cell_type": "code",
   "execution_count": 15,
   "metadata": {},
   "outputs": [
    {
     "data": {
      "text/plain": [
       "\"we've done a great job together, and Merry Christmas, Michigan . the country is doing better than ever before, and it's thriving truly like it has never . we have tremendous support in the Republican Party like we have never had before . but this sacred season, our country is thriving and it hasn't happened before to the extent what's happening now, he says . he's thrilled to be here with thousands of hardworking patriots as we celebrate the miracle of Christmas .\""
      ]
     },
     "execution_count": 15,
     "metadata": {},
     "output_type": "execute_result"
    }
   ],
   "source": [
    "#summarizer with length and article to be summarized\n",
    "summarizer(article,max_length=200,min_length=100,do_sample=False)[0]['summary_text']"
   ]
  }
 ],
 "metadata": {
  "kernelspec": {
   "display_name": "Python 3.9.6 64-bit",
   "language": "python",
   "name": "python3"
  },
  "language_info": {
   "codemirror_mode": {
    "name": "ipython",
    "version": 3
   },
   "file_extension": ".py",
   "mimetype": "text/x-python",
   "name": "python",
   "nbconvert_exporter": "python",
   "pygments_lexer": "ipython3",
   "version": "3.9.6 (tags/v3.9.6:db3ff76, Jun 28 2021, 15:26:21) [MSC v.1929 64 bit (AMD64)]"
  },
  "orig_nbformat": 4,
  "vscode": {
   "interpreter": {
    "hash": "8b2e37b41e001ca1129809f0c88577fc595d7813eddff4f14ec8461c07872299"
   }
  }
 },
 "nbformat": 4,
 "nbformat_minor": 2
}
